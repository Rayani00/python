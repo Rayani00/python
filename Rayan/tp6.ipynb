{
 "metadata": {
  "language_info": {
   "codemirror_mode": {
    "name": "ipython",
    "version": 3
   },
   "file_extension": ".py",
   "mimetype": "text/x-python",
   "name": "python",
   "nbconvert_exporter": "python",
   "pygments_lexer": "ipython3",
   "version": "3.8.5"
  },
  "orig_nbformat": 2,
  "kernelspec": {
   "name": "python38564bitb18b19c92b94474997fd8a03cecd85ce",
   "display_name": "Python 3.8.5 64-bit",
   "language": "python"
  }
 },
 "nbformat": 4,
 "nbformat_minor": 2,
 "cells": [
  {
   "cell_type": "code",
   "execution_count": 1,
   "metadata": {},
   "outputs": [
    {
     "output_type": "error",
     "ename": "SyntaxError",
     "evalue": "invalid syntax (<ipython-input-1-54e2294b6215>, line 7)",
     "traceback": [
      "\u001b[0;36m  File \u001b[0;32m\"<ipython-input-1-54e2294b6215>\"\u001b[0;36m, line \u001b[0;32m7\u001b[0m\n\u001b[0;31m    balance_data = pd.read_csv('balance-scale.data', sep= ',', header= None)balance_data.shape\u001b[0m\n\u001b[0m                                                                            ^\u001b[0m\n\u001b[0;31mSyntaxError\u001b[0m\u001b[0;31m:\u001b[0m invalid syntax\n"
     ]
    }
   ],
   "source": [
    "import pandas as pd\n",
    "import numpy as np\n",
    "from sklearn.model_selection import train_test_split\n",
    "from sklearn.tree import DecisionTreeClassifier\n",
    "from sklearn.metrics import accuracy_score\n",
    "from sklearn import tree\n",
    "balance_data = pd.read_csv('balance-scale.data', sep= ',', header= None)balance_data.shape\n",
    "X = balance_data.values[:, 1:5]\n",
    "Y = balance_data.values[:,0]\n",
    "X_train, X_test, y_train, y_test = train_test_split( X, Y, test_size = 0.3)clf_entropy   =   DecisionTreeClassifier(criterion   =   \"entropy\",   max_depth=3,min_samples_leaf=5)\n",
    "clf_entropy.fit(X_train, y_train)\n",
    "y_pred_en = clf_entropy.predict(X_test)\n",
    "print (\"Accuracy is \", accuracy_score(y_test,y_pred_en)*100)\n"
   ]
  },
  {
   "cell_type": "code",
   "execution_count": null,
   "metadata": {},
   "outputs": [],
   "source": []
  }
 ]
}