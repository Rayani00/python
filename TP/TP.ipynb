{
 "metadata": {
  "language_info": {
   "codemirror_mode": {
    "name": "ipython",
    "version": 3
   },
   "file_extension": ".py",
   "mimetype": "text/x-python",
   "name": "python",
   "nbconvert_exporter": "python",
   "pygments_lexer": "ipython3",
   "version": "3.8.5"
  },
  "orig_nbformat": 2,
  "kernelspec": {
   "name": "python385jvsc74a57bd03a0c5018934094a1d15b8243b82f6b9d321b0e6d990e90e78d113ef77360d042",
   "display_name": "Python 3.8.5 64-bit ('base': conda)"
  },
  "metadata": {
   "interpreter": {
    "hash": "3a0c5018934094a1d15b8243b82f6b9d321b0e6d990e90e78d113ef77360d042"
   }
  }
 },
 "nbformat": 4,
 "nbformat_minor": 2,
 "cells": [
  {
   "source": [
    "# Example 1"
   ],
   "cell_type": "markdown",
   "metadata": {}
  },
  {
   "cell_type": "code",
   "execution_count": 1,
   "metadata": {},
   "outputs": [],
   "source": [
    "## Importing libraries\n",
    "import pandas as pd\n",
    "from mlxtend.preprocessing import TransactionEncoder"
   ]
  },
  {
   "cell_type": "code",
   "execution_count": 2,
   "metadata": {},
   "outputs": [],
   "source": [
    "## Creating a Dataset \n",
    "dataset = [['f', 'a', 'c', 'd', 'g', 'i', 'm', 'p'],\n",
    " ['a', 'b', 'c', 'f', 'l', 'm', 'o'],\n",
    " ['b', 'f', 'h', 'j', 'o'],\n",
    " ['b', 'c', 'k', 's', 'p'],\n",
    " ['a', 'f', 'c', 'e', 'l', 'p', 'm', 'n']]"
   ]
  },
  {
   "cell_type": "code",
   "execution_count": 3,
   "metadata": {},
   "outputs": [],
   "source": [
    "## We use the TransactionEncoder Object to transform the dataset \n",
    "## into an array format encoded in NumPy boolean array\n",
    "te = TransactionEncoder()\n",
    "\n",
    "## Now using the fit method we transform it into a boolean array\n",
    "te_ary = te.fit(dataset).transform(dataset)\n",
    "df = pd.DataFrame(te_ary, columns=te.columns_)\n",
    "\n"
   ]
  },
  {
   "cell_type": "code",
   "execution_count": 4,
   "metadata": {},
   "outputs": [
    {
     "output_type": "execute_result",
     "data": {
      "text/plain": [
       "       a      b      c      d      e      f      g      h      i      j  \\\n",
       "0   True  False   True   True  False   True   True  False   True  False   \n",
       "1   True   True   True  False  False   True  False  False  False  False   \n",
       "2  False   True  False  False  False   True  False   True  False   True   \n",
       "3  False   True   True  False  False  False  False  False  False  False   \n",
       "4   True  False   True  False   True   True  False  False  False  False   \n",
       "\n",
       "       k      l      m      n      o      p      s  \n",
       "0  False  False   True  False  False   True  False  \n",
       "1  False   True   True  False   True  False  False  \n",
       "2  False  False  False  False   True  False  False  \n",
       "3   True  False  False  False  False   True   True  \n",
       "4  False   True   True   True  False   True  False  "
      ],
      "text/html": "<div>\n<style scoped>\n    .dataframe tbody tr th:only-of-type {\n        vertical-align: middle;\n    }\n\n    .dataframe tbody tr th {\n        vertical-align: top;\n    }\n\n    .dataframe thead th {\n        text-align: right;\n    }\n</style>\n<table border=\"1\" class=\"dataframe\">\n  <thead>\n    <tr style=\"text-align: right;\">\n      <th></th>\n      <th>a</th>\n      <th>b</th>\n      <th>c</th>\n      <th>d</th>\n      <th>e</th>\n      <th>f</th>\n      <th>g</th>\n      <th>h</th>\n      <th>i</th>\n      <th>j</th>\n      <th>k</th>\n      <th>l</th>\n      <th>m</th>\n      <th>n</th>\n      <th>o</th>\n      <th>p</th>\n      <th>s</th>\n    </tr>\n  </thead>\n  <tbody>\n    <tr>\n      <th>0</th>\n      <td>True</td>\n      <td>False</td>\n      <td>True</td>\n      <td>True</td>\n      <td>False</td>\n      <td>True</td>\n      <td>True</td>\n      <td>False</td>\n      <td>True</td>\n      <td>False</td>\n      <td>False</td>\n      <td>False</td>\n      <td>True</td>\n      <td>False</td>\n      <td>False</td>\n      <td>True</td>\n      <td>False</td>\n    </tr>\n    <tr>\n      <th>1</th>\n      <td>True</td>\n      <td>True</td>\n      <td>True</td>\n      <td>False</td>\n      <td>False</td>\n      <td>True</td>\n      <td>False</td>\n      <td>False</td>\n      <td>False</td>\n      <td>False</td>\n      <td>False</td>\n      <td>True</td>\n      <td>True</td>\n      <td>False</td>\n      <td>True</td>\n      <td>False</td>\n      <td>False</td>\n    </tr>\n    <tr>\n      <th>2</th>\n      <td>False</td>\n      <td>True</td>\n      <td>False</td>\n      <td>False</td>\n      <td>False</td>\n      <td>True</td>\n      <td>False</td>\n      <td>True</td>\n      <td>False</td>\n      <td>True</td>\n      <td>False</td>\n      <td>False</td>\n      <td>False</td>\n      <td>False</td>\n      <td>True</td>\n      <td>False</td>\n      <td>False</td>\n    </tr>\n    <tr>\n      <th>3</th>\n      <td>False</td>\n      <td>True</td>\n      <td>True</td>\n      <td>False</td>\n      <td>False</td>\n      <td>False</td>\n      <td>False</td>\n      <td>False</td>\n      <td>False</td>\n      <td>False</td>\n      <td>True</td>\n      <td>False</td>\n      <td>False</td>\n      <td>False</td>\n      <td>False</td>\n      <td>True</td>\n      <td>True</td>\n    </tr>\n    <tr>\n      <th>4</th>\n      <td>True</td>\n      <td>False</td>\n      <td>True</td>\n      <td>False</td>\n      <td>True</td>\n      <td>True</td>\n      <td>False</td>\n      <td>False</td>\n      <td>False</td>\n      <td>False</td>\n      <td>False</td>\n      <td>True</td>\n      <td>True</td>\n      <td>True</td>\n      <td>False</td>\n      <td>True</td>\n      <td>False</td>\n    </tr>\n  </tbody>\n</table>\n</div>"
     },
     "metadata": {},
     "execution_count": 4
    }
   ],
   "source": [
    "df"
   ]
  },
  {
   "cell_type": "code",
   "execution_count": 6,
   "metadata": {},
   "outputs": [],
   "source": [
    "from mlxtend.frequent_patterns import apriori"
   ]
  },
  {
   "cell_type": "code",
   "execution_count": 7,
   "metadata": {},
   "outputs": [],
   "source": [
    "## The apriori algorithm defines frequent items\n",
    "## Here the min_support is set to 0.5 so it will \n",
    "## extract items that occurs at least 0.5 times in the dataset\n",
    "frequent_itemsets = apriori(df, min_support=0.5, use_colnames=True)\n",
    "## We add a length column to frequent_itemsets \n",
    "## We apply a lambda function to make x equals len(x)\n",
    "frequent_itemsets['length'] = frequent_itemsets['itemsets'].apply(lambda x : len(x))"
   ]
  },
  {
   "cell_type": "code",
   "execution_count": 8,
   "metadata": {},
   "outputs": [
    {
     "output_type": "execute_result",
     "data": {
      "text/plain": [
       "    support      itemsets  length\n",
       "0       0.6           (a)       1\n",
       "1       0.6           (b)       1\n",
       "2       0.8           (c)       1\n",
       "3       0.8           (f)       1\n",
       "4       0.6           (m)       1\n",
       "5       0.6           (p)       1\n",
       "6       0.6        (a, c)       2\n",
       "7       0.6        (a, f)       2\n",
       "8       0.6        (a, m)       2\n",
       "9       0.6        (f, c)       2\n",
       "10      0.6        (m, c)       2\n",
       "11      0.6        (p, c)       2\n",
       "12      0.6        (f, m)       2\n",
       "13      0.6     (a, f, c)       3\n",
       "14      0.6     (a, m, c)       3\n",
       "15      0.6     (a, f, m)       3\n",
       "16      0.6     (f, m, c)       3\n",
       "17      0.6  (a, f, m, c)       4"
      ],
      "text/html": "<div>\n<style scoped>\n    .dataframe tbody tr th:only-of-type {\n        vertical-align: middle;\n    }\n\n    .dataframe tbody tr th {\n        vertical-align: top;\n    }\n\n    .dataframe thead th {\n        text-align: right;\n    }\n</style>\n<table border=\"1\" class=\"dataframe\">\n  <thead>\n    <tr style=\"text-align: right;\">\n      <th></th>\n      <th>support</th>\n      <th>itemsets</th>\n      <th>length</th>\n    </tr>\n  </thead>\n  <tbody>\n    <tr>\n      <th>0</th>\n      <td>0.6</td>\n      <td>(a)</td>\n      <td>1</td>\n    </tr>\n    <tr>\n      <th>1</th>\n      <td>0.6</td>\n      <td>(b)</td>\n      <td>1</td>\n    </tr>\n    <tr>\n      <th>2</th>\n      <td>0.8</td>\n      <td>(c)</td>\n      <td>1</td>\n    </tr>\n    <tr>\n      <th>3</th>\n      <td>0.8</td>\n      <td>(f)</td>\n      <td>1</td>\n    </tr>\n    <tr>\n      <th>4</th>\n      <td>0.6</td>\n      <td>(m)</td>\n      <td>1</td>\n    </tr>\n    <tr>\n      <th>5</th>\n      <td>0.6</td>\n      <td>(p)</td>\n      <td>1</td>\n    </tr>\n    <tr>\n      <th>6</th>\n      <td>0.6</td>\n      <td>(a, c)</td>\n      <td>2</td>\n    </tr>\n    <tr>\n      <th>7</th>\n      <td>0.6</td>\n      <td>(a, f)</td>\n      <td>2</td>\n    </tr>\n    <tr>\n      <th>8</th>\n      <td>0.6</td>\n      <td>(a, m)</td>\n      <td>2</td>\n    </tr>\n    <tr>\n      <th>9</th>\n      <td>0.6</td>\n      <td>(f, c)</td>\n      <td>2</td>\n    </tr>\n    <tr>\n      <th>10</th>\n      <td>0.6</td>\n      <td>(m, c)</td>\n      <td>2</td>\n    </tr>\n    <tr>\n      <th>11</th>\n      <td>0.6</td>\n      <td>(p, c)</td>\n      <td>2</td>\n    </tr>\n    <tr>\n      <th>12</th>\n      <td>0.6</td>\n      <td>(f, m)</td>\n      <td>2</td>\n    </tr>\n    <tr>\n      <th>13</th>\n      <td>0.6</td>\n      <td>(a, f, c)</td>\n      <td>3</td>\n    </tr>\n    <tr>\n      <th>14</th>\n      <td>0.6</td>\n      <td>(a, m, c)</td>\n      <td>3</td>\n    </tr>\n    <tr>\n      <th>15</th>\n      <td>0.6</td>\n      <td>(a, f, m)</td>\n      <td>3</td>\n    </tr>\n    <tr>\n      <th>16</th>\n      <td>0.6</td>\n      <td>(f, m, c)</td>\n      <td>3</td>\n    </tr>\n    <tr>\n      <th>17</th>\n      <td>0.6</td>\n      <td>(a, f, m, c)</td>\n      <td>4</td>\n    </tr>\n  </tbody>\n</table>\n</div>"
     },
     "metadata": {},
     "execution_count": 8
    }
   ],
   "source": [
    "frequent_itemsets"
   ]
  },
  {
   "cell_type": "code",
   "execution_count": 12,
   "metadata": {},
   "outputs": [
    {
     "output_type": "execute_result",
     "data": {
      "text/plain": [
       "    support      itemsets  length\n",
       "4       0.6           (m)       1\n",
       "8       0.6        (a, m)       2\n",
       "10      0.6        (m, c)       2\n",
       "12      0.6        (f, m)       2\n",
       "14      0.6     (a, m, c)       3\n",
       "15      0.6     (a, f, m)       3\n",
       "16      0.6     (f, m, c)       3\n",
       "17      0.6  (a, f, m, c)       4"
      ],
      "text/html": "<div>\n<style scoped>\n    .dataframe tbody tr th:only-of-type {\n        vertical-align: middle;\n    }\n\n    .dataframe tbody tr th {\n        vertical-align: top;\n    }\n\n    .dataframe thead th {\n        text-align: right;\n    }\n</style>\n<table border=\"1\" class=\"dataframe\">\n  <thead>\n    <tr style=\"text-align: right;\">\n      <th></th>\n      <th>support</th>\n      <th>itemsets</th>\n      <th>length</th>\n    </tr>\n  </thead>\n  <tbody>\n    <tr>\n      <th>4</th>\n      <td>0.6</td>\n      <td>(m)</td>\n      <td>1</td>\n    </tr>\n    <tr>\n      <th>8</th>\n      <td>0.6</td>\n      <td>(a, m)</td>\n      <td>2</td>\n    </tr>\n    <tr>\n      <th>10</th>\n      <td>0.6</td>\n      <td>(m, c)</td>\n      <td>2</td>\n    </tr>\n    <tr>\n      <th>12</th>\n      <td>0.6</td>\n      <td>(f, m)</td>\n      <td>2</td>\n    </tr>\n    <tr>\n      <th>14</th>\n      <td>0.6</td>\n      <td>(a, m, c)</td>\n      <td>3</td>\n    </tr>\n    <tr>\n      <th>15</th>\n      <td>0.6</td>\n      <td>(a, f, m)</td>\n      <td>3</td>\n    </tr>\n    <tr>\n      <th>16</th>\n      <td>0.6</td>\n      <td>(f, m, c)</td>\n      <td>3</td>\n    </tr>\n    <tr>\n      <th>17</th>\n      <td>0.6</td>\n      <td>(a, f, m, c)</td>\n      <td>4</td>\n    </tr>\n  </tbody>\n</table>\n</div>"
     },
     "metadata": {},
     "execution_count": 12
    }
   ],
   "source": [
    "frequent_itemsets[(frequent_itemsets['length'] == 2) & (frequent_itemsets['support'] >= 0.6)]\n",
    "## When we use the first constraints line it will takes the items\n",
    "## That contains f and m in their itemsets column\n",
    "frequent_itemsets[frequent_itemsets['itemsets'] == {'f','m'}]\n",
    "\n",
    "## When we use the second constraints line it will takes the items\n",
    "## That contains f and m in their itemsets column\n",
    "## and the pat is a literal string\n",
    "frequent_itemsets[frequent_itemsets['itemsets'].str.contains('m', regex = False)]"
   ]
  },
  {
   "source": [
    "## Example 2 "
   ],
   "cell_type": "markdown",
   "metadata": {}
  },
  {
   "cell_type": "code",
   "execution_count": 13,
   "metadata": {},
   "outputs": [],
   "source": [
    "from mlxtend.frequent_patterns import association_rules"
   ]
  },
  {
   "cell_type": "code",
   "execution_count": 18,
   "metadata": {},
   "outputs": [
    {
     "output_type": "execute_result",
     "data": {
      "text/plain": [
       "    Perspective_Couvert  Perspective_Pluie  Perspective_Soleil  Temps_Bon  \\\n",
       "0                     0                  0                   1          0   \n",
       "1                     0                  0                   1          0   \n",
       "2                     1                  0                   0          0   \n",
       "3                     0                  1                   0          1   \n",
       "4                     0                  1                   0          0   \n",
       "5                     0                  1                   0          0   \n",
       "6                     1                  0                   0          0   \n",
       "7                     0                  0                   1          1   \n",
       "8                     0                  0                   1          0   \n",
       "9                     0                  1                   0          1   \n",
       "10                    0                  0                   1          1   \n",
       "11                    1                  0                   0          1   \n",
       "12                    1                  0                   0          0   \n",
       "13                    0                  1                   0          1   \n",
       "\n",
       "    Temps_Chaud  Temps_Frais  Humidité_Haute  Humidité_Normale  Vent_Doux  \\\n",
       "0             1            0               1                 0          1   \n",
       "1             1            0               1                 0          0   \n",
       "2             1            0               1                 0          1   \n",
       "3             0            0               1                 0          1   \n",
       "4             0            1               0                 1          1   \n",
       "5             0            1               0                 1          0   \n",
       "6             0            1               0                 1          0   \n",
       "7             0            0               1                 0          1   \n",
       "8             0            1               0                 1          1   \n",
       "9             0            0               0                 1          1   \n",
       "10            0            0               0                 1          0   \n",
       "11            0            0               1                 0          0   \n",
       "12            1            0               0                 1          1   \n",
       "13            0            0               1                 0          0   \n",
       "\n",
       "    Vent_Fort  Jogging_Non  Jogging_Oui  \n",
       "0           0            1            0  \n",
       "1           1            1            0  \n",
       "2           0            0            1  \n",
       "3           0            0            1  \n",
       "4           0            0            1  \n",
       "5           1            1            0  \n",
       "6           1            0            1  \n",
       "7           0            1            0  \n",
       "8           0            0            1  \n",
       "9           0            0            1  \n",
       "10          1            0            1  \n",
       "11          1            0            1  \n",
       "12          0            0            1  \n",
       "13          1            1            0  "
      ],
      "text/html": "<div>\n<style scoped>\n    .dataframe tbody tr th:only-of-type {\n        vertical-align: middle;\n    }\n\n    .dataframe tbody tr th {\n        vertical-align: top;\n    }\n\n    .dataframe thead th {\n        text-align: right;\n    }\n</style>\n<table border=\"1\" class=\"dataframe\">\n  <thead>\n    <tr style=\"text-align: right;\">\n      <th></th>\n      <th>Perspective_Couvert</th>\n      <th>Perspective_Pluie</th>\n      <th>Perspective_Soleil</th>\n      <th>Temps_Bon</th>\n      <th>Temps_Chaud</th>\n      <th>Temps_Frais</th>\n      <th>Humidité_Haute</th>\n      <th>Humidité_Normale</th>\n      <th>Vent_Doux</th>\n      <th>Vent_Fort</th>\n      <th>Jogging_Non</th>\n      <th>Jogging_Oui</th>\n    </tr>\n  </thead>\n  <tbody>\n    <tr>\n      <th>0</th>\n      <td>0</td>\n      <td>0</td>\n      <td>1</td>\n      <td>0</td>\n      <td>1</td>\n      <td>0</td>\n      <td>1</td>\n      <td>0</td>\n      <td>1</td>\n      <td>0</td>\n      <td>1</td>\n      <td>0</td>\n    </tr>\n    <tr>\n      <th>1</th>\n      <td>0</td>\n      <td>0</td>\n      <td>1</td>\n      <td>0</td>\n      <td>1</td>\n      <td>0</td>\n      <td>1</td>\n      <td>0</td>\n      <td>0</td>\n      <td>1</td>\n      <td>1</td>\n      <td>0</td>\n    </tr>\n    <tr>\n      <th>2</th>\n      <td>1</td>\n      <td>0</td>\n      <td>0</td>\n      <td>0</td>\n      <td>1</td>\n      <td>0</td>\n      <td>1</td>\n      <td>0</td>\n      <td>1</td>\n      <td>0</td>\n      <td>0</td>\n      <td>1</td>\n    </tr>\n    <tr>\n      <th>3</th>\n      <td>0</td>\n      <td>1</td>\n      <td>0</td>\n      <td>1</td>\n      <td>0</td>\n      <td>0</td>\n      <td>1</td>\n      <td>0</td>\n      <td>1</td>\n      <td>0</td>\n      <td>0</td>\n      <td>1</td>\n    </tr>\n    <tr>\n      <th>4</th>\n      <td>0</td>\n      <td>1</td>\n      <td>0</td>\n      <td>0</td>\n      <td>0</td>\n      <td>1</td>\n      <td>0</td>\n      <td>1</td>\n      <td>1</td>\n      <td>0</td>\n      <td>0</td>\n      <td>1</td>\n    </tr>\n    <tr>\n      <th>5</th>\n      <td>0</td>\n      <td>1</td>\n      <td>0</td>\n      <td>0</td>\n      <td>0</td>\n      <td>1</td>\n      <td>0</td>\n      <td>1</td>\n      <td>0</td>\n      <td>1</td>\n      <td>1</td>\n      <td>0</td>\n    </tr>\n    <tr>\n      <th>6</th>\n      <td>1</td>\n      <td>0</td>\n      <td>0</td>\n      <td>0</td>\n      <td>0</td>\n      <td>1</td>\n      <td>0</td>\n      <td>1</td>\n      <td>0</td>\n      <td>1</td>\n      <td>0</td>\n      <td>1</td>\n    </tr>\n    <tr>\n      <th>7</th>\n      <td>0</td>\n      <td>0</td>\n      <td>1</td>\n      <td>1</td>\n      <td>0</td>\n      <td>0</td>\n      <td>1</td>\n      <td>0</td>\n      <td>1</td>\n      <td>0</td>\n      <td>1</td>\n      <td>0</td>\n    </tr>\n    <tr>\n      <th>8</th>\n      <td>0</td>\n      <td>0</td>\n      <td>1</td>\n      <td>0</td>\n      <td>0</td>\n      <td>1</td>\n      <td>0</td>\n      <td>1</td>\n      <td>1</td>\n      <td>0</td>\n      <td>0</td>\n      <td>1</td>\n    </tr>\n    <tr>\n      <th>9</th>\n      <td>0</td>\n      <td>1</td>\n      <td>0</td>\n      <td>1</td>\n      <td>0</td>\n      <td>0</td>\n      <td>0</td>\n      <td>1</td>\n      <td>1</td>\n      <td>0</td>\n      <td>0</td>\n      <td>1</td>\n    </tr>\n    <tr>\n      <th>10</th>\n      <td>0</td>\n      <td>0</td>\n      <td>1</td>\n      <td>1</td>\n      <td>0</td>\n      <td>0</td>\n      <td>0</td>\n      <td>1</td>\n      <td>0</td>\n      <td>1</td>\n      <td>0</td>\n      <td>1</td>\n    </tr>\n    <tr>\n      <th>11</th>\n      <td>1</td>\n      <td>0</td>\n      <td>0</td>\n      <td>1</td>\n      <td>0</td>\n      <td>0</td>\n      <td>1</td>\n      <td>0</td>\n      <td>0</td>\n      <td>1</td>\n      <td>0</td>\n      <td>1</td>\n    </tr>\n    <tr>\n      <th>12</th>\n      <td>1</td>\n      <td>0</td>\n      <td>0</td>\n      <td>0</td>\n      <td>1</td>\n      <td>0</td>\n      <td>0</td>\n      <td>1</td>\n      <td>1</td>\n      <td>0</td>\n      <td>0</td>\n      <td>1</td>\n    </tr>\n    <tr>\n      <th>13</th>\n      <td>0</td>\n      <td>1</td>\n      <td>0</td>\n      <td>1</td>\n      <td>0</td>\n      <td>0</td>\n      <td>1</td>\n      <td>0</td>\n      <td>0</td>\n      <td>1</td>\n      <td>1</td>\n      <td>0</td>\n    </tr>\n  </tbody>\n</table>\n</div>"
     },
     "metadata": {},
     "execution_count": 18
    }
   ],
   "source": [
    "jogging_data = pd.read_csv('JoggingTitre.csv', sep=',')\n",
    "## We use the getDummies to convert the categorical variables into indicator variables\n",
    "x_dum = pd.get_dummies(jogging_data)\n",
    "x_dum"
   ]
  },
  {
   "cell_type": "code",
   "execution_count": 19,
   "metadata": {},
   "outputs": [
    {
     "output_type": "execute_result",
     "data": {
      "text/plain": [
       "     support                                           itemsets\n",
       "0   0.285714                              (Perspective_Couvert)\n",
       "1   0.357143                                (Perspective_Pluie)\n",
       "2   0.357143                               (Perspective_Soleil)\n",
       "3   0.428571                                        (Temps_Bon)\n",
       "4   0.285714                                      (Temps_Chaud)\n",
       "5   0.285714                                      (Temps_Frais)\n",
       "6   0.500000                                   (Humidité_Haute)\n",
       "7   0.500000                                 (Humidité_Normale)\n",
       "8   0.571429                                        (Vent_Doux)\n",
       "9   0.428571                                        (Vent_Fort)\n",
       "10  0.357143                                      (Jogging_Non)\n",
       "11  0.642857                                      (Jogging_Oui)\n",
       "12  0.285714                 (Perspective_Couvert, Jogging_Oui)\n",
       "13  0.214286                     (Perspective_Pluie, Temps_Bon)\n",
       "14  0.214286              (Humidité_Normale, Perspective_Pluie)\n",
       "15  0.214286                     (Perspective_Pluie, Vent_Doux)\n",
       "16  0.214286                   (Perspective_Pluie, Jogging_Oui)\n",
       "17  0.214286               (Perspective_Soleil, Humidité_Haute)\n",
       "18  0.214286                    (Perspective_Soleil, Vent_Doux)\n",
       "19  0.214286                  (Perspective_Soleil, Jogging_Non)\n",
       "20  0.285714                        (Humidité_Haute, Temps_Bon)\n",
       "21  0.214286                             (Temps_Bon, Vent_Doux)\n",
       "22  0.214286                             (Temps_Bon, Vent_Fort)\n",
       "23  0.285714                           (Temps_Bon, Jogging_Oui)\n",
       "24  0.214286                      (Temps_Chaud, Humidité_Haute)\n",
       "25  0.214286                           (Temps_Chaud, Vent_Doux)\n",
       "26  0.285714                    (Humidité_Normale, Temps_Frais)\n",
       "27  0.214286                         (Temps_Frais, Jogging_Oui)\n",
       "28  0.285714                        (Humidité_Haute, Vent_Doux)\n",
       "29  0.214286                        (Humidité_Haute, Vent_Fort)\n",
       "30  0.285714                      (Humidité_Haute, Jogging_Non)\n",
       "31  0.214286                      (Humidité_Haute, Jogging_Oui)\n",
       "32  0.285714                      (Humidité_Normale, Vent_Doux)\n",
       "33  0.214286                      (Humidité_Normale, Vent_Fort)\n",
       "34  0.428571                    (Humidité_Normale, Jogging_Oui)\n",
       "35  0.428571                           (Vent_Doux, Jogging_Oui)\n",
       "36  0.214286                           (Jogging_Non, Vent_Fort)\n",
       "37  0.214286                           (Vent_Fort, Jogging_Oui)\n",
       "38  0.214286        (Perspective_Pluie, Vent_Doux, Jogging_Oui)\n",
       "39  0.214286  (Perspective_Soleil, Humidité_Haute, Jogging_Non)\n",
       "40  0.214286       (Humidité_Normale, Temps_Frais, Jogging_Oui)\n",
       "41  0.285714         (Humidité_Normale, Vent_Doux, Jogging_Oui)"
      ],
      "text/html": "<div>\n<style scoped>\n    .dataframe tbody tr th:only-of-type {\n        vertical-align: middle;\n    }\n\n    .dataframe tbody tr th {\n        vertical-align: top;\n    }\n\n    .dataframe thead th {\n        text-align: right;\n    }\n</style>\n<table border=\"1\" class=\"dataframe\">\n  <thead>\n    <tr style=\"text-align: right;\">\n      <th></th>\n      <th>support</th>\n      <th>itemsets</th>\n    </tr>\n  </thead>\n  <tbody>\n    <tr>\n      <th>0</th>\n      <td>0.285714</td>\n      <td>(Perspective_Couvert)</td>\n    </tr>\n    <tr>\n      <th>1</th>\n      <td>0.357143</td>\n      <td>(Perspective_Pluie)</td>\n    </tr>\n    <tr>\n      <th>2</th>\n      <td>0.357143</td>\n      <td>(Perspective_Soleil)</td>\n    </tr>\n    <tr>\n      <th>3</th>\n      <td>0.428571</td>\n      <td>(Temps_Bon)</td>\n    </tr>\n    <tr>\n      <th>4</th>\n      <td>0.285714</td>\n      <td>(Temps_Chaud)</td>\n    </tr>\n    <tr>\n      <th>5</th>\n      <td>0.285714</td>\n      <td>(Temps_Frais)</td>\n    </tr>\n    <tr>\n      <th>6</th>\n      <td>0.500000</td>\n      <td>(Humidité_Haute)</td>\n    </tr>\n    <tr>\n      <th>7</th>\n      <td>0.500000</td>\n      <td>(Humidité_Normale)</td>\n    </tr>\n    <tr>\n      <th>8</th>\n      <td>0.571429</td>\n      <td>(Vent_Doux)</td>\n    </tr>\n    <tr>\n      <th>9</th>\n      <td>0.428571</td>\n      <td>(Vent_Fort)</td>\n    </tr>\n    <tr>\n      <th>10</th>\n      <td>0.357143</td>\n      <td>(Jogging_Non)</td>\n    </tr>\n    <tr>\n      <th>11</th>\n      <td>0.642857</td>\n      <td>(Jogging_Oui)</td>\n    </tr>\n    <tr>\n      <th>12</th>\n      <td>0.285714</td>\n      <td>(Perspective_Couvert, Jogging_Oui)</td>\n    </tr>\n    <tr>\n      <th>13</th>\n      <td>0.214286</td>\n      <td>(Perspective_Pluie, Temps_Bon)</td>\n    </tr>\n    <tr>\n      <th>14</th>\n      <td>0.214286</td>\n      <td>(Humidité_Normale, Perspective_Pluie)</td>\n    </tr>\n    <tr>\n      <th>15</th>\n      <td>0.214286</td>\n      <td>(Perspective_Pluie, Vent_Doux)</td>\n    </tr>\n    <tr>\n      <th>16</th>\n      <td>0.214286</td>\n      <td>(Perspective_Pluie, Jogging_Oui)</td>\n    </tr>\n    <tr>\n      <th>17</th>\n      <td>0.214286</td>\n      <td>(Perspective_Soleil, Humidité_Haute)</td>\n    </tr>\n    <tr>\n      <th>18</th>\n      <td>0.214286</td>\n      <td>(Perspective_Soleil, Vent_Doux)</td>\n    </tr>\n    <tr>\n      <th>19</th>\n      <td>0.214286</td>\n      <td>(Perspective_Soleil, Jogging_Non)</td>\n    </tr>\n    <tr>\n      <th>20</th>\n      <td>0.285714</td>\n      <td>(Humidité_Haute, Temps_Bon)</td>\n    </tr>\n    <tr>\n      <th>21</th>\n      <td>0.214286</td>\n      <td>(Temps_Bon, Vent_Doux)</td>\n    </tr>\n    <tr>\n      <th>22</th>\n      <td>0.214286</td>\n      <td>(Temps_Bon, Vent_Fort)</td>\n    </tr>\n    <tr>\n      <th>23</th>\n      <td>0.285714</td>\n      <td>(Temps_Bon, Jogging_Oui)</td>\n    </tr>\n    <tr>\n      <th>24</th>\n      <td>0.214286</td>\n      <td>(Temps_Chaud, Humidité_Haute)</td>\n    </tr>\n    <tr>\n      <th>25</th>\n      <td>0.214286</td>\n      <td>(Temps_Chaud, Vent_Doux)</td>\n    </tr>\n    <tr>\n      <th>26</th>\n      <td>0.285714</td>\n      <td>(Humidité_Normale, Temps_Frais)</td>\n    </tr>\n    <tr>\n      <th>27</th>\n      <td>0.214286</td>\n      <td>(Temps_Frais, Jogging_Oui)</td>\n    </tr>\n    <tr>\n      <th>28</th>\n      <td>0.285714</td>\n      <td>(Humidité_Haute, Vent_Doux)</td>\n    </tr>\n    <tr>\n      <th>29</th>\n      <td>0.214286</td>\n      <td>(Humidité_Haute, Vent_Fort)</td>\n    </tr>\n    <tr>\n      <th>30</th>\n      <td>0.285714</td>\n      <td>(Humidité_Haute, Jogging_Non)</td>\n    </tr>\n    <tr>\n      <th>31</th>\n      <td>0.214286</td>\n      <td>(Humidité_Haute, Jogging_Oui)</td>\n    </tr>\n    <tr>\n      <th>32</th>\n      <td>0.285714</td>\n      <td>(Humidité_Normale, Vent_Doux)</td>\n    </tr>\n    <tr>\n      <th>33</th>\n      <td>0.214286</td>\n      <td>(Humidité_Normale, Vent_Fort)</td>\n    </tr>\n    <tr>\n      <th>34</th>\n      <td>0.428571</td>\n      <td>(Humidité_Normale, Jogging_Oui)</td>\n    </tr>\n    <tr>\n      <th>35</th>\n      <td>0.428571</td>\n      <td>(Vent_Doux, Jogging_Oui)</td>\n    </tr>\n    <tr>\n      <th>36</th>\n      <td>0.214286</td>\n      <td>(Jogging_Non, Vent_Fort)</td>\n    </tr>\n    <tr>\n      <th>37</th>\n      <td>0.214286</td>\n      <td>(Vent_Fort, Jogging_Oui)</td>\n    </tr>\n    <tr>\n      <th>38</th>\n      <td>0.214286</td>\n      <td>(Perspective_Pluie, Vent_Doux, Jogging_Oui)</td>\n    </tr>\n    <tr>\n      <th>39</th>\n      <td>0.214286</td>\n      <td>(Perspective_Soleil, Humidité_Haute, Jogging_Non)</td>\n    </tr>\n    <tr>\n      <th>40</th>\n      <td>0.214286</td>\n      <td>(Humidité_Normale, Temps_Frais, Jogging_Oui)</td>\n    </tr>\n    <tr>\n      <th>41</th>\n      <td>0.285714</td>\n      <td>(Humidité_Normale, Vent_Doux, Jogging_Oui)</td>\n    </tr>\n  </tbody>\n</table>\n</div>"
     },
     "metadata": {},
     "execution_count": 19
    }
   ],
   "source": [
    "## It will give us the colnames that have an occurence >= 20% \n",
    "frequent_itemsets02 = apriori(x_dum, min_support=0.2, use_colnames=True)\n",
    "frequent_itemsets02"
   ]
  },
  {
   "cell_type": "code",
   "execution_count": 20,
   "metadata": {},
   "outputs": [
    {
     "output_type": "execute_result",
     "data": {
      "text/plain": [
       "                            antecedents         consequents  \\\n",
       "0                 (Perspective_Couvert)       (Jogging_Oui)   \n",
       "1                         (Temps_Frais)  (Humidité_Normale)   \n",
       "2                    (Humidité_Normale)       (Jogging_Oui)   \n",
       "3        (Perspective_Pluie, Vent_Doux)       (Jogging_Oui)   \n",
       "4      (Perspective_Pluie, Jogging_Oui)         (Vent_Doux)   \n",
       "5  (Perspective_Soleil, Humidité_Haute)       (Jogging_Non)   \n",
       "6     (Perspective_Soleil, Jogging_Non)    (Humidité_Haute)   \n",
       "7            (Temps_Frais, Jogging_Oui)  (Humidité_Normale)   \n",
       "8         (Humidité_Normale, Vent_Doux)       (Jogging_Oui)   \n",
       "\n",
       "   antecedent support  consequent support   support  confidence      lift  \\\n",
       "0            0.285714            0.642857  0.285714    1.000000  1.555556   \n",
       "1            0.285714            0.500000  0.285714    1.000000  2.000000   \n",
       "2            0.500000            0.642857  0.428571    0.857143  1.333333   \n",
       "3            0.214286            0.642857  0.214286    1.000000  1.555556   \n",
       "4            0.214286            0.571429  0.214286    1.000000  1.750000   \n",
       "5            0.214286            0.357143  0.214286    1.000000  2.800000   \n",
       "6            0.214286            0.500000  0.214286    1.000000  2.000000   \n",
       "7            0.214286            0.500000  0.214286    1.000000  2.000000   \n",
       "8            0.285714            0.642857  0.285714    1.000000  1.555556   \n",
       "\n",
       "   leverage  conviction  \n",
       "0  0.102041         inf  \n",
       "1  0.142857         inf  \n",
       "2  0.107143         2.5  \n",
       "3  0.076531         inf  \n",
       "4  0.091837         inf  \n",
       "5  0.137755         inf  \n",
       "6  0.107143         inf  \n",
       "7  0.107143         inf  \n",
       "8  0.102041         inf  "
      ],
      "text/html": "<div>\n<style scoped>\n    .dataframe tbody tr th:only-of-type {\n        vertical-align: middle;\n    }\n\n    .dataframe tbody tr th {\n        vertical-align: top;\n    }\n\n    .dataframe thead th {\n        text-align: right;\n    }\n</style>\n<table border=\"1\" class=\"dataframe\">\n  <thead>\n    <tr style=\"text-align: right;\">\n      <th></th>\n      <th>antecedents</th>\n      <th>consequents</th>\n      <th>antecedent support</th>\n      <th>consequent support</th>\n      <th>support</th>\n      <th>confidence</th>\n      <th>lift</th>\n      <th>leverage</th>\n      <th>conviction</th>\n    </tr>\n  </thead>\n  <tbody>\n    <tr>\n      <th>0</th>\n      <td>(Perspective_Couvert)</td>\n      <td>(Jogging_Oui)</td>\n      <td>0.285714</td>\n      <td>0.642857</td>\n      <td>0.285714</td>\n      <td>1.000000</td>\n      <td>1.555556</td>\n      <td>0.102041</td>\n      <td>inf</td>\n    </tr>\n    <tr>\n      <th>1</th>\n      <td>(Temps_Frais)</td>\n      <td>(Humidité_Normale)</td>\n      <td>0.285714</td>\n      <td>0.500000</td>\n      <td>0.285714</td>\n      <td>1.000000</td>\n      <td>2.000000</td>\n      <td>0.142857</td>\n      <td>inf</td>\n    </tr>\n    <tr>\n      <th>2</th>\n      <td>(Humidité_Normale)</td>\n      <td>(Jogging_Oui)</td>\n      <td>0.500000</td>\n      <td>0.642857</td>\n      <td>0.428571</td>\n      <td>0.857143</td>\n      <td>1.333333</td>\n      <td>0.107143</td>\n      <td>2.5</td>\n    </tr>\n    <tr>\n      <th>3</th>\n      <td>(Perspective_Pluie, Vent_Doux)</td>\n      <td>(Jogging_Oui)</td>\n      <td>0.214286</td>\n      <td>0.642857</td>\n      <td>0.214286</td>\n      <td>1.000000</td>\n      <td>1.555556</td>\n      <td>0.076531</td>\n      <td>inf</td>\n    </tr>\n    <tr>\n      <th>4</th>\n      <td>(Perspective_Pluie, Jogging_Oui)</td>\n      <td>(Vent_Doux)</td>\n      <td>0.214286</td>\n      <td>0.571429</td>\n      <td>0.214286</td>\n      <td>1.000000</td>\n      <td>1.750000</td>\n      <td>0.091837</td>\n      <td>inf</td>\n    </tr>\n    <tr>\n      <th>5</th>\n      <td>(Perspective_Soleil, Humidité_Haute)</td>\n      <td>(Jogging_Non)</td>\n      <td>0.214286</td>\n      <td>0.357143</td>\n      <td>0.214286</td>\n      <td>1.000000</td>\n      <td>2.800000</td>\n      <td>0.137755</td>\n      <td>inf</td>\n    </tr>\n    <tr>\n      <th>6</th>\n      <td>(Perspective_Soleil, Jogging_Non)</td>\n      <td>(Humidité_Haute)</td>\n      <td>0.214286</td>\n      <td>0.500000</td>\n      <td>0.214286</td>\n      <td>1.000000</td>\n      <td>2.000000</td>\n      <td>0.107143</td>\n      <td>inf</td>\n    </tr>\n    <tr>\n      <th>7</th>\n      <td>(Temps_Frais, Jogging_Oui)</td>\n      <td>(Humidité_Normale)</td>\n      <td>0.214286</td>\n      <td>0.500000</td>\n      <td>0.214286</td>\n      <td>1.000000</td>\n      <td>2.000000</td>\n      <td>0.107143</td>\n      <td>inf</td>\n    </tr>\n    <tr>\n      <th>8</th>\n      <td>(Humidité_Normale, Vent_Doux)</td>\n      <td>(Jogging_Oui)</td>\n      <td>0.285714</td>\n      <td>0.642857</td>\n      <td>0.285714</td>\n      <td>1.000000</td>\n      <td>1.555556</td>\n      <td>0.102041</td>\n      <td>inf</td>\n    </tr>\n  </tbody>\n</table>\n</div>"
     },
     "metadata": {},
     "execution_count": 20
    }
   ],
   "source": [
    "## It gives the rules that can occure with level of confidence that is above 80%\n",
    "ARules02 = association_rules(frequent_itemsets02, metric=\"confidence\", min_threshold=0.8)\n",
    "ARules02"
   ]
  },
  {
   "cell_type": "code",
   "execution_count": 23,
   "metadata": {},
   "outputs": [
    {
     "output_type": "execute_result",
     "data": {
      "text/plain": [
       "                            antecedents         consequents   support  \\\n",
       "0                 (Perspective_Couvert)       (Jogging_Oui)  0.285714   \n",
       "1                         (Temps_Frais)  (Humidité_Normale)  0.285714   \n",
       "2                    (Humidité_Normale)       (Jogging_Oui)  0.428571   \n",
       "3        (Perspective_Pluie, Vent_Doux)       (Jogging_Oui)  0.214286   \n",
       "4      (Perspective_Pluie, Jogging_Oui)         (Vent_Doux)  0.214286   \n",
       "5  (Perspective_Soleil, Humidité_Haute)       (Jogging_Non)  0.214286   \n",
       "6     (Perspective_Soleil, Jogging_Non)    (Humidité_Haute)  0.214286   \n",
       "7            (Temps_Frais, Jogging_Oui)  (Humidité_Normale)  0.214286   \n",
       "8         (Humidité_Normale, Vent_Doux)       (Jogging_Oui)  0.285714   \n",
       "\n",
       "   confidence  \n",
       "0    1.000000  \n",
       "1    1.000000  \n",
       "2    0.857143  \n",
       "3    1.000000  \n",
       "4    1.000000  \n",
       "5    1.000000  \n",
       "6    1.000000  \n",
       "7    1.000000  \n",
       "8    1.000000  "
      ],
      "text/html": "<div>\n<style scoped>\n    .dataframe tbody tr th:only-of-type {\n        vertical-align: middle;\n    }\n\n    .dataframe tbody tr th {\n        vertical-align: top;\n    }\n\n    .dataframe thead th {\n        text-align: right;\n    }\n</style>\n<table border=\"1\" class=\"dataframe\">\n  <thead>\n    <tr style=\"text-align: right;\">\n      <th></th>\n      <th>antecedents</th>\n      <th>consequents</th>\n      <th>support</th>\n      <th>confidence</th>\n    </tr>\n  </thead>\n  <tbody>\n    <tr>\n      <th>0</th>\n      <td>(Perspective_Couvert)</td>\n      <td>(Jogging_Oui)</td>\n      <td>0.285714</td>\n      <td>1.000000</td>\n    </tr>\n    <tr>\n      <th>1</th>\n      <td>(Temps_Frais)</td>\n      <td>(Humidité_Normale)</td>\n      <td>0.285714</td>\n      <td>1.000000</td>\n    </tr>\n    <tr>\n      <th>2</th>\n      <td>(Humidité_Normale)</td>\n      <td>(Jogging_Oui)</td>\n      <td>0.428571</td>\n      <td>0.857143</td>\n    </tr>\n    <tr>\n      <th>3</th>\n      <td>(Perspective_Pluie, Vent_Doux)</td>\n      <td>(Jogging_Oui)</td>\n      <td>0.214286</td>\n      <td>1.000000</td>\n    </tr>\n    <tr>\n      <th>4</th>\n      <td>(Perspective_Pluie, Jogging_Oui)</td>\n      <td>(Vent_Doux)</td>\n      <td>0.214286</td>\n      <td>1.000000</td>\n    </tr>\n    <tr>\n      <th>5</th>\n      <td>(Perspective_Soleil, Humidité_Haute)</td>\n      <td>(Jogging_Non)</td>\n      <td>0.214286</td>\n      <td>1.000000</td>\n    </tr>\n    <tr>\n      <th>6</th>\n      <td>(Perspective_Soleil, Jogging_Non)</td>\n      <td>(Humidité_Haute)</td>\n      <td>0.214286</td>\n      <td>1.000000</td>\n    </tr>\n    <tr>\n      <th>7</th>\n      <td>(Temps_Frais, Jogging_Oui)</td>\n      <td>(Humidité_Normale)</td>\n      <td>0.214286</td>\n      <td>1.000000</td>\n    </tr>\n    <tr>\n      <th>8</th>\n      <td>(Humidité_Normale, Vent_Doux)</td>\n      <td>(Jogging_Oui)</td>\n      <td>0.285714</td>\n      <td>1.000000</td>\n    </tr>\n  </tbody>\n</table>\n</div>"
     },
     "metadata": {},
     "execution_count": 23
    }
   ],
   "source": [
    "## Here we select the columns we want to see\n",
    "ARules02.iloc[0:,0:4]\n",
    "ARules02.iloc[0:,[0,1,4,5]]\n"
   ]
  },
  {
   "cell_type": "code",
   "execution_count": 24,
   "metadata": {},
   "outputs": [
    {
     "output_type": "execute_result",
     "data": {
      "text/plain": [
       "                            antecedents    consequents  antecedent support  \\\n",
       "0                 (Perspective_Couvert)  (Jogging_Oui)            0.285714   \n",
       "2                    (Humidité_Normale)  (Jogging_Oui)            0.500000   \n",
       "3        (Perspective_Pluie, Vent_Doux)  (Jogging_Oui)            0.214286   \n",
       "5  (Perspective_Soleil, Humidité_Haute)  (Jogging_Non)            0.214286   \n",
       "8         (Humidité_Normale, Vent_Doux)  (Jogging_Oui)            0.285714   \n",
       "\n",
       "   consequent support   support  confidence      lift  leverage  conviction  \n",
       "0            0.642857  0.285714    1.000000  1.555556  0.102041         inf  \n",
       "2            0.642857  0.428571    0.857143  1.333333  0.107143         2.5  \n",
       "3            0.642857  0.214286    1.000000  1.555556  0.076531         inf  \n",
       "5            0.357143  0.214286    1.000000  2.800000  0.137755         inf  \n",
       "8            0.642857  0.285714    1.000000  1.555556  0.102041         inf  "
      ],
      "text/html": "<div>\n<style scoped>\n    .dataframe tbody tr th:only-of-type {\n        vertical-align: middle;\n    }\n\n    .dataframe tbody tr th {\n        vertical-align: top;\n    }\n\n    .dataframe thead th {\n        text-align: right;\n    }\n</style>\n<table border=\"1\" class=\"dataframe\">\n  <thead>\n    <tr style=\"text-align: right;\">\n      <th></th>\n      <th>antecedents</th>\n      <th>consequents</th>\n      <th>antecedent support</th>\n      <th>consequent support</th>\n      <th>support</th>\n      <th>confidence</th>\n      <th>lift</th>\n      <th>leverage</th>\n      <th>conviction</th>\n    </tr>\n  </thead>\n  <tbody>\n    <tr>\n      <th>0</th>\n      <td>(Perspective_Couvert)</td>\n      <td>(Jogging_Oui)</td>\n      <td>0.285714</td>\n      <td>0.642857</td>\n      <td>0.285714</td>\n      <td>1.000000</td>\n      <td>1.555556</td>\n      <td>0.102041</td>\n      <td>inf</td>\n    </tr>\n    <tr>\n      <th>2</th>\n      <td>(Humidité_Normale)</td>\n      <td>(Jogging_Oui)</td>\n      <td>0.500000</td>\n      <td>0.642857</td>\n      <td>0.428571</td>\n      <td>0.857143</td>\n      <td>1.333333</td>\n      <td>0.107143</td>\n      <td>2.5</td>\n    </tr>\n    <tr>\n      <th>3</th>\n      <td>(Perspective_Pluie, Vent_Doux)</td>\n      <td>(Jogging_Oui)</td>\n      <td>0.214286</td>\n      <td>0.642857</td>\n      <td>0.214286</td>\n      <td>1.000000</td>\n      <td>1.555556</td>\n      <td>0.076531</td>\n      <td>inf</td>\n    </tr>\n    <tr>\n      <th>5</th>\n      <td>(Perspective_Soleil, Humidité_Haute)</td>\n      <td>(Jogging_Non)</td>\n      <td>0.214286</td>\n      <td>0.357143</td>\n      <td>0.214286</td>\n      <td>1.000000</td>\n      <td>2.800000</td>\n      <td>0.137755</td>\n      <td>inf</td>\n    </tr>\n    <tr>\n      <th>8</th>\n      <td>(Humidité_Normale, Vent_Doux)</td>\n      <td>(Jogging_Oui)</td>\n      <td>0.285714</td>\n      <td>0.642857</td>\n      <td>0.285714</td>\n      <td>1.000000</td>\n      <td>1.555556</td>\n      <td>0.102041</td>\n      <td>inf</td>\n    </tr>\n  </tbody>\n</table>\n</div>"
     },
     "metadata": {},
     "execution_count": 24
    }
   ],
   "source": [
    "## We fix the consequents to see the antecedents thats suits with\n",
    "ARules02[(ARules02['consequents'] == {'Jogging_Oui'})|(ARules02['consequents'] == {'Jogging_Non'})]"
   ]
  },
  {
   "source": [
    "## Part 2"
   ],
   "cell_type": "markdown",
   "metadata": {}
  },
  {
   "source": [
    "### Exercice 1 "
   ],
   "cell_type": "markdown",
   "metadata": {}
  },
  {
   "cell_type": "code",
   "execution_count": 37,
   "metadata": {},
   "outputs": [],
   "source": [
    "import pandas as pd\n",
    "import numpy as np\n",
    "import sys\n",
    "from itertools import combinations, groupby\n",
    "from collections import Counter\n",
    "from IPython.display import display"
   ]
  },
  {
   "cell_type": "code",
   "execution_count": 39,
   "metadata": {},
   "outputs": [],
   "source": [
    "def size(obj):\n",
    "    return \"{0:.2f} MB\".format(sys.getsizeof(obj) / (1000 * 1000))"
   ]
  },
  {
   "cell_type": "code",
   "execution_count": 40,
   "metadata": {},
   "outputs": [
    {
     "output_type": "error",
     "ename": "FileNotFoundError",
     "evalue": "[Errno 2] No such file or directory: '../input/order_products__prior.csv'",
     "traceback": [
      "\u001b[0;31m---------------------------------------------------------------------------\u001b[0m",
      "\u001b[0;31mFileNotFoundError\u001b[0m                         Traceback (most recent call last)",
      "\u001b[0;32m<ipython-input-40-88c85d6873e8>\u001b[0m in \u001b[0;36m<module>\u001b[0;34m\u001b[0m\n\u001b[0;32m----> 1\u001b[0;31m \u001b[0morders\u001b[0m \u001b[0;34m=\u001b[0m \u001b[0mpd\u001b[0m\u001b[0;34m.\u001b[0m\u001b[0mread_csv\u001b[0m\u001b[0;34m(\u001b[0m\u001b[0;34m'../input/order_products__prior.csv'\u001b[0m\u001b[0;34m)\u001b[0m\u001b[0;34m\u001b[0m\u001b[0;34m\u001b[0m\u001b[0m\n\u001b[0m\u001b[1;32m      2\u001b[0m \u001b[0mprint\u001b[0m\u001b[0;34m(\u001b[0m\u001b[0;34m'orders -- dimensions: {0};   size: {1}'\u001b[0m\u001b[0;34m.\u001b[0m\u001b[0mformat\u001b[0m\u001b[0;34m(\u001b[0m\u001b[0morders\u001b[0m\u001b[0;34m.\u001b[0m\u001b[0mshape\u001b[0m\u001b[0;34m,\u001b[0m \u001b[0msize\u001b[0m\u001b[0;34m(\u001b[0m\u001b[0morders\u001b[0m\u001b[0;34m)\u001b[0m\u001b[0;34m)\u001b[0m\u001b[0;34m)\u001b[0m\u001b[0;34m\u001b[0m\u001b[0;34m\u001b[0m\u001b[0m\n\u001b[1;32m      3\u001b[0m \u001b[0mdisplay\u001b[0m\u001b[0;34m(\u001b[0m\u001b[0morders\u001b[0m\u001b[0;34m.\u001b[0m\u001b[0mhead\u001b[0m\u001b[0;34m(\u001b[0m\u001b[0;34m)\u001b[0m\u001b[0;34m)\u001b[0m\u001b[0;34m\u001b[0m\u001b[0;34m\u001b[0m\u001b[0m\n",
      "\u001b[0;32m~/anaconda3/lib/python3.8/site-packages/pandas/io/parsers.py\u001b[0m in \u001b[0;36mread_csv\u001b[0;34m(filepath_or_buffer, sep, delimiter, header, names, index_col, usecols, squeeze, prefix, mangle_dupe_cols, dtype, engine, converters, true_values, false_values, skipinitialspace, skiprows, skipfooter, nrows, na_values, keep_default_na, na_filter, verbose, skip_blank_lines, parse_dates, infer_datetime_format, keep_date_col, date_parser, dayfirst, cache_dates, iterator, chunksize, compression, thousands, decimal, lineterminator, quotechar, quoting, doublequote, escapechar, comment, encoding, dialect, error_bad_lines, warn_bad_lines, delim_whitespace, low_memory, memory_map, float_precision)\u001b[0m\n\u001b[1;32m    684\u001b[0m     )\n\u001b[1;32m    685\u001b[0m \u001b[0;34m\u001b[0m\u001b[0m\n\u001b[0;32m--> 686\u001b[0;31m     \u001b[0;32mreturn\u001b[0m \u001b[0m_read\u001b[0m\u001b[0;34m(\u001b[0m\u001b[0mfilepath_or_buffer\u001b[0m\u001b[0;34m,\u001b[0m \u001b[0mkwds\u001b[0m\u001b[0;34m)\u001b[0m\u001b[0;34m\u001b[0m\u001b[0;34m\u001b[0m\u001b[0m\n\u001b[0m\u001b[1;32m    687\u001b[0m \u001b[0;34m\u001b[0m\u001b[0m\n\u001b[1;32m    688\u001b[0m \u001b[0;34m\u001b[0m\u001b[0m\n",
      "\u001b[0;32m~/anaconda3/lib/python3.8/site-packages/pandas/io/parsers.py\u001b[0m in \u001b[0;36m_read\u001b[0;34m(filepath_or_buffer, kwds)\u001b[0m\n\u001b[1;32m    450\u001b[0m \u001b[0;34m\u001b[0m\u001b[0m\n\u001b[1;32m    451\u001b[0m     \u001b[0;31m# Create the parser.\u001b[0m\u001b[0;34m\u001b[0m\u001b[0;34m\u001b[0m\u001b[0;34m\u001b[0m\u001b[0m\n\u001b[0;32m--> 452\u001b[0;31m     \u001b[0mparser\u001b[0m \u001b[0;34m=\u001b[0m \u001b[0mTextFileReader\u001b[0m\u001b[0;34m(\u001b[0m\u001b[0mfp_or_buf\u001b[0m\u001b[0;34m,\u001b[0m \u001b[0;34m**\u001b[0m\u001b[0mkwds\u001b[0m\u001b[0;34m)\u001b[0m\u001b[0;34m\u001b[0m\u001b[0;34m\u001b[0m\u001b[0m\n\u001b[0m\u001b[1;32m    453\u001b[0m \u001b[0;34m\u001b[0m\u001b[0m\n\u001b[1;32m    454\u001b[0m     \u001b[0;32mif\u001b[0m \u001b[0mchunksize\u001b[0m \u001b[0;32mor\u001b[0m \u001b[0miterator\u001b[0m\u001b[0;34m:\u001b[0m\u001b[0;34m\u001b[0m\u001b[0;34m\u001b[0m\u001b[0m\n",
      "\u001b[0;32m~/anaconda3/lib/python3.8/site-packages/pandas/io/parsers.py\u001b[0m in \u001b[0;36m__init__\u001b[0;34m(self, f, engine, **kwds)\u001b[0m\n\u001b[1;32m    944\u001b[0m             \u001b[0mself\u001b[0m\u001b[0;34m.\u001b[0m\u001b[0moptions\u001b[0m\u001b[0;34m[\u001b[0m\u001b[0;34m\"has_index_names\"\u001b[0m\u001b[0;34m]\u001b[0m \u001b[0;34m=\u001b[0m \u001b[0mkwds\u001b[0m\u001b[0;34m[\u001b[0m\u001b[0;34m\"has_index_names\"\u001b[0m\u001b[0;34m]\u001b[0m\u001b[0;34m\u001b[0m\u001b[0;34m\u001b[0m\u001b[0m\n\u001b[1;32m    945\u001b[0m \u001b[0;34m\u001b[0m\u001b[0m\n\u001b[0;32m--> 946\u001b[0;31m         \u001b[0mself\u001b[0m\u001b[0;34m.\u001b[0m\u001b[0m_make_engine\u001b[0m\u001b[0;34m(\u001b[0m\u001b[0mself\u001b[0m\u001b[0;34m.\u001b[0m\u001b[0mengine\u001b[0m\u001b[0;34m)\u001b[0m\u001b[0;34m\u001b[0m\u001b[0;34m\u001b[0m\u001b[0m\n\u001b[0m\u001b[1;32m    947\u001b[0m \u001b[0;34m\u001b[0m\u001b[0m\n\u001b[1;32m    948\u001b[0m     \u001b[0;32mdef\u001b[0m \u001b[0mclose\u001b[0m\u001b[0;34m(\u001b[0m\u001b[0mself\u001b[0m\u001b[0;34m)\u001b[0m\u001b[0;34m:\u001b[0m\u001b[0;34m\u001b[0m\u001b[0;34m\u001b[0m\u001b[0m\n",
      "\u001b[0;32m~/anaconda3/lib/python3.8/site-packages/pandas/io/parsers.py\u001b[0m in \u001b[0;36m_make_engine\u001b[0;34m(self, engine)\u001b[0m\n\u001b[1;32m   1176\u001b[0m     \u001b[0;32mdef\u001b[0m \u001b[0m_make_engine\u001b[0m\u001b[0;34m(\u001b[0m\u001b[0mself\u001b[0m\u001b[0;34m,\u001b[0m \u001b[0mengine\u001b[0m\u001b[0;34m=\u001b[0m\u001b[0;34m\"c\"\u001b[0m\u001b[0;34m)\u001b[0m\u001b[0;34m:\u001b[0m\u001b[0;34m\u001b[0m\u001b[0;34m\u001b[0m\u001b[0m\n\u001b[1;32m   1177\u001b[0m         \u001b[0;32mif\u001b[0m \u001b[0mengine\u001b[0m \u001b[0;34m==\u001b[0m \u001b[0;34m\"c\"\u001b[0m\u001b[0;34m:\u001b[0m\u001b[0;34m\u001b[0m\u001b[0;34m\u001b[0m\u001b[0m\n\u001b[0;32m-> 1178\u001b[0;31m             \u001b[0mself\u001b[0m\u001b[0;34m.\u001b[0m\u001b[0m_engine\u001b[0m \u001b[0;34m=\u001b[0m \u001b[0mCParserWrapper\u001b[0m\u001b[0;34m(\u001b[0m\u001b[0mself\u001b[0m\u001b[0;34m.\u001b[0m\u001b[0mf\u001b[0m\u001b[0;34m,\u001b[0m \u001b[0;34m**\u001b[0m\u001b[0mself\u001b[0m\u001b[0;34m.\u001b[0m\u001b[0moptions\u001b[0m\u001b[0;34m)\u001b[0m\u001b[0;34m\u001b[0m\u001b[0;34m\u001b[0m\u001b[0m\n\u001b[0m\u001b[1;32m   1179\u001b[0m         \u001b[0;32melse\u001b[0m\u001b[0;34m:\u001b[0m\u001b[0;34m\u001b[0m\u001b[0;34m\u001b[0m\u001b[0m\n\u001b[1;32m   1180\u001b[0m             \u001b[0;32mif\u001b[0m \u001b[0mengine\u001b[0m \u001b[0;34m==\u001b[0m \u001b[0;34m\"python\"\u001b[0m\u001b[0;34m:\u001b[0m\u001b[0;34m\u001b[0m\u001b[0;34m\u001b[0m\u001b[0m\n",
      "\u001b[0;32m~/anaconda3/lib/python3.8/site-packages/pandas/io/parsers.py\u001b[0m in \u001b[0;36m__init__\u001b[0;34m(self, src, **kwds)\u001b[0m\n\u001b[1;32m   2006\u001b[0m         \u001b[0mkwds\u001b[0m\u001b[0;34m[\u001b[0m\u001b[0;34m\"usecols\"\u001b[0m\u001b[0;34m]\u001b[0m \u001b[0;34m=\u001b[0m \u001b[0mself\u001b[0m\u001b[0;34m.\u001b[0m\u001b[0musecols\u001b[0m\u001b[0;34m\u001b[0m\u001b[0;34m\u001b[0m\u001b[0m\n\u001b[1;32m   2007\u001b[0m \u001b[0;34m\u001b[0m\u001b[0m\n\u001b[0;32m-> 2008\u001b[0;31m         \u001b[0mself\u001b[0m\u001b[0;34m.\u001b[0m\u001b[0m_reader\u001b[0m \u001b[0;34m=\u001b[0m \u001b[0mparsers\u001b[0m\u001b[0;34m.\u001b[0m\u001b[0mTextReader\u001b[0m\u001b[0;34m(\u001b[0m\u001b[0msrc\u001b[0m\u001b[0;34m,\u001b[0m \u001b[0;34m**\u001b[0m\u001b[0mkwds\u001b[0m\u001b[0;34m)\u001b[0m\u001b[0;34m\u001b[0m\u001b[0;34m\u001b[0m\u001b[0m\n\u001b[0m\u001b[1;32m   2009\u001b[0m         \u001b[0mself\u001b[0m\u001b[0;34m.\u001b[0m\u001b[0munnamed_cols\u001b[0m \u001b[0;34m=\u001b[0m \u001b[0mself\u001b[0m\u001b[0;34m.\u001b[0m\u001b[0m_reader\u001b[0m\u001b[0;34m.\u001b[0m\u001b[0munnamed_cols\u001b[0m\u001b[0;34m\u001b[0m\u001b[0;34m\u001b[0m\u001b[0m\n\u001b[1;32m   2010\u001b[0m \u001b[0;34m\u001b[0m\u001b[0m\n",
      "\u001b[0;32mpandas/_libs/parsers.pyx\u001b[0m in \u001b[0;36mpandas._libs.parsers.TextReader.__cinit__\u001b[0;34m()\u001b[0m\n",
      "\u001b[0;32mpandas/_libs/parsers.pyx\u001b[0m in \u001b[0;36mpandas._libs.parsers.TextReader._setup_parser_source\u001b[0;34m()\u001b[0m\n",
      "\u001b[0;31mFileNotFoundError\u001b[0m: [Errno 2] No such file or directory: '../input/order_products__prior.csv'"
     ]
    }
   ],
   "source": [
    "orders = pd.read_csv('../input/order_products__prior.csv')\n",
    "print('orders -- dimensions: {0};   size: {1}'.format(orders.shape, size(orders)))\n",
    "display(orders.head())"
   ]
  },
  {
   "cell_type": "code",
   "execution_count": null,
   "metadata": {},
   "outputs": [],
   "source": []
  }
 ]
}