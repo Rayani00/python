{
 "metadata": {
  "language_info": {
   "codemirror_mode": {
    "name": "ipython",
    "version": 3
   },
   "file_extension": ".py",
   "mimetype": "text/x-python",
   "name": "python",
   "nbconvert_exporter": "python",
   "pygments_lexer": "ipython3",
   "version": "3.8.5-final"
  },
  "orig_nbformat": 2,
  "kernelspec": {
   "name": "python38564bitb18b19c92b94474997fd8a03cecd85ce",
   "display_name": "Python 3.8.5 64-bit",
   "language": "python"
  }
 },
 "nbformat": 4,
 "nbformat_minor": 2,
 "cells": [
  {
   "cell_type": "code",
   "execution_count": 8,
   "metadata": {},
   "outputs": [
    {
     "output_type": "stream",
     "name": "stdout",
     "text": [
      "<class 'pandas.core.frame.DataFrame'>\nIndex: 1000 entries, Guardians of the Galaxy to Nine Lives\nData columns (total 11 columns):\n #   Column              Non-Null Count  Dtype  \n---  ------              --------------  -----  \n 0   Rank                1000 non-null   int64  \n 1   Genre               1000 non-null   object \n 2   Description         1000 non-null   object \n 3   Director            1000 non-null   object \n 4   Actors              1000 non-null   object \n 5   Year                1000 non-null   int64  \n 6   Runtime (Minutes)   1000 non-null   int64  \n 7   Rating              1000 non-null   float64\n 8   Votes               1000 non-null   int64  \n 9   Revenue (Millions)  872 non-null    float64\n 10  Metascore           936 non-null    float64\ndtypes: float64(3), int64(4), object(4)\nmemory usage: 93.8+ KB\nNone\n"
     ]
    }
   ],
   "source": [
    "print(movies_df.info())"
   ]
  },
  {
   "cell_type": "code",
   "execution_count": 1,
   "metadata": {},
   "outputs": [],
   "source": [
    "import pandas as pd"
   ]
  },
  {
   "cell_type": "code",
   "execution_count": 2,
   "metadata": {},
   "outputs": [],
   "source": [
    "movies_df = pd.read_csv('IMDB-Movie-Data.csv', index_col=\"Title\")\n"
   ]
  },
  {
   "cell_type": "code",
   "execution_count": 7,
   "metadata": {},
   "outputs": [
    {
     "output_type": "stream",
     "name": "stdout",
     "text": [
      "                         Rank                     Genre  \\\nTitle                                                     \nGuardians of the Galaxy     1   Action,Adventure,Sci-Fi   \nPrometheus                  2  Adventure,Mystery,Sci-Fi   \nSplit                       3           Horror,Thriller   \nSing                        4   Animation,Comedy,Family   \nSuicide Squad               5  Action,Adventure,Fantasy   \n\n                                                               Description  \\\nTitle                                                                        \nGuardians of the Galaxy  A group of intergalactic criminals are forced ...   \nPrometheus               Following clues to the origin of mankind, a te...   \nSplit                    Three girls are kidnapped by a man with a diag...   \nSing                     In a city of humanoid animals, a hustling thea...   \nSuicide Squad            A secret government agency recruits some of th...   \n\n                                     Director  \\\nTitle                                           \nGuardians of the Galaxy            James Gunn   \nPrometheus                       Ridley Scott   \nSplit                      M. Night Shyamalan   \nSing                     Christophe Lourdelet   \nSuicide Squad                      David Ayer   \n\n                                                                    Actors  \\\nTitle                                                                        \nGuardians of the Galaxy  Chris Pratt, Vin Diesel, Bradley Cooper, Zoe S...   \nPrometheus               Noomi Rapace, Logan Marshall-Green, Michael Fa...   \nSplit                    James McAvoy, Anya Taylor-Joy, Haley Lu Richar...   \nSing                     Matthew McConaughey,Reese Witherspoon, Seth Ma...   \nSuicide Squad            Will Smith, Jared Leto, Margot Robbie, Viola D...   \n\n                         Year  Runtime (Minutes)  Rating   Votes  \\\nTitle                                                              \nGuardians of the Galaxy  2014                121     8.1  757074   \nPrometheus               2012                124     7.0  485820   \nSplit                    2016                117     7.3  157606   \nSing                     2016                108     7.2   60545   \nSuicide Squad            2016                123     6.2  393727   \n\n                         Revenue (Millions)  Metascore  \nTitle                                                   \nGuardians of the Galaxy              333.13       76.0  \nPrometheus                           126.46       65.0  \nSplit                                138.12       62.0  \nSing                                 270.32       59.0  \nSuicide Squad                        325.02       40.0  \n"
     ]
    }
   ],
   "source": [
    "print(movies_df.head())"
   ]
  },
  {
   "cell_type": "code",
   "execution_count": 9,
   "metadata": {},
   "outputs": [
    {
     "output_type": "stream",
     "name": "stdout",
     "text": [
      "dataset= (1000, 11)\n"
     ]
    }
   ],
   "source": [
    "print(\"dataset=\", movies_df.shape)"
   ]
  },
  {
   "cell_type": "code",
   "execution_count": 13,
   "metadata": {},
   "outputs": [
    {
     "output_type": "stream",
     "name": "stdout",
     "text": [
      "Columns= Index(['Rank', 'Genre', 'Description', 'Director', 'Actors', 'Year',\n       'Runtime (Minutes)', 'Rating', 'Votes', 'Revenue (Millions)',\n       'Metascore'],\n      dtype='object')\n"
     ]
    }
   ],
   "source": [
    "print(\"Columns=\", movies_df.columns)"
   ]
  },
  {
   "cell_type": "code",
   "execution_count": 3,
   "metadata": {},
   "outputs": [],
   "source": [
    "temp_df = movies_df.dropna()"
   ]
  },
  {
   "cell_type": "code",
   "execution_count": 4,
   "metadata": {},
   "outputs": [
    {
     "output_type": "stream",
     "name": "stdout",
     "text": [
      "<class 'pandas.core.frame.DataFrame'>\nIndex: 838 entries, Guardians of the Galaxy to Nine Lives\nData columns (total 11 columns):\n #   Column              Non-Null Count  Dtype  \n---  ------              --------------  -----  \n 0   Rank                838 non-null    int64  \n 1   Genre               838 non-null    object \n 2   Description         838 non-null    object \n 3   Director            838 non-null    object \n 4   Actors              838 non-null    object \n 5   Year                838 non-null    int64  \n 6   Runtime (Minutes)   838 non-null    int64  \n 7   Rating              838 non-null    float64\n 8   Votes               838 non-null    int64  \n 9   Revenue (Millions)  838 non-null    float64\n 10  Metascore           838 non-null    float64\ndtypes: float64(3), int64(4), object(4)\nmemory usage: 78.6+ KB\nNone\n"
     ]
    }
   ],
   "source": [
    "print(temp_df.info())"
   ]
  },
  {
   "cell_type": "code",
   "execution_count": 20,
   "metadata": {},
   "outputs": [],
   "source": [
    "temp_df = movies_df.dropna(\"columns\")"
   ]
  },
  {
   "cell_type": "code",
   "execution_count": 21,
   "metadata": {},
   "outputs": [
    {
     "output_type": "stream",
     "name": "stdout",
     "text": [
      "<class 'pandas.core.frame.DataFrame'>\nIndex: 1000 entries, Guardians of the Galaxy to Nine Lives\nData columns (total 9 columns):\n #   Column             Non-Null Count  Dtype  \n---  ------             --------------  -----  \n 0   Rank               1000 non-null   int64  \n 1   Genre              1000 non-null   object \n 2   Description        1000 non-null   object \n 3   Director           1000 non-null   object \n 4   Actors             1000 non-null   object \n 5   Year               1000 non-null   int64  \n 6   Runtime (Minutes)  1000 non-null   int64  \n 7   Rating             1000 non-null   float64\n 8   Votes              1000 non-null   int64  \ndtypes: float64(1), int64(4), object(4)\nmemory usage: 78.1+ KB\nNone\n"
     ]
    }
   ],
   "source": [
    "print(temp_df.info())\n"
   ]
  },
  {
   "cell_type": "code",
   "execution_count": 5,
   "metadata": {},
   "outputs": [],
   "source": [
    "revenue = movies_df['Revenue (Millions)']"
   ]
  },
  {
   "cell_type": "code",
   "execution_count": 6,
   "metadata": {},
   "outputs": [],
   "source": [
    "revenue_mean = revenue.mean()"
   ]
  },
  {
   "cell_type": "code",
   "execution_count": null,
   "metadata": {},
   "outputs": [],
   "source": [
    "revenue_mean = revenue.mean()"
   ]
  },
  {
   "cell_type": "code",
   "execution_count": 8,
   "metadata": {},
   "outputs": [],
   "source": [
    "df_temp = temp_df.isnull()"
   ]
  },
  {
   "cell_type": "code",
   "execution_count": 10,
   "metadata": {},
   "outputs": [
    {
     "output_type": "execute_result",
     "data": {
      "text/plain": [
       "0"
      ]
     },
     "metadata": {},
     "execution_count": 10
    }
   ],
   "source": [
    "df_temp.sum().sum()"
   ]
  },
  {
   "cell_type": "code",
   "execution_count": 11,
   "metadata": {},
   "outputs": [
    {
     "output_type": "stream",
     "name": "stdout",
     "text": [
      "Rank                  0\nGenre                 0\nDescription           0\nDirector              0\nActors                0\nYear                  0\nRuntime (Minutes)     0\nRating                0\nVotes                 0\nRevenue (Millions)    0\nMetascore             0\ndtype: int64\n"
     ]
    }
   ],
   "source": [
    "print(temp_df.isnull().sum())"
   ]
  },
  {
   "cell_type": "code",
   "execution_count": 12,
   "metadata": {},
   "outputs": [],
   "source": [
    "df_temp = temp_df.isnull().sum()"
   ]
  },
  {
   "cell_type": "code",
   "execution_count": 13,
   "metadata": {},
   "outputs": [
    {
     "output_type": "stream",
     "name": "stdout",
     "text": [
      "              Rank        Year  Runtime (Minutes)      Rating         Votes  \\\ncount   838.000000   838.00000         838.000000  838.000000  8.380000e+02   \nmean    485.247017  2012.50716         114.638425    6.814320  1.932303e+05   \nstd     286.572065     3.17236          18.470922    0.877754  1.930990e+05   \nmin       1.000000  2006.00000          66.000000    1.900000  1.780000e+02   \n25%     238.250000  2010.00000         101.000000    6.300000  6.127650e+04   \n50%     475.500000  2013.00000         112.000000    6.900000  1.368795e+05   \n75%     729.750000  2015.00000         124.000000    7.500000  2.710830e+05   \nmax    1000.000000  2016.00000         187.000000    9.000000  1.791916e+06   \n\n       Revenue (Millions)   Metascore  \ncount          838.000000  838.000000  \nmean            84.564558   59.575179  \nstd            104.520227   16.952416  \nmin              0.000000   11.000000  \n25%             13.967500   47.000000  \n50%             48.150000   60.000000  \n75%            116.800000   72.000000  \nmax            936.630000  100.000000  \n"
     ]
    }
   ],
   "source": [
    "print(temp_df.describe())"
   ]
  },
  {
   "cell_type": "code",
   "execution_count": 14,
   "metadata": {},
   "outputs": [
    {
     "output_type": "stream",
     "name": "stdout",
     "text": [
      "\n count                        1000\nunique                        207\ntop       Action,Adventure,Sci-Fi\nfreq                           50\nName: Genre, dtype: object\n"
     ]
    }
   ],
   "source": [
    "print(\"\\n\", movies_df['Genre'].describe())"
   ]
  },
  {
   "cell_type": "code",
   "execution_count": 15,
   "metadata": {},
   "outputs": [
    {
     "output_type": "stream",
     "name": "stdout",
     "text": [
      "\n Action,Adventure,Sci-Fi       50\nDrama                         48\nComedy,Drama,Romance          35\nComedy                        32\nDrama,Romance                 31\nComedy,Drama                  27\nAction,Adventure,Fantasy      27\nAnimation,Adventure,Comedy    27\nComedy,Romance                26\nCrime,Drama,Thriller          24\nName: Genre, dtype: int64\n"
     ]
    }
   ],
   "source": [
    "print(\"\\n\", movies_df['Genre'].value_counts().head(10))"
   ]
  },
  {
   "cell_type": "code",
   "execution_count": null,
   "metadata": {},
   "outputs": [],
   "source": []
  }
 ]
}