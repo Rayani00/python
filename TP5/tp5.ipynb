{
 "metadata": {
  "language_info": {
   "codemirror_mode": {
    "name": "ipython",
    "version": 3
   },
   "file_extension": ".py",
   "mimetype": "text/x-python",
   "name": "python",
   "nbconvert_exporter": "python",
   "pygments_lexer": "ipython3",
   "version": "3.8.5-final"
  },
  "orig_nbformat": 2,
  "kernelspec": {
   "name": "python38564bitb18b19c92b94474997fd8a03cecd85ce",
   "display_name": "Python 3.8.5 64-bit",
   "language": "python"
  }
 },
 "nbformat": 4,
 "nbformat_minor": 2,
 "cells": [
  {
   "cell_type": "code",
   "execution_count": 3,
   "metadata": {},
   "outputs": [],
   "source": [
    "import numpy as np\n",
    "import matplotlib\n",
    "import tkinter\n",
    "import _tkinter"
   ]
  },
  {
   "cell_type": "code",
   "execution_count": 4,
   "metadata": {},
   "outputs": [],
   "source": [
    "tkinter._test()"
   ]
  },
  {
   "cell_type": "code",
   "execution_count": 5,
   "metadata": {},
   "outputs": [],
   "source": [
    "import pandas as pd"
   ]
  },
  {
   "cell_type": "code",
   "execution_count": 6,
   "metadata": {},
   "outputs": [],
   "source": [
    "df_ratings = pd.read_csv(\", index_col=\"User\", sep=\",\")"
   ]
  },
  {
   "cell_type": "code",
   "execution_count": 7,
   "metadata": {},
   "outputs": [
    {
     "output_type": "execute_result",
     "data": {
      "text/plain": [
       "           Category 1  Category 2  Category 3  Category 4  Category 5  \\\n",
       "User                                                                    \n",
       "User 1           0.00        0.00        3.63        3.65        5.00   \n",
       "User 2           0.00        0.00        3.63        3.65        5.00   \n",
       "User 3           0.00        0.00        3.63        3.63        5.00   \n",
       "User 4           0.00        0.50        3.63        3.63        5.00   \n",
       "User 5           0.00        0.00        3.63        3.63        5.00   \n",
       "...               ...         ...         ...         ...         ...   \n",
       "User 5452        0.91        5.00        4.00        2.79        2.77   \n",
       "User 5453        0.93        5.00        4.02        2.79        2.78   \n",
       "User 5454        0.94        5.00        4.03        2.80        2.78   \n",
       "User 5455        0.95        4.05        4.05        2.81        2.79   \n",
       "User 5456        0.95        4.07        5.00        2.82        2.80   \n",
       "\n",
       "           Category 6  Category 7  Category 8  Category 9  Category 10  ...  \\\n",
       "User                                                                    ...   \n",
       "User 1           2.92        5.00        2.35        2.33         2.64  ...   \n",
       "User 2           2.92        5.00        2.64        2.33         2.65  ...   \n",
       "User 3           2.92        5.00        2.64        2.33         2.64  ...   \n",
       "User 4           2.92        5.00        2.35        2.33         2.64  ...   \n",
       "User 5           2.92        5.00        2.64        2.33         2.64  ...   \n",
       "...               ...         ...         ...         ...          ...  ...   \n",
       "User 5452        2.57        2.43        1.09        1.77         1.04  ...   \n",
       "User 5453        2.57        1.77        1.07        1.76         1.02  ...   \n",
       "User 5454        2.57        1.75        1.05        1.75         1.00  ...   \n",
       "User 5455        2.44        1.76        1.03        1.74         0.98  ...   \n",
       "User 5456        2.57        2.42        1.02        1.74         0.96  ...   \n",
       "\n",
       "           Category 16  Category 17  Category 18  Category 19  Category 20  \\\n",
       "User                                                                         \n",
       "User 1            0.59         0.50         0.00         0.50         0.00   \n",
       "User 2            0.59         0.50         0.00         0.50         0.00   \n",
       "User 3            0.59         0.50         0.00         0.50         0.00   \n",
       "User 4            0.59         0.50         0.00         0.50         0.00   \n",
       "User 5            0.59         0.50         0.00         0.50         0.00   \n",
       "...                ...          ...          ...          ...          ...   \n",
       "User 5452         0.66         0.65         0.66         0.69         5.00   \n",
       "User 5453         0.65         0.64         0.65         1.59         1.62   \n",
       "User 5454         0.65         0.63         0.64         0.74         5.00   \n",
       "User 5455         0.64         0.63         0.64         0.75         5.00   \n",
       "User 5456         0.64         0.62         0.63         0.78         5.00   \n",
       "\n",
       "           Category 21  Category 22  Category 23  Category 24  Unnamed: 25  \n",
       "User                                                                        \n",
       "User 1            0.00          0.0          0.0         0.00          NaN  \n",
       "User 2            0.00          0.0          0.0         0.00          NaN  \n",
       "User 3            0.00          0.0          0.0         0.00          NaN  \n",
       "User 4            0.00          0.0          0.0         0.00          NaN  \n",
       "User 5            0.00          0.0          0.0         0.00          NaN  \n",
       "...                ...          ...          ...          ...          ...  \n",
       "User 5452         1.05          5.0          5.0         1.56          NaN  \n",
       "User 5453         1.06          5.0          5.0         1.09          NaN  \n",
       "User 5454         1.07          5.0          5.0         1.11          NaN  \n",
       "User 5455         1.08          5.0          5.0         1.12          NaN  \n",
       "User 5456         1.08          5.0          5.0         1.17          NaN  \n",
       "\n",
       "[5456 rows x 25 columns]"
      ],
      "text/html": "<div>\n<style scoped>\n    .dataframe tbody tr th:only-of-type {\n        vertical-align: middle;\n    }\n\n    .dataframe tbody tr th {\n        vertical-align: top;\n    }\n\n    .dataframe thead th {\n        text-align: right;\n    }\n</style>\n<table border=\"1\" class=\"dataframe\">\n  <thead>\n    <tr style=\"text-align: right;\">\n      <th></th>\n      <th>Category 1</th>\n      <th>Category 2</th>\n      <th>Category 3</th>\n      <th>Category 4</th>\n      <th>Category 5</th>\n      <th>Category 6</th>\n      <th>Category 7</th>\n      <th>Category 8</th>\n      <th>Category 9</th>\n      <th>Category 10</th>\n      <th>...</th>\n      <th>Category 16</th>\n      <th>Category 17</th>\n      <th>Category 18</th>\n      <th>Category 19</th>\n      <th>Category 20</th>\n      <th>Category 21</th>\n      <th>Category 22</th>\n      <th>Category 23</th>\n      <th>Category 24</th>\n      <th>Unnamed: 25</th>\n    </tr>\n    <tr>\n      <th>User</th>\n      <th></th>\n      <th></th>\n      <th></th>\n      <th></th>\n      <th></th>\n      <th></th>\n      <th></th>\n      <th></th>\n      <th></th>\n      <th></th>\n      <th></th>\n      <th></th>\n      <th></th>\n      <th></th>\n      <th></th>\n      <th></th>\n      <th></th>\n      <th></th>\n      <th></th>\n      <th></th>\n      <th></th>\n    </tr>\n  </thead>\n  <tbody>\n    <tr>\n      <th>User 1</th>\n      <td>0.00</td>\n      <td>0.00</td>\n      <td>3.63</td>\n      <td>3.65</td>\n      <td>5.00</td>\n      <td>2.92</td>\n      <td>5.00</td>\n      <td>2.35</td>\n      <td>2.33</td>\n      <td>2.64</td>\n      <td>...</td>\n      <td>0.59</td>\n      <td>0.50</td>\n      <td>0.00</td>\n      <td>0.50</td>\n      <td>0.00</td>\n      <td>0.00</td>\n      <td>0.0</td>\n      <td>0.0</td>\n      <td>0.00</td>\n      <td>NaN</td>\n    </tr>\n    <tr>\n      <th>User 2</th>\n      <td>0.00</td>\n      <td>0.00</td>\n      <td>3.63</td>\n      <td>3.65</td>\n      <td>5.00</td>\n      <td>2.92</td>\n      <td>5.00</td>\n      <td>2.64</td>\n      <td>2.33</td>\n      <td>2.65</td>\n      <td>...</td>\n      <td>0.59</td>\n      <td>0.50</td>\n      <td>0.00</td>\n      <td>0.50</td>\n      <td>0.00</td>\n      <td>0.00</td>\n      <td>0.0</td>\n      <td>0.0</td>\n      <td>0.00</td>\n      <td>NaN</td>\n    </tr>\n    <tr>\n      <th>User 3</th>\n      <td>0.00</td>\n      <td>0.00</td>\n      <td>3.63</td>\n      <td>3.63</td>\n      <td>5.00</td>\n      <td>2.92</td>\n      <td>5.00</td>\n      <td>2.64</td>\n      <td>2.33</td>\n      <td>2.64</td>\n      <td>...</td>\n      <td>0.59</td>\n      <td>0.50</td>\n      <td>0.00</td>\n      <td>0.50</td>\n      <td>0.00</td>\n      <td>0.00</td>\n      <td>0.0</td>\n      <td>0.0</td>\n      <td>0.00</td>\n      <td>NaN</td>\n    </tr>\n    <tr>\n      <th>User 4</th>\n      <td>0.00</td>\n      <td>0.50</td>\n      <td>3.63</td>\n      <td>3.63</td>\n      <td>5.00</td>\n      <td>2.92</td>\n      <td>5.00</td>\n      <td>2.35</td>\n      <td>2.33</td>\n      <td>2.64</td>\n      <td>...</td>\n      <td>0.59</td>\n      <td>0.50</td>\n      <td>0.00</td>\n      <td>0.50</td>\n      <td>0.00</td>\n      <td>0.00</td>\n      <td>0.0</td>\n      <td>0.0</td>\n      <td>0.00</td>\n      <td>NaN</td>\n    </tr>\n    <tr>\n      <th>User 5</th>\n      <td>0.00</td>\n      <td>0.00</td>\n      <td>3.63</td>\n      <td>3.63</td>\n      <td>5.00</td>\n      <td>2.92</td>\n      <td>5.00</td>\n      <td>2.64</td>\n      <td>2.33</td>\n      <td>2.64</td>\n      <td>...</td>\n      <td>0.59</td>\n      <td>0.50</td>\n      <td>0.00</td>\n      <td>0.50</td>\n      <td>0.00</td>\n      <td>0.00</td>\n      <td>0.0</td>\n      <td>0.0</td>\n      <td>0.00</td>\n      <td>NaN</td>\n    </tr>\n    <tr>\n      <th>...</th>\n      <td>...</td>\n      <td>...</td>\n      <td>...</td>\n      <td>...</td>\n      <td>...</td>\n      <td>...</td>\n      <td>...</td>\n      <td>...</td>\n      <td>...</td>\n      <td>...</td>\n      <td>...</td>\n      <td>...</td>\n      <td>...</td>\n      <td>...</td>\n      <td>...</td>\n      <td>...</td>\n      <td>...</td>\n      <td>...</td>\n      <td>...</td>\n      <td>...</td>\n      <td>...</td>\n    </tr>\n    <tr>\n      <th>User 5452</th>\n      <td>0.91</td>\n      <td>5.00</td>\n      <td>4.00</td>\n      <td>2.79</td>\n      <td>2.77</td>\n      <td>2.57</td>\n      <td>2.43</td>\n      <td>1.09</td>\n      <td>1.77</td>\n      <td>1.04</td>\n      <td>...</td>\n      <td>0.66</td>\n      <td>0.65</td>\n      <td>0.66</td>\n      <td>0.69</td>\n      <td>5.00</td>\n      <td>1.05</td>\n      <td>5.0</td>\n      <td>5.0</td>\n      <td>1.56</td>\n      <td>NaN</td>\n    </tr>\n    <tr>\n      <th>User 5453</th>\n      <td>0.93</td>\n      <td>5.00</td>\n      <td>4.02</td>\n      <td>2.79</td>\n      <td>2.78</td>\n      <td>2.57</td>\n      <td>1.77</td>\n      <td>1.07</td>\n      <td>1.76</td>\n      <td>1.02</td>\n      <td>...</td>\n      <td>0.65</td>\n      <td>0.64</td>\n      <td>0.65</td>\n      <td>1.59</td>\n      <td>1.62</td>\n      <td>1.06</td>\n      <td>5.0</td>\n      <td>5.0</td>\n      <td>1.09</td>\n      <td>NaN</td>\n    </tr>\n    <tr>\n      <th>User 5454</th>\n      <td>0.94</td>\n      <td>5.00</td>\n      <td>4.03</td>\n      <td>2.80</td>\n      <td>2.78</td>\n      <td>2.57</td>\n      <td>1.75</td>\n      <td>1.05</td>\n      <td>1.75</td>\n      <td>1.00</td>\n      <td>...</td>\n      <td>0.65</td>\n      <td>0.63</td>\n      <td>0.64</td>\n      <td>0.74</td>\n      <td>5.00</td>\n      <td>1.07</td>\n      <td>5.0</td>\n      <td>5.0</td>\n      <td>1.11</td>\n      <td>NaN</td>\n    </tr>\n    <tr>\n      <th>User 5455</th>\n      <td>0.95</td>\n      <td>4.05</td>\n      <td>4.05</td>\n      <td>2.81</td>\n      <td>2.79</td>\n      <td>2.44</td>\n      <td>1.76</td>\n      <td>1.03</td>\n      <td>1.74</td>\n      <td>0.98</td>\n      <td>...</td>\n      <td>0.64</td>\n      <td>0.63</td>\n      <td>0.64</td>\n      <td>0.75</td>\n      <td>5.00</td>\n      <td>1.08</td>\n      <td>5.0</td>\n      <td>5.0</td>\n      <td>1.12</td>\n      <td>NaN</td>\n    </tr>\n    <tr>\n      <th>User 5456</th>\n      <td>0.95</td>\n      <td>4.07</td>\n      <td>5.00</td>\n      <td>2.82</td>\n      <td>2.80</td>\n      <td>2.57</td>\n      <td>2.42</td>\n      <td>1.02</td>\n      <td>1.74</td>\n      <td>0.96</td>\n      <td>...</td>\n      <td>0.64</td>\n      <td>0.62</td>\n      <td>0.63</td>\n      <td>0.78</td>\n      <td>5.00</td>\n      <td>1.08</td>\n      <td>5.0</td>\n      <td>5.0</td>\n      <td>1.17</td>\n      <td>NaN</td>\n    </tr>\n  </tbody>\n</table>\n<p>5456 rows × 25 columns</p>\n</div>"
     },
     "metadata": {},
     "execution_count": 7
    }
   ],
   "source": [
    "df_ratings"
   ]
  },
  {
   "cell_type": "code",
   "execution_count": 8,
   "metadata": {},
   "outputs": [],
   "source": [
    "import sklearn as sk"
   ]
  },
  {
   "cell_type": "code",
   "execution_count": 15,
   "metadata": {},
   "outputs": [
    {
     "output_type": "error",
     "ename": "ValueError",
     "evalue": "Input contains NaN, infinity or a value too large for dtype('float64').",
     "traceback": [
      "\u001b[0;31m---------------------------------------------------------------------------\u001b[0m",
      "\u001b[0;31mValueError\u001b[0m                                Traceback (most recent call last)",
      "\u001b[0;32m<ipython-input-15-7a95227d2e34>\u001b[0m in \u001b[0;36m<module>\u001b[0;34m\u001b[0m\n\u001b[1;32m      3\u001b[0m \u001b[0;32mfor\u001b[0m \u001b[0mi\u001b[0m \u001b[0;32min\u001b[0m \u001b[0mrange\u001b[0m \u001b[0;34m(\u001b[0m\u001b[0;36m1\u001b[0m\u001b[0;34m,\u001b[0m\u001b[0;36m50\u001b[0m\u001b[0;34m)\u001b[0m\u001b[0;34m:\u001b[0m\u001b[0;34m\u001b[0m\u001b[0;34m\u001b[0m\u001b[0m\n\u001b[1;32m      4\u001b[0m     \u001b[0mkmeans\u001b[0m \u001b[0;34m=\u001b[0m \u001b[0mKMeans\u001b[0m \u001b[0;34m(\u001b[0m\u001b[0mn_clusters\u001b[0m\u001b[0;34m=\u001b[0m\u001b[0mi\u001b[0m\u001b[0;34m)\u001b[0m\u001b[0;34m\u001b[0m\u001b[0;34m\u001b[0m\u001b[0m\n\u001b[0;32m----> 5\u001b[0;31m     \u001b[0mkmeans\u001b[0m\u001b[0;34m.\u001b[0m\u001b[0mfit\u001b[0m\u001b[0;34m(\u001b[0m\u001b[0mdf_ratings\u001b[0m\u001b[0;34m)\u001b[0m\u001b[0;34m\u001b[0m\u001b[0;34m\u001b[0m\u001b[0m\n\u001b[0m\u001b[1;32m      6\u001b[0m     \u001b[0mtab\u001b[0m\u001b[0;34m.\u001b[0m\u001b[0mappend\u001b[0m\u001b[0;34m(\u001b[0m\u001b[0mkmeans\u001b[0m\u001b[0;34m.\u001b[0m\u001b[0minertia_\u001b[0m\u001b[0;34m)\u001b[0m\u001b[0;34m\u001b[0m\u001b[0;34m\u001b[0m\u001b[0m\n",
      "\u001b[0;32m~/.local/lib/python3.8/site-packages/sklearn/cluster/_kmeans.py\u001b[0m in \u001b[0;36mfit\u001b[0;34m(self, X, y, sample_weight)\u001b[0m\n\u001b[1;32m    977\u001b[0m             \u001b[0mFitted\u001b[0m \u001b[0mestimator\u001b[0m\u001b[0;34m.\u001b[0m\u001b[0;34m\u001b[0m\u001b[0;34m\u001b[0m\u001b[0m\n\u001b[1;32m    978\u001b[0m         \"\"\"\n\u001b[0;32m--> 979\u001b[0;31m         X = self._validate_data(X, accept_sparse='csr',\n\u001b[0m\u001b[1;32m    980\u001b[0m                                 \u001b[0mdtype\u001b[0m\u001b[0;34m=\u001b[0m\u001b[0;34m[\u001b[0m\u001b[0mnp\u001b[0m\u001b[0;34m.\u001b[0m\u001b[0mfloat64\u001b[0m\u001b[0;34m,\u001b[0m \u001b[0mnp\u001b[0m\u001b[0;34m.\u001b[0m\u001b[0mfloat32\u001b[0m\u001b[0;34m]\u001b[0m\u001b[0;34m,\u001b[0m\u001b[0;34m\u001b[0m\u001b[0;34m\u001b[0m\u001b[0m\n\u001b[1;32m    981\u001b[0m                                 \u001b[0morder\u001b[0m\u001b[0;34m=\u001b[0m\u001b[0;34m'C'\u001b[0m\u001b[0;34m,\u001b[0m \u001b[0mcopy\u001b[0m\u001b[0;34m=\u001b[0m\u001b[0mself\u001b[0m\u001b[0;34m.\u001b[0m\u001b[0mcopy_x\u001b[0m\u001b[0;34m,\u001b[0m\u001b[0;34m\u001b[0m\u001b[0;34m\u001b[0m\u001b[0m\n",
      "\u001b[0;32m~/.local/lib/python3.8/site-packages/sklearn/base.py\u001b[0m in \u001b[0;36m_validate_data\u001b[0;34m(self, X, y, reset, validate_separately, **check_params)\u001b[0m\n\u001b[1;32m    419\u001b[0m             \u001b[0mout\u001b[0m \u001b[0;34m=\u001b[0m \u001b[0mX\u001b[0m\u001b[0;34m\u001b[0m\u001b[0;34m\u001b[0m\u001b[0m\n\u001b[1;32m    420\u001b[0m         \u001b[0;32melif\u001b[0m \u001b[0misinstance\u001b[0m\u001b[0;34m(\u001b[0m\u001b[0my\u001b[0m\u001b[0;34m,\u001b[0m \u001b[0mstr\u001b[0m\u001b[0;34m)\u001b[0m \u001b[0;32mand\u001b[0m \u001b[0my\u001b[0m \u001b[0;34m==\u001b[0m \u001b[0;34m'no_validation'\u001b[0m\u001b[0;34m:\u001b[0m\u001b[0;34m\u001b[0m\u001b[0;34m\u001b[0m\u001b[0m\n\u001b[0;32m--> 421\u001b[0;31m             \u001b[0mX\u001b[0m \u001b[0;34m=\u001b[0m \u001b[0mcheck_array\u001b[0m\u001b[0;34m(\u001b[0m\u001b[0mX\u001b[0m\u001b[0;34m,\u001b[0m \u001b[0;34m**\u001b[0m\u001b[0mcheck_params\u001b[0m\u001b[0;34m)\u001b[0m\u001b[0;34m\u001b[0m\u001b[0;34m\u001b[0m\u001b[0m\n\u001b[0m\u001b[1;32m    422\u001b[0m             \u001b[0mout\u001b[0m \u001b[0;34m=\u001b[0m \u001b[0mX\u001b[0m\u001b[0;34m\u001b[0m\u001b[0;34m\u001b[0m\u001b[0m\n\u001b[1;32m    423\u001b[0m         \u001b[0;32melse\u001b[0m\u001b[0;34m:\u001b[0m\u001b[0;34m\u001b[0m\u001b[0;34m\u001b[0m\u001b[0m\n",
      "\u001b[0;32m~/.local/lib/python3.8/site-packages/sklearn/utils/validation.py\u001b[0m in \u001b[0;36minner_f\u001b[0;34m(*args, **kwargs)\u001b[0m\n\u001b[1;32m     61\u001b[0m             \u001b[0mextra_args\u001b[0m \u001b[0;34m=\u001b[0m \u001b[0mlen\u001b[0m\u001b[0;34m(\u001b[0m\u001b[0margs\u001b[0m\u001b[0;34m)\u001b[0m \u001b[0;34m-\u001b[0m \u001b[0mlen\u001b[0m\u001b[0;34m(\u001b[0m\u001b[0mall_args\u001b[0m\u001b[0;34m)\u001b[0m\u001b[0;34m\u001b[0m\u001b[0;34m\u001b[0m\u001b[0m\n\u001b[1;32m     62\u001b[0m             \u001b[0;32mif\u001b[0m \u001b[0mextra_args\u001b[0m \u001b[0;34m<=\u001b[0m \u001b[0;36m0\u001b[0m\u001b[0;34m:\u001b[0m\u001b[0;34m\u001b[0m\u001b[0;34m\u001b[0m\u001b[0m\n\u001b[0;32m---> 63\u001b[0;31m                 \u001b[0;32mreturn\u001b[0m \u001b[0mf\u001b[0m\u001b[0;34m(\u001b[0m\u001b[0;34m*\u001b[0m\u001b[0margs\u001b[0m\u001b[0;34m,\u001b[0m \u001b[0;34m**\u001b[0m\u001b[0mkwargs\u001b[0m\u001b[0;34m)\u001b[0m\u001b[0;34m\u001b[0m\u001b[0;34m\u001b[0m\u001b[0m\n\u001b[0m\u001b[1;32m     64\u001b[0m \u001b[0;34m\u001b[0m\u001b[0m\n\u001b[1;32m     65\u001b[0m             \u001b[0;31m# extra_args > 0\u001b[0m\u001b[0;34m\u001b[0m\u001b[0;34m\u001b[0m\u001b[0;34m\u001b[0m\u001b[0m\n",
      "\u001b[0;32m~/.local/lib/python3.8/site-packages/sklearn/utils/validation.py\u001b[0m in \u001b[0;36mcheck_array\u001b[0;34m(array, accept_sparse, accept_large_sparse, dtype, order, copy, force_all_finite, ensure_2d, allow_nd, ensure_min_samples, ensure_min_features, estimator)\u001b[0m\n\u001b[1;32m    661\u001b[0m \u001b[0;34m\u001b[0m\u001b[0m\n\u001b[1;32m    662\u001b[0m         \u001b[0;32mif\u001b[0m \u001b[0mforce_all_finite\u001b[0m\u001b[0;34m:\u001b[0m\u001b[0;34m\u001b[0m\u001b[0;34m\u001b[0m\u001b[0m\n\u001b[0;32m--> 663\u001b[0;31m             _assert_all_finite(array,\n\u001b[0m\u001b[1;32m    664\u001b[0m                                allow_nan=force_all_finite == 'allow-nan')\n\u001b[1;32m    665\u001b[0m \u001b[0;34m\u001b[0m\u001b[0m\n",
      "\u001b[0;32m~/.local/lib/python3.8/site-packages/sklearn/utils/validation.py\u001b[0m in \u001b[0;36m_assert_all_finite\u001b[0;34m(X, allow_nan, msg_dtype)\u001b[0m\n\u001b[1;32m    101\u001b[0m                 not allow_nan and not np.isfinite(X).all()):\n\u001b[1;32m    102\u001b[0m             \u001b[0mtype_err\u001b[0m \u001b[0;34m=\u001b[0m \u001b[0;34m'infinity'\u001b[0m \u001b[0;32mif\u001b[0m \u001b[0mallow_nan\u001b[0m \u001b[0;32melse\u001b[0m \u001b[0;34m'NaN, infinity'\u001b[0m\u001b[0;34m\u001b[0m\u001b[0;34m\u001b[0m\u001b[0m\n\u001b[0;32m--> 103\u001b[0;31m             raise ValueError(\n\u001b[0m\u001b[1;32m    104\u001b[0m                     \u001b[0mmsg_err\u001b[0m\u001b[0;34m.\u001b[0m\u001b[0mformat\u001b[0m\u001b[0;34m\u001b[0m\u001b[0;34m\u001b[0m\u001b[0m\n\u001b[1;32m    105\u001b[0m                     (type_err,\n",
      "\u001b[0;31mValueError\u001b[0m: Input contains NaN, infinity or a value too large for dtype('float64')."
     ]
    }
   ],
   "source": [
    "tab = []\n",
    "# On fixe le nombre de clusters a 20 \n",
    "for i in range (1,5):\n",
    "    kmeans = KMeans (n_clusters=i)\n",
    "    kmeans.fit(df_ratings)\n",
    "    tab.append(kmeans.inertia_)"
   ]
  },
  {
   "cell_type": "code",
   "execution_count": 12,
   "metadata": {},
   "outputs": [],
   "source": [
    "from sklearn.cluster import KMeans"
   ]
  },
  {
   "cell_type": "code",
   "execution_count": null,
   "metadata": {},
   "outputs": [],
   "source": []
  }
 ]
}