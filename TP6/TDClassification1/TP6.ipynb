{
 "cells": [
  {
   "cell_type": "markdown",
   "metadata": {},
   "source": [
    "## Exemple 1 : "
   ]
  },
  {
   "cell_type": "code",
   "execution_count": 57,
   "metadata": {},
   "outputs": [],
   "source": [
    "import numpy as np\n",
    "import pandas as pd\n",
    "from sklearn.model_selection import train_test_split\n",
    "from sklearn.tree import DecisionTreeClassifier\n",
    "from sklearn.metrics import accuracy_score\n",
    "from sklearn import tree\n",
    "import graphviz\n",
    "from sklearn.model_selection import KFold"
   ]
  },
  {
   "cell_type": "code",
   "execution_count": 2,
   "metadata": {},
   "outputs": [],
   "source": [
    "# Create DataFrame from 'balance-scale.data'\n",
    "balance_data = pd.read_csv('balance-scale.data',sep=',',header=None)"
   ]
  },
  {
   "cell_type": "code",
   "execution_count": 3,
   "metadata": {},
   "outputs": [
    {
     "data": {
      "text/html": [
       "<div>\n",
       "<style scoped>\n",
       "    .dataframe tbody tr th:only-of-type {\n",
       "        vertical-align: middle;\n",
       "    }\n",
       "\n",
       "    .dataframe tbody tr th {\n",
       "        vertical-align: top;\n",
       "    }\n",
       "\n",
       "    .dataframe thead th {\n",
       "        text-align: right;\n",
       "    }\n",
       "</style>\n",
       "<table border=\"1\" class=\"dataframe\">\n",
       "  <thead>\n",
       "    <tr style=\"text-align: right;\">\n",
       "      <th></th>\n",
       "      <th>0</th>\n",
       "      <th>1</th>\n",
       "      <th>2</th>\n",
       "      <th>3</th>\n",
       "      <th>4</th>\n",
       "    </tr>\n",
       "  </thead>\n",
       "  <tbody>\n",
       "    <tr>\n",
       "      <th>0</th>\n",
       "      <td>B</td>\n",
       "      <td>1</td>\n",
       "      <td>1</td>\n",
       "      <td>1</td>\n",
       "      <td>1</td>\n",
       "    </tr>\n",
       "    <tr>\n",
       "      <th>1</th>\n",
       "      <td>R</td>\n",
       "      <td>1</td>\n",
       "      <td>1</td>\n",
       "      <td>1</td>\n",
       "      <td>2</td>\n",
       "    </tr>\n",
       "    <tr>\n",
       "      <th>2</th>\n",
       "      <td>R</td>\n",
       "      <td>1</td>\n",
       "      <td>1</td>\n",
       "      <td>1</td>\n",
       "      <td>3</td>\n",
       "    </tr>\n",
       "    <tr>\n",
       "      <th>3</th>\n",
       "      <td>R</td>\n",
       "      <td>1</td>\n",
       "      <td>1</td>\n",
       "      <td>1</td>\n",
       "      <td>4</td>\n",
       "    </tr>\n",
       "    <tr>\n",
       "      <th>4</th>\n",
       "      <td>R</td>\n",
       "      <td>1</td>\n",
       "      <td>1</td>\n",
       "      <td>1</td>\n",
       "      <td>5</td>\n",
       "    </tr>\n",
       "    <tr>\n",
       "      <th>...</th>\n",
       "      <td>...</td>\n",
       "      <td>...</td>\n",
       "      <td>...</td>\n",
       "      <td>...</td>\n",
       "      <td>...</td>\n",
       "    </tr>\n",
       "    <tr>\n",
       "      <th>620</th>\n",
       "      <td>L</td>\n",
       "      <td>5</td>\n",
       "      <td>5</td>\n",
       "      <td>5</td>\n",
       "      <td>1</td>\n",
       "    </tr>\n",
       "    <tr>\n",
       "      <th>621</th>\n",
       "      <td>L</td>\n",
       "      <td>5</td>\n",
       "      <td>5</td>\n",
       "      <td>5</td>\n",
       "      <td>2</td>\n",
       "    </tr>\n",
       "    <tr>\n",
       "      <th>622</th>\n",
       "      <td>L</td>\n",
       "      <td>5</td>\n",
       "      <td>5</td>\n",
       "      <td>5</td>\n",
       "      <td>3</td>\n",
       "    </tr>\n",
       "    <tr>\n",
       "      <th>623</th>\n",
       "      <td>L</td>\n",
       "      <td>5</td>\n",
       "      <td>5</td>\n",
       "      <td>5</td>\n",
       "      <td>4</td>\n",
       "    </tr>\n",
       "    <tr>\n",
       "      <th>624</th>\n",
       "      <td>B</td>\n",
       "      <td>5</td>\n",
       "      <td>5</td>\n",
       "      <td>5</td>\n",
       "      <td>5</td>\n",
       "    </tr>\n",
       "  </tbody>\n",
       "</table>\n",
       "<p>625 rows × 5 columns</p>\n",
       "</div>"
      ],
      "text/plain": [
       "     0  1  2  3  4\n",
       "0    B  1  1  1  1\n",
       "1    R  1  1  1  2\n",
       "2    R  1  1  1  3\n",
       "3    R  1  1  1  4\n",
       "4    R  1  1  1  5\n",
       "..  .. .. .. .. ..\n",
       "620  L  5  5  5  1\n",
       "621  L  5  5  5  2\n",
       "622  L  5  5  5  3\n",
       "623  L  5  5  5  4\n",
       "624  B  5  5  5  5\n",
       "\n",
       "[625 rows x 5 columns]"
      ]
     },
     "execution_count": 3,
     "metadata": {},
     "output_type": "execute_result"
    }
   ],
   "source": [
    "balance_data"
   ]
  },
  {
   "cell_type": "code",
   "execution_count": 4,
   "metadata": {},
   "outputs": [
    {
     "data": {
      "text/plain": [
       "(625, 5)"
      ]
     },
     "execution_count": 4,
     "metadata": {},
     "output_type": "execute_result"
    }
   ],
   "source": [
    "balance_data.shape"
   ]
  },
  {
   "cell_type": "code",
   "execution_count": 6,
   "metadata": {},
   "outputs": [],
   "source": [
    "# We take the four last columns of the dataFrame and put it into X\n",
    "X = balance_data.values[:,1:5]"
   ]
  },
  {
   "cell_type": "code",
   "execution_count": 7,
   "metadata": {},
   "outputs": [
    {
     "data": {
      "text/plain": [
       "array([[1, 1, 1, 1],\n",
       "       [1, 1, 1, 2],\n",
       "       [1, 1, 1, 3],\n",
       "       ...,\n",
       "       [5, 5, 5, 3],\n",
       "       [5, 5, 5, 4],\n",
       "       [5, 5, 5, 5]], dtype=object)"
      ]
     },
     "execution_count": 7,
     "metadata": {},
     "output_type": "execute_result"
    }
   ],
   "source": [
    "X"
   ]
  },
  {
   "cell_type": "code",
   "execution_count": 8,
   "metadata": {},
   "outputs": [
    {
     "data": {
      "text/plain": [
       "(625, 4)"
      ]
     },
     "execution_count": 8,
     "metadata": {},
     "output_type": "execute_result"
    }
   ],
   "source": [
    "X.shape"
   ]
  },
  {
   "cell_type": "code",
   "execution_count": 9,
   "metadata": {},
   "outputs": [],
   "source": [
    "# We take the first column of the dataFrame and put it into Y\n",
    "Y = balance_data.values[:,0]"
   ]
  },
  {
   "cell_type": "code",
   "execution_count": 10,
   "metadata": {},
   "outputs": [
    {
     "data": {
      "text/plain": [
       "array(['B', 'R', 'R', 'R', 'R', 'R', 'R', 'R', 'R', 'R', 'R', 'R', 'R',\n",
       "       'R', 'R', 'R', 'R', 'R', 'R', 'R', 'R', 'R', 'R', 'R', 'R', 'L',\n",
       "       'B', 'R', 'R', 'R', 'B', 'R', 'R', 'R', 'R', 'R', 'R', 'R', 'R',\n",
       "       'R', 'R', 'R', 'R', 'R', 'R', 'R', 'R', 'R', 'R', 'R', 'L', 'L',\n",
       "       'B', 'R', 'R', 'L', 'R', 'R', 'R', 'R', 'B', 'R', 'R', 'R', 'R',\n",
       "       'R', 'R', 'R', 'R', 'R', 'R', 'R', 'R', 'R', 'R', 'L', 'L', 'L',\n",
       "       'B', 'R', 'L', 'B', 'R', 'R', 'R', 'L', 'R', 'R', 'R', 'R', 'B',\n",
       "       'R', 'R', 'R', 'R', 'R', 'R', 'R', 'R', 'R', 'L', 'L', 'L', 'L',\n",
       "       'B', 'L', 'L', 'R', 'R', 'R', 'L', 'R', 'R', 'R', 'R', 'L', 'R',\n",
       "       'R', 'R', 'R', 'B', 'R', 'R', 'R', 'R', 'L', 'B', 'R', 'R', 'R',\n",
       "       'B', 'R', 'R', 'R', 'R', 'R', 'R', 'R', 'R', 'R', 'R', 'R', 'R',\n",
       "       'R', 'R', 'R', 'R', 'R', 'R', 'R', 'L', 'L', 'L', 'B', 'R', 'L',\n",
       "       'B', 'R', 'R', 'R', 'L', 'R', 'R', 'R', 'R', 'B', 'R', 'R', 'R',\n",
       "       'R', 'R', 'R', 'R', 'R', 'R', 'L', 'L', 'L', 'L', 'L', 'L', 'L',\n",
       "       'B', 'R', 'R', 'L', 'B', 'R', 'R', 'R', 'L', 'R', 'R', 'R', 'R',\n",
       "       'L', 'R', 'R', 'R', 'R', 'L', 'L', 'L', 'L', 'L', 'L', 'L', 'L',\n",
       "       'B', 'R', 'L', 'L', 'R', 'R', 'R', 'L', 'B', 'R', 'R', 'R', 'L',\n",
       "       'R', 'R', 'R', 'R', 'L', 'L', 'L', 'L', 'L', 'L', 'L', 'L', 'L',\n",
       "       'B', 'L', 'L', 'L', 'R', 'R', 'L', 'L', 'R', 'R', 'R', 'L', 'B',\n",
       "       'R', 'R', 'R', 'L', 'L', 'B', 'R', 'R', 'L', 'R', 'R', 'R', 'R',\n",
       "       'B', 'R', 'R', 'R', 'R', 'R', 'R', 'R', 'R', 'R', 'R', 'R', 'R',\n",
       "       'R', 'R', 'L', 'L', 'L', 'L', 'L', 'L', 'L', 'B', 'R', 'R', 'L',\n",
       "       'B', 'R', 'R', 'R', 'L', 'R', 'R', 'R', 'R', 'L', 'R', 'R', 'R',\n",
       "       'R', 'L', 'L', 'L', 'L', 'L', 'L', 'L', 'L', 'L', 'R', 'L', 'L',\n",
       "       'B', 'R', 'R', 'L', 'L', 'R', 'R', 'R', 'L', 'R', 'R', 'R', 'R',\n",
       "       'L', 'L', 'L', 'L', 'L', 'L', 'L', 'L', 'L', 'L', 'L', 'L', 'L',\n",
       "       'B', 'R', 'L', 'L', 'B', 'R', 'R', 'L', 'L', 'R', 'R', 'R', 'L',\n",
       "       'L', 'L', 'L', 'L', 'L', 'L', 'L', 'L', 'L', 'L', 'L', 'L', 'L',\n",
       "       'B', 'L', 'L', 'L', 'R', 'R', 'L', 'L', 'B', 'R', 'R', 'L', 'L',\n",
       "       'L', 'B', 'R', 'L', 'B', 'R', 'R', 'R', 'L', 'R', 'R', 'R', 'R',\n",
       "       'B', 'R', 'R', 'R', 'R', 'R', 'R', 'R', 'R', 'R', 'L', 'L', 'L',\n",
       "       'L', 'L', 'L', 'L', 'L', 'B', 'R', 'L', 'L', 'R', 'R', 'R', 'L',\n",
       "       'B', 'R', 'R', 'R', 'L', 'R', 'R', 'R', 'R', 'L', 'L', 'L', 'L',\n",
       "       'L', 'L', 'L', 'L', 'L', 'L', 'L', 'L', 'L', 'B', 'R', 'L', 'L',\n",
       "       'B', 'R', 'R', 'L', 'L', 'R', 'R', 'R', 'L', 'L', 'L', 'L', 'L',\n",
       "       'L', 'L', 'L', 'L', 'L', 'L', 'L', 'L', 'L', 'L', 'L', 'L', 'L',\n",
       "       'B', 'R', 'L', 'L', 'L', 'R', 'R', 'L', 'L', 'L', 'L', 'L', 'L',\n",
       "       'L', 'L', 'L', 'L', 'L', 'L', 'L', 'L', 'L', 'L', 'L', 'L', 'L',\n",
       "       'B', 'L', 'L', 'L', 'B', 'R', 'L', 'L', 'L', 'L', 'B', 'L', 'L',\n",
       "       'R', 'R', 'R', 'L', 'R', 'R', 'R', 'R', 'L', 'R', 'R', 'R', 'R',\n",
       "       'B', 'R', 'R', 'R', 'R', 'L', 'L', 'L', 'L', 'L', 'L', 'L', 'L',\n",
       "       'L', 'B', 'L', 'L', 'L', 'R', 'R', 'L', 'L', 'R', 'R', 'R', 'L',\n",
       "       'B', 'R', 'R', 'R', 'L', 'L', 'L', 'L', 'L', 'L', 'L', 'L', 'L',\n",
       "       'L', 'L', 'L', 'L', 'L', 'B', 'L', 'L', 'L', 'R', 'R', 'L', 'L',\n",
       "       'B', 'R', 'R', 'L', 'L', 'L', 'L', 'L', 'L', 'L', 'L', 'L', 'L',\n",
       "       'L', 'L', 'L', 'L', 'L', 'L', 'L', 'L', 'L', 'B', 'L', 'L', 'L',\n",
       "       'B', 'R', 'L', 'L', 'L', 'L', 'L', 'L', 'L', 'L', 'L', 'L', 'L',\n",
       "       'L', 'L', 'L', 'L', 'L', 'L', 'L', 'L', 'L', 'L', 'L', 'L', 'L',\n",
       "       'B'], dtype=object)"
      ]
     },
     "execution_count": 10,
     "metadata": {},
     "output_type": "execute_result"
    }
   ],
   "source": [
    "Y"
   ]
  },
  {
   "cell_type": "code",
   "execution_count": 11,
   "metadata": {},
   "outputs": [
    {
     "data": {
      "text/plain": [
       "(625,)"
      ]
     },
     "execution_count": 11,
     "metadata": {},
     "output_type": "execute_result"
    }
   ],
   "source": [
    "Y.shape"
   ]
  },
  {
   "cell_type": "code",
   "execution_count": 26,
   "metadata": {},
   "outputs": [],
   "source": [
    "# We take a sample of 0.3 of the whole data and create a tree \n",
    "# of max depth of 3 and 5 leaves at least \n",
    "# We want to predict the result of 0 from columns [1,2,3,4]\n",
    "X_train, X_test, y_train, y_test = train_test_split( X, Y, test_size = 0.3)"
   ]
  },
  {
   "cell_type": "code",
   "execution_count": 28,
   "metadata": {},
   "outputs": [],
   "source": [
    "clf_entropy=DecisionTreeClassifier(criterion=\"entropy\",max_depth=3,min_samples_leaf=5)"
   ]
  },
  {
   "cell_type": "code",
   "execution_count": 14,
   "metadata": {},
   "outputs": [
    {
     "data": {
      "text/plain": [
       "DecisionTreeClassifier(criterion='entropy', max_depth=3, min_samples_leaf=5)"
      ]
     },
     "execution_count": 14,
     "metadata": {},
     "output_type": "execute_result"
    }
   ],
   "source": [
    "clf_entropy"
   ]
  },
  {
   "cell_type": "code",
   "execution_count": 15,
   "metadata": {},
   "outputs": [
    {
     "data": {
      "text/plain": [
       "DecisionTreeClassifier(criterion='entropy', max_depth=3, min_samples_leaf=5)"
      ]
     },
     "execution_count": 15,
     "metadata": {},
     "output_type": "execute_result"
    }
   ],
   "source": [
    "# Fit function adjusts weights according to data values \n",
    "# so that better accuracy can be achieved\n",
    "clf_entropy.fit(X_train,y_train)"
   ]
  },
  {
   "cell_type": "code",
   "execution_count": 16,
   "metadata": {},
   "outputs": [],
   "source": [
    "y_pred_en = clf_entropy.predict(X_test)"
   ]
  },
  {
   "cell_type": "code",
   "execution_count": 17,
   "metadata": {},
   "outputs": [
    {
     "data": {
      "text/plain": [
       "array(['R', 'R', 'R', 'L', 'R', 'R', 'R', 'L', 'L', 'R', 'L', 'R', 'R',\n",
       "       'R', 'L', 'R', 'R', 'L', 'L', 'R', 'L', 'R', 'L', 'R', 'R', 'L',\n",
       "       'R', 'R', 'R', 'L', 'R', 'R', 'R', 'R', 'R', 'R', 'L', 'R', 'R',\n",
       "       'L', 'R', 'R', 'L', 'L', 'L', 'R', 'R', 'R', 'L', 'R', 'R', 'L',\n",
       "       'L', 'L', 'R', 'R', 'L', 'L', 'R', 'L', 'L', 'R', 'L', 'L', 'R',\n",
       "       'R', 'L', 'L', 'L', 'L', 'L', 'R', 'R', 'R', 'L', 'L', 'R', 'R',\n",
       "       'R', 'R', 'R', 'L', 'R', 'R', 'R', 'L', 'R', 'R', 'L', 'L', 'L',\n",
       "       'R', 'R', 'R', 'R', 'R', 'L', 'L', 'R', 'L', 'R', 'R', 'L', 'R',\n",
       "       'R', 'L', 'L', 'R', 'R', 'L', 'L', 'R', 'R', 'L', 'L', 'L', 'L',\n",
       "       'R', 'R', 'L', 'R', 'L', 'R', 'L', 'R', 'L', 'R', 'R', 'R', 'L',\n",
       "       'R', 'R', 'L', 'L', 'R', 'L', 'R', 'L', 'L', 'R', 'R', 'L', 'L',\n",
       "       'L', 'R', 'R', 'L', 'L', 'R', 'R', 'R', 'L', 'L', 'R', 'R', 'L',\n",
       "       'L', 'R', 'L', 'R', 'R', 'L', 'L', 'L', 'L', 'R', 'R', 'R', 'R',\n",
       "       'R', 'R', 'R', 'R', 'R', 'L', 'L', 'L', 'L', 'L', 'L', 'R', 'R',\n",
       "       'L', 'R', 'L', 'R', 'L', 'L'], dtype=object)"
      ]
     },
     "execution_count": 17,
     "metadata": {},
     "output_type": "execute_result"
    }
   ],
   "source": [
    "y_pred_en"
   ]
  },
  {
   "cell_type": "code",
   "execution_count": 18,
   "metadata": {},
   "outputs": [
    {
     "data": {
      "text/plain": [
       "(188,)"
      ]
     },
     "execution_count": 18,
     "metadata": {},
     "output_type": "execute_result"
    }
   ],
   "source": [
    "y_pred_en.shape"
   ]
  },
  {
   "cell_type": "code",
   "execution_count": 29,
   "metadata": {},
   "outputs": [
    {
     "name": "stdout",
     "output_type": "stream",
     "text": [
      "Accuracy is  44.680851063829785\n"
     ]
    }
   ],
   "source": [
    "# We calculates the accuracy of the predicting algorithme \n",
    "# The accuracy changes when we change the sample \n",
    "print (\"Accuracy is \", accuracy_score(y_test,y_pred_en)*100)"
   ]
  },
  {
   "cell_type": "markdown",
   "metadata": {},
   "source": [
    "# Exemple 2 : "
   ]
  },
  {
   "cell_type": "code",
   "execution_count": 37,
   "metadata": {},
   "outputs": [],
   "source": [
    "Jogging_data=pd.read_csv('JoggingTitre.csv', sep=',')"
   ]
  },
  {
   "cell_type": "code",
   "execution_count": 38,
   "metadata": {
    "scrolled": true
   },
   "outputs": [
    {
     "data": {
      "text/html": [
       "<div>\n",
       "<style scoped>\n",
       "    .dataframe tbody tr th:only-of-type {\n",
       "        vertical-align: middle;\n",
       "    }\n",
       "\n",
       "    .dataframe tbody tr th {\n",
       "        vertical-align: top;\n",
       "    }\n",
       "\n",
       "    .dataframe thead th {\n",
       "        text-align: right;\n",
       "    }\n",
       "</style>\n",
       "<table border=\"1\" class=\"dataframe\">\n",
       "  <thead>\n",
       "    <tr style=\"text-align: right;\">\n",
       "      <th></th>\n",
       "      <th>Perspective</th>\n",
       "      <th>Temps</th>\n",
       "      <th>Humidité</th>\n",
       "      <th>Vent</th>\n",
       "      <th>Jogging</th>\n",
       "    </tr>\n",
       "  </thead>\n",
       "  <tbody>\n",
       "    <tr>\n",
       "      <th>0</th>\n",
       "      <td>Soleil</td>\n",
       "      <td>Chaud</td>\n",
       "      <td>Haute</td>\n",
       "      <td>Doux</td>\n",
       "      <td>Non</td>\n",
       "    </tr>\n",
       "    <tr>\n",
       "      <th>1</th>\n",
       "      <td>Soleil</td>\n",
       "      <td>Chaud</td>\n",
       "      <td>Haute</td>\n",
       "      <td>Fort</td>\n",
       "      <td>Non</td>\n",
       "    </tr>\n",
       "    <tr>\n",
       "      <th>2</th>\n",
       "      <td>Couvert</td>\n",
       "      <td>Chaud</td>\n",
       "      <td>Haute</td>\n",
       "      <td>Doux</td>\n",
       "      <td>Oui</td>\n",
       "    </tr>\n",
       "    <tr>\n",
       "      <th>3</th>\n",
       "      <td>Pluie</td>\n",
       "      <td>Bon</td>\n",
       "      <td>Haute</td>\n",
       "      <td>Doux</td>\n",
       "      <td>Oui</td>\n",
       "    </tr>\n",
       "    <tr>\n",
       "      <th>4</th>\n",
       "      <td>Pluie</td>\n",
       "      <td>Frais</td>\n",
       "      <td>Normale</td>\n",
       "      <td>Doux</td>\n",
       "      <td>Oui</td>\n",
       "    </tr>\n",
       "    <tr>\n",
       "      <th>5</th>\n",
       "      <td>Pluie</td>\n",
       "      <td>Frais</td>\n",
       "      <td>Normale</td>\n",
       "      <td>Fort</td>\n",
       "      <td>Non</td>\n",
       "    </tr>\n",
       "    <tr>\n",
       "      <th>6</th>\n",
       "      <td>Couvert</td>\n",
       "      <td>Frais</td>\n",
       "      <td>Normale</td>\n",
       "      <td>Fort</td>\n",
       "      <td>Oui</td>\n",
       "    </tr>\n",
       "    <tr>\n",
       "      <th>7</th>\n",
       "      <td>Soleil</td>\n",
       "      <td>Bon</td>\n",
       "      <td>Haute</td>\n",
       "      <td>Doux</td>\n",
       "      <td>Non</td>\n",
       "    </tr>\n",
       "    <tr>\n",
       "      <th>8</th>\n",
       "      <td>Soleil</td>\n",
       "      <td>Frais</td>\n",
       "      <td>Normale</td>\n",
       "      <td>Doux</td>\n",
       "      <td>Oui</td>\n",
       "    </tr>\n",
       "    <tr>\n",
       "      <th>9</th>\n",
       "      <td>Pluie</td>\n",
       "      <td>Bon</td>\n",
       "      <td>Normale</td>\n",
       "      <td>Doux</td>\n",
       "      <td>Oui</td>\n",
       "    </tr>\n",
       "    <tr>\n",
       "      <th>10</th>\n",
       "      <td>Soleil</td>\n",
       "      <td>Bon</td>\n",
       "      <td>Normale</td>\n",
       "      <td>Fort</td>\n",
       "      <td>Oui</td>\n",
       "    </tr>\n",
       "    <tr>\n",
       "      <th>11</th>\n",
       "      <td>Couvert</td>\n",
       "      <td>Bon</td>\n",
       "      <td>Haute</td>\n",
       "      <td>Fort</td>\n",
       "      <td>Oui</td>\n",
       "    </tr>\n",
       "    <tr>\n",
       "      <th>12</th>\n",
       "      <td>Couvert</td>\n",
       "      <td>Chaud</td>\n",
       "      <td>Normale</td>\n",
       "      <td>Doux</td>\n",
       "      <td>Oui</td>\n",
       "    </tr>\n",
       "    <tr>\n",
       "      <th>13</th>\n",
       "      <td>Pluie</td>\n",
       "      <td>Bon</td>\n",
       "      <td>Haute</td>\n",
       "      <td>Fort</td>\n",
       "      <td>Non</td>\n",
       "    </tr>\n",
       "  </tbody>\n",
       "</table>\n",
       "</div>"
      ],
      "text/plain": [
       "   Perspective  Temps Humidité  Vent Jogging\n",
       "0       Soleil  Chaud    Haute  Doux     Non\n",
       "1       Soleil  Chaud    Haute  Fort     Non\n",
       "2      Couvert  Chaud    Haute  Doux     Oui\n",
       "3        Pluie    Bon    Haute  Doux     Oui\n",
       "4        Pluie  Frais  Normale  Doux     Oui\n",
       "5        Pluie  Frais  Normale  Fort     Non\n",
       "6      Couvert  Frais  Normale  Fort     Oui\n",
       "7       Soleil    Bon    Haute  Doux     Non\n",
       "8       Soleil  Frais  Normale  Doux     Oui\n",
       "9        Pluie    Bon  Normale  Doux     Oui\n",
       "10      Soleil    Bon  Normale  Fort     Oui\n",
       "11     Couvert    Bon    Haute  Fort     Oui\n",
       "12     Couvert  Chaud  Normale  Doux     Oui\n",
       "13       Pluie    Bon    Haute  Fort     Non"
      ]
     },
     "execution_count": 38,
     "metadata": {},
     "output_type": "execute_result"
    }
   ],
   "source": [
    "Jogging_data"
   ]
  },
  {
   "cell_type": "code",
   "execution_count": 39,
   "metadata": {},
   "outputs": [],
   "source": [
    "# Get the Column 'Jogging'\n",
    "y = Jogging_data['Jogging']\n",
    "# \"axis = 1\" for columns\n",
    "x = Jogging_data.drop(['Jogging'],axis=1)"
   ]
  },
  {
   "cell_type": "code",
   "execution_count": 41,
   "metadata": {},
   "outputs": [],
   "source": [
    "# Convert categorical variable into dummy/indicator variables\n",
    "x_dum = pd.get_dummies(x)"
   ]
  },
  {
   "cell_type": "code",
   "execution_count": 42,
   "metadata": {
    "scrolled": true
   },
   "outputs": [
    {
     "data": {
      "text/html": [
       "<div>\n",
       "<style scoped>\n",
       "    .dataframe tbody tr th:only-of-type {\n",
       "        vertical-align: middle;\n",
       "    }\n",
       "\n",
       "    .dataframe tbody tr th {\n",
       "        vertical-align: top;\n",
       "    }\n",
       "\n",
       "    .dataframe thead th {\n",
       "        text-align: right;\n",
       "    }\n",
       "</style>\n",
       "<table border=\"1\" class=\"dataframe\">\n",
       "  <thead>\n",
       "    <tr style=\"text-align: right;\">\n",
       "      <th></th>\n",
       "      <th>Perspective_Couvert</th>\n",
       "      <th>Perspective_Pluie</th>\n",
       "      <th>Perspective_Soleil</th>\n",
       "      <th>Temps_Bon</th>\n",
       "      <th>Temps_Chaud</th>\n",
       "      <th>Temps_Frais</th>\n",
       "      <th>Humidité_Haute</th>\n",
       "      <th>Humidité_Normale</th>\n",
       "      <th>Vent_Doux</th>\n",
       "      <th>Vent_Fort</th>\n",
       "    </tr>\n",
       "  </thead>\n",
       "  <tbody>\n",
       "    <tr>\n",
       "      <th>0</th>\n",
       "      <td>0</td>\n",
       "      <td>0</td>\n",
       "      <td>1</td>\n",
       "      <td>0</td>\n",
       "      <td>1</td>\n",
       "      <td>0</td>\n",
       "      <td>1</td>\n",
       "      <td>0</td>\n",
       "      <td>1</td>\n",
       "      <td>0</td>\n",
       "    </tr>\n",
       "    <tr>\n",
       "      <th>1</th>\n",
       "      <td>0</td>\n",
       "      <td>0</td>\n",
       "      <td>1</td>\n",
       "      <td>0</td>\n",
       "      <td>1</td>\n",
       "      <td>0</td>\n",
       "      <td>1</td>\n",
       "      <td>0</td>\n",
       "      <td>0</td>\n",
       "      <td>1</td>\n",
       "    </tr>\n",
       "    <tr>\n",
       "      <th>2</th>\n",
       "      <td>1</td>\n",
       "      <td>0</td>\n",
       "      <td>0</td>\n",
       "      <td>0</td>\n",
       "      <td>1</td>\n",
       "      <td>0</td>\n",
       "      <td>1</td>\n",
       "      <td>0</td>\n",
       "      <td>1</td>\n",
       "      <td>0</td>\n",
       "    </tr>\n",
       "    <tr>\n",
       "      <th>3</th>\n",
       "      <td>0</td>\n",
       "      <td>1</td>\n",
       "      <td>0</td>\n",
       "      <td>1</td>\n",
       "      <td>0</td>\n",
       "      <td>0</td>\n",
       "      <td>1</td>\n",
       "      <td>0</td>\n",
       "      <td>1</td>\n",
       "      <td>0</td>\n",
       "    </tr>\n",
       "    <tr>\n",
       "      <th>4</th>\n",
       "      <td>0</td>\n",
       "      <td>1</td>\n",
       "      <td>0</td>\n",
       "      <td>0</td>\n",
       "      <td>0</td>\n",
       "      <td>1</td>\n",
       "      <td>0</td>\n",
       "      <td>1</td>\n",
       "      <td>1</td>\n",
       "      <td>0</td>\n",
       "    </tr>\n",
       "    <tr>\n",
       "      <th>5</th>\n",
       "      <td>0</td>\n",
       "      <td>1</td>\n",
       "      <td>0</td>\n",
       "      <td>0</td>\n",
       "      <td>0</td>\n",
       "      <td>1</td>\n",
       "      <td>0</td>\n",
       "      <td>1</td>\n",
       "      <td>0</td>\n",
       "      <td>1</td>\n",
       "    </tr>\n",
       "    <tr>\n",
       "      <th>6</th>\n",
       "      <td>1</td>\n",
       "      <td>0</td>\n",
       "      <td>0</td>\n",
       "      <td>0</td>\n",
       "      <td>0</td>\n",
       "      <td>1</td>\n",
       "      <td>0</td>\n",
       "      <td>1</td>\n",
       "      <td>0</td>\n",
       "      <td>1</td>\n",
       "    </tr>\n",
       "    <tr>\n",
       "      <th>7</th>\n",
       "      <td>0</td>\n",
       "      <td>0</td>\n",
       "      <td>1</td>\n",
       "      <td>1</td>\n",
       "      <td>0</td>\n",
       "      <td>0</td>\n",
       "      <td>1</td>\n",
       "      <td>0</td>\n",
       "      <td>1</td>\n",
       "      <td>0</td>\n",
       "    </tr>\n",
       "    <tr>\n",
       "      <th>8</th>\n",
       "      <td>0</td>\n",
       "      <td>0</td>\n",
       "      <td>1</td>\n",
       "      <td>0</td>\n",
       "      <td>0</td>\n",
       "      <td>1</td>\n",
       "      <td>0</td>\n",
       "      <td>1</td>\n",
       "      <td>1</td>\n",
       "      <td>0</td>\n",
       "    </tr>\n",
       "    <tr>\n",
       "      <th>9</th>\n",
       "      <td>0</td>\n",
       "      <td>1</td>\n",
       "      <td>0</td>\n",
       "      <td>1</td>\n",
       "      <td>0</td>\n",
       "      <td>0</td>\n",
       "      <td>0</td>\n",
       "      <td>1</td>\n",
       "      <td>1</td>\n",
       "      <td>0</td>\n",
       "    </tr>\n",
       "    <tr>\n",
       "      <th>10</th>\n",
       "      <td>0</td>\n",
       "      <td>0</td>\n",
       "      <td>1</td>\n",
       "      <td>1</td>\n",
       "      <td>0</td>\n",
       "      <td>0</td>\n",
       "      <td>0</td>\n",
       "      <td>1</td>\n",
       "      <td>0</td>\n",
       "      <td>1</td>\n",
       "    </tr>\n",
       "    <tr>\n",
       "      <th>11</th>\n",
       "      <td>1</td>\n",
       "      <td>0</td>\n",
       "      <td>0</td>\n",
       "      <td>1</td>\n",
       "      <td>0</td>\n",
       "      <td>0</td>\n",
       "      <td>1</td>\n",
       "      <td>0</td>\n",
       "      <td>0</td>\n",
       "      <td>1</td>\n",
       "    </tr>\n",
       "    <tr>\n",
       "      <th>12</th>\n",
       "      <td>1</td>\n",
       "      <td>0</td>\n",
       "      <td>0</td>\n",
       "      <td>0</td>\n",
       "      <td>1</td>\n",
       "      <td>0</td>\n",
       "      <td>0</td>\n",
       "      <td>1</td>\n",
       "      <td>1</td>\n",
       "      <td>0</td>\n",
       "    </tr>\n",
       "    <tr>\n",
       "      <th>13</th>\n",
       "      <td>0</td>\n",
       "      <td>1</td>\n",
       "      <td>0</td>\n",
       "      <td>1</td>\n",
       "      <td>0</td>\n",
       "      <td>0</td>\n",
       "      <td>1</td>\n",
       "      <td>0</td>\n",
       "      <td>0</td>\n",
       "      <td>1</td>\n",
       "    </tr>\n",
       "  </tbody>\n",
       "</table>\n",
       "</div>"
      ],
      "text/plain": [
       "    Perspective_Couvert  Perspective_Pluie  Perspective_Soleil  Temps_Bon  \\\n",
       "0                     0                  0                   1          0   \n",
       "1                     0                  0                   1          0   \n",
       "2                     1                  0                   0          0   \n",
       "3                     0                  1                   0          1   \n",
       "4                     0                  1                   0          0   \n",
       "5                     0                  1                   0          0   \n",
       "6                     1                  0                   0          0   \n",
       "7                     0                  0                   1          1   \n",
       "8                     0                  0                   1          0   \n",
       "9                     0                  1                   0          1   \n",
       "10                    0                  0                   1          1   \n",
       "11                    1                  0                   0          1   \n",
       "12                    1                  0                   0          0   \n",
       "13                    0                  1                   0          1   \n",
       "\n",
       "    Temps_Chaud  Temps_Frais  Humidité_Haute  Humidité_Normale  Vent_Doux  \\\n",
       "0             1            0               1                 0          1   \n",
       "1             1            0               1                 0          0   \n",
       "2             1            0               1                 0          1   \n",
       "3             0            0               1                 0          1   \n",
       "4             0            1               0                 1          1   \n",
       "5             0            1               0                 1          0   \n",
       "6             0            1               0                 1          0   \n",
       "7             0            0               1                 0          1   \n",
       "8             0            1               0                 1          1   \n",
       "9             0            0               0                 1          1   \n",
       "10            0            0               0                 1          0   \n",
       "11            0            0               1                 0          0   \n",
       "12            1            0               0                 1          1   \n",
       "13            0            0               1                 0          0   \n",
       "\n",
       "    Vent_Fort  \n",
       "0           0  \n",
       "1           1  \n",
       "2           0  \n",
       "3           0  \n",
       "4           0  \n",
       "5           1  \n",
       "6           1  \n",
       "7           0  \n",
       "8           0  \n",
       "9           0  \n",
       "10          1  \n",
       "11          1  \n",
       "12          0  \n",
       "13          1  "
      ]
     },
     "execution_count": 42,
     "metadata": {},
     "output_type": "execute_result"
    }
   ],
   "source": [
    "# We can see the perspectives\n",
    "x_dum"
   ]
  },
  {
   "cell_type": "code",
   "execution_count": 43,
   "metadata": {},
   "outputs": [],
   "source": [
    "# we create the decision tree and fit it to the data we have\n",
    "clf_entropy = DecisionTreeClassifier(criterion = \"entropy\")"
   ]
  },
  {
   "cell_type": "code",
   "execution_count": 44,
   "metadata": {},
   "outputs": [
    {
     "data": {
      "text/plain": [
       "DecisionTreeClassifier(criterion='entropy')"
      ]
     },
     "execution_count": 44,
     "metadata": {},
     "output_type": "execute_result"
    }
   ],
   "source": [
    "clf_entropy"
   ]
  },
  {
   "cell_type": "code",
   "execution_count": 45,
   "metadata": {},
   "outputs": [],
   "source": [
    "outputTree=clf_entropy.fit(x_dum, y)"
   ]
  },
  {
   "cell_type": "code",
   "execution_count": 46,
   "metadata": {},
   "outputs": [
    {
     "data": {
      "text/plain": [
       "DecisionTreeClassifier(criterion='entropy')"
      ]
     },
     "execution_count": 46,
     "metadata": {},
     "output_type": "execute_result"
    }
   ],
   "source": [
    "outputTree"
   ]
  },
  {
   "cell_type": "code",
   "execution_count": 47,
   "metadata": {},
   "outputs": [],
   "source": [
    "# we export it into graphviz format and we print it in a pdf file\n",
    "# the indexes are displayed instead of labls\n",
    "# the tree is labeled by the labels of the dataset\n",
    "dot_data = tree.export_graphviz(outputTree, out_file=None)"
   ]
  },
  {
   "cell_type": "code",
   "execution_count": 48,
   "metadata": {
    "scrolled": true
   },
   "outputs": [
    {
     "data": {
      "text/plain": [
       "'digraph Tree {\\nnode [shape=box] ;\\n0 [label=\"X[0] <= 0.5\\\\nentropy = 0.94\\\\nsamples = 14\\\\nvalue = [5, 9]\"] ;\\n1 [label=\"X[6] <= 0.5\\\\nentropy = 1.0\\\\nsamples = 10\\\\nvalue = [5, 5]\"] ;\\n0 -> 1 [labeldistance=2.5, labelangle=45, headlabel=\"True\"] ;\\n2 [label=\"X[9] <= 0.5\\\\nentropy = 0.722\\\\nsamples = 5\\\\nvalue = [1, 4]\"] ;\\n1 -> 2 ;\\n3 [label=\"entropy = 0.0\\\\nsamples = 3\\\\nvalue = [0, 3]\"] ;\\n2 -> 3 ;\\n4 [label=\"X[2] <= 0.5\\\\nentropy = 1.0\\\\nsamples = 2\\\\nvalue = [1, 1]\"] ;\\n2 -> 4 ;\\n5 [label=\"entropy = 0.0\\\\nsamples = 1\\\\nvalue = [1, 0]\"] ;\\n4 -> 5 ;\\n6 [label=\"entropy = 0.0\\\\nsamples = 1\\\\nvalue = [0, 1]\"] ;\\n4 -> 6 ;\\n7 [label=\"X[1] <= 0.5\\\\nentropy = 0.722\\\\nsamples = 5\\\\nvalue = [4, 1]\"] ;\\n1 -> 7 ;\\n8 [label=\"entropy = 0.0\\\\nsamples = 3\\\\nvalue = [3, 0]\"] ;\\n7 -> 8 ;\\n9 [label=\"X[8] <= 0.5\\\\nentropy = 1.0\\\\nsamples = 2\\\\nvalue = [1, 1]\"] ;\\n7 -> 9 ;\\n10 [label=\"entropy = 0.0\\\\nsamples = 1\\\\nvalue = [1, 0]\"] ;\\n9 -> 10 ;\\n11 [label=\"entropy = 0.0\\\\nsamples = 1\\\\nvalue = [0, 1]\"] ;\\n9 -> 11 ;\\n12 [label=\"entropy = 0.0\\\\nsamples = 4\\\\nvalue = [0, 4]\"] ;\\n0 -> 12 [labeldistance=2.5, labelangle=-45, headlabel=\"False\"] ;\\n}'"
      ]
     },
     "execution_count": 48,
     "metadata": {},
     "output_type": "execute_result"
    }
   ],
   "source": [
    "dot_data"
   ]
  },
  {
   "cell_type": "code",
   "execution_count": 49,
   "metadata": {},
   "outputs": [],
   "source": [
    "graph = graphviz.Source(dot_data)"
   ]
  },
  {
   "cell_type": "code",
   "execution_count": 50,
   "metadata": {},
   "outputs": [
    {
     "data": {
      "image/svg+xml": [
       "<?xml version=\"1.0\" encoding=\"UTF-8\" standalone=\"no\"?>\n",
       "<!DOCTYPE svg PUBLIC \"-//W3C//DTD SVG 1.1//EN\"\n",
       " \"http://www.w3.org/Graphics/SVG/1.1/DTD/svg11.dtd\">\n",
       "<!-- Generated by graphviz version 2.43.0 (0)\n",
       " -->\n",
       "<!-- Title: Tree Pages: 1 -->\n",
       "<svg width=\"626pt\" height=\"477pt\"\n",
       " viewBox=\"0.00 0.00 626.00 477.00\" xmlns=\"http://www.w3.org/2000/svg\" xmlns:xlink=\"http://www.w3.org/1999/xlink\">\n",
       "<g id=\"graph0\" class=\"graph\" transform=\"scale(1 1) rotate(0) translate(4 473)\">\n",
       "<title>Tree</title>\n",
       "<polygon fill=\"white\" stroke=\"transparent\" points=\"-4,4 -4,-473 622,-473 622,4 -4,4\"/>\n",
       "<!-- 0 -->\n",
       "<g id=\"node1\" class=\"node\">\n",
       "<title>0</title>\n",
       "<polygon fill=\"none\" stroke=\"black\" points=\"388.5,-469 263.5,-469 263.5,-401 388.5,-401 388.5,-469\"/>\n",
       "<text text-anchor=\"middle\" x=\"326\" y=\"-453.8\" font-family=\"Times,serif\" font-size=\"14.00\">X[0] &lt;= 0.5</text>\n",
       "<text text-anchor=\"middle\" x=\"326\" y=\"-438.8\" font-family=\"Times,serif\" font-size=\"14.00\">entropy = 0.94</text>\n",
       "<text text-anchor=\"middle\" x=\"326\" y=\"-423.8\" font-family=\"Times,serif\" font-size=\"14.00\">samples = 14</text>\n",
       "<text text-anchor=\"middle\" x=\"326\" y=\"-408.8\" font-family=\"Times,serif\" font-size=\"14.00\">value = [5, 9]</text>\n",
       "</g>\n",
       "<!-- 1 -->\n",
       "<g id=\"node2\" class=\"node\">\n",
       "<title>1</title>\n",
       "<polygon fill=\"none\" stroke=\"black\" points=\"317,-365 201,-365 201,-297 317,-297 317,-365\"/>\n",
       "<text text-anchor=\"middle\" x=\"259\" y=\"-349.8\" font-family=\"Times,serif\" font-size=\"14.00\">X[6] &lt;= 0.5</text>\n",
       "<text text-anchor=\"middle\" x=\"259\" y=\"-334.8\" font-family=\"Times,serif\" font-size=\"14.00\">entropy = 1.0</text>\n",
       "<text text-anchor=\"middle\" x=\"259\" y=\"-319.8\" font-family=\"Times,serif\" font-size=\"14.00\">samples = 10</text>\n",
       "<text text-anchor=\"middle\" x=\"259\" y=\"-304.8\" font-family=\"Times,serif\" font-size=\"14.00\">value = [5, 5]</text>\n",
       "</g>\n",
       "<!-- 0&#45;&gt;1 -->\n",
       "<g id=\"edge1\" class=\"edge\">\n",
       "<title>0&#45;&gt;1</title>\n",
       "<path fill=\"none\" stroke=\"black\" d=\"M304.25,-400.88C298.57,-392.24 292.38,-382.82 286.45,-373.79\"/>\n",
       "<polygon fill=\"black\" stroke=\"black\" points=\"289.29,-371.74 280.87,-365.3 283.44,-375.58 289.29,-371.74\"/>\n",
       "<text text-anchor=\"middle\" x=\"275.8\" y=\"-386.08\" font-family=\"Times,serif\" font-size=\"14.00\">True</text>\n",
       "</g>\n",
       "<!-- 12 -->\n",
       "<g id=\"node13\" class=\"node\">\n",
       "<title>12</title>\n",
       "<polygon fill=\"none\" stroke=\"black\" points=\"451,-357.5 335,-357.5 335,-304.5 451,-304.5 451,-357.5\"/>\n",
       "<text text-anchor=\"middle\" x=\"393\" y=\"-342.3\" font-family=\"Times,serif\" font-size=\"14.00\">entropy = 0.0</text>\n",
       "<text text-anchor=\"middle\" x=\"393\" y=\"-327.3\" font-family=\"Times,serif\" font-size=\"14.00\">samples = 4</text>\n",
       "<text text-anchor=\"middle\" x=\"393\" y=\"-312.3\" font-family=\"Times,serif\" font-size=\"14.00\">value = [0, 4]</text>\n",
       "</g>\n",
       "<!-- 0&#45;&gt;12 -->\n",
       "<g id=\"edge12\" class=\"edge\">\n",
       "<title>0&#45;&gt;12</title>\n",
       "<path fill=\"none\" stroke=\"black\" d=\"M347.75,-400.88C355.05,-389.78 363.2,-377.37 370.55,-366.18\"/>\n",
       "<polygon fill=\"black\" stroke=\"black\" points=\"373.67,-367.8 376.24,-357.52 367.82,-363.96 373.67,-367.8\"/>\n",
       "<text text-anchor=\"middle\" x=\"381.31\" y=\"-378.3\" font-family=\"Times,serif\" font-size=\"14.00\">False</text>\n",
       "</g>\n",
       "<!-- 2 -->\n",
       "<g id=\"node3\" class=\"node\">\n",
       "<title>2</title>\n",
       "<polygon fill=\"none\" stroke=\"black\" points=\"250,-261 116,-261 116,-193 250,-193 250,-261\"/>\n",
       "<text text-anchor=\"middle\" x=\"183\" y=\"-245.8\" font-family=\"Times,serif\" font-size=\"14.00\">X[9] &lt;= 0.5</text>\n",
       "<text text-anchor=\"middle\" x=\"183\" y=\"-230.8\" font-family=\"Times,serif\" font-size=\"14.00\">entropy = 0.722</text>\n",
       "<text text-anchor=\"middle\" x=\"183\" y=\"-215.8\" font-family=\"Times,serif\" font-size=\"14.00\">samples = 5</text>\n",
       "<text text-anchor=\"middle\" x=\"183\" y=\"-200.8\" font-family=\"Times,serif\" font-size=\"14.00\">value = [1, 4]</text>\n",
       "</g>\n",
       "<!-- 1&#45;&gt;2 -->\n",
       "<g id=\"edge2\" class=\"edge\">\n",
       "<title>1&#45;&gt;2</title>\n",
       "<path fill=\"none\" stroke=\"black\" d=\"M234.32,-296.88C227.82,-288.15 220.72,-278.62 213.93,-269.51\"/>\n",
       "<polygon fill=\"black\" stroke=\"black\" points=\"216.59,-267.23 207.81,-261.3 210.98,-271.41 216.59,-267.23\"/>\n",
       "</g>\n",
       "<!-- 7 -->\n",
       "<g id=\"node8\" class=\"node\">\n",
       "<title>7</title>\n",
       "<polygon fill=\"none\" stroke=\"black\" points=\"402,-261 268,-261 268,-193 402,-193 402,-261\"/>\n",
       "<text text-anchor=\"middle\" x=\"335\" y=\"-245.8\" font-family=\"Times,serif\" font-size=\"14.00\">X[1] &lt;= 0.5</text>\n",
       "<text text-anchor=\"middle\" x=\"335\" y=\"-230.8\" font-family=\"Times,serif\" font-size=\"14.00\">entropy = 0.722</text>\n",
       "<text text-anchor=\"middle\" x=\"335\" y=\"-215.8\" font-family=\"Times,serif\" font-size=\"14.00\">samples = 5</text>\n",
       "<text text-anchor=\"middle\" x=\"335\" y=\"-200.8\" font-family=\"Times,serif\" font-size=\"14.00\">value = [4, 1]</text>\n",
       "</g>\n",
       "<!-- 1&#45;&gt;7 -->\n",
       "<g id=\"edge7\" class=\"edge\">\n",
       "<title>1&#45;&gt;7</title>\n",
       "<path fill=\"none\" stroke=\"black\" d=\"M283.68,-296.88C290.18,-288.15 297.28,-278.62 304.07,-269.51\"/>\n",
       "<polygon fill=\"black\" stroke=\"black\" points=\"307.02,-271.41 310.19,-261.3 301.41,-267.23 307.02,-271.41\"/>\n",
       "</g>\n",
       "<!-- 3 -->\n",
       "<g id=\"node4\" class=\"node\">\n",
       "<title>3</title>\n",
       "<polygon fill=\"none\" stroke=\"black\" points=\"116,-149.5 0,-149.5 0,-96.5 116,-96.5 116,-149.5\"/>\n",
       "<text text-anchor=\"middle\" x=\"58\" y=\"-134.3\" font-family=\"Times,serif\" font-size=\"14.00\">entropy = 0.0</text>\n",
       "<text text-anchor=\"middle\" x=\"58\" y=\"-119.3\" font-family=\"Times,serif\" font-size=\"14.00\">samples = 3</text>\n",
       "<text text-anchor=\"middle\" x=\"58\" y=\"-104.3\" font-family=\"Times,serif\" font-size=\"14.00\">value = [0, 3]</text>\n",
       "</g>\n",
       "<!-- 2&#45;&gt;3 -->\n",
       "<g id=\"edge3\" class=\"edge\">\n",
       "<title>2&#45;&gt;3</title>\n",
       "<path fill=\"none\" stroke=\"black\" d=\"M142.42,-192.88C127.86,-181.01 111.49,-167.65 97.06,-155.88\"/>\n",
       "<polygon fill=\"black\" stroke=\"black\" points=\"99.24,-153.13 89.27,-149.52 94.81,-158.55 99.24,-153.13\"/>\n",
       "</g>\n",
       "<!-- 4 -->\n",
       "<g id=\"node5\" class=\"node\">\n",
       "<title>4</title>\n",
       "<polygon fill=\"none\" stroke=\"black\" points=\"250,-157 134,-157 134,-89 250,-89 250,-157\"/>\n",
       "<text text-anchor=\"middle\" x=\"192\" y=\"-141.8\" font-family=\"Times,serif\" font-size=\"14.00\">X[2] &lt;= 0.5</text>\n",
       "<text text-anchor=\"middle\" x=\"192\" y=\"-126.8\" font-family=\"Times,serif\" font-size=\"14.00\">entropy = 1.0</text>\n",
       "<text text-anchor=\"middle\" x=\"192\" y=\"-111.8\" font-family=\"Times,serif\" font-size=\"14.00\">samples = 2</text>\n",
       "<text text-anchor=\"middle\" x=\"192\" y=\"-96.8\" font-family=\"Times,serif\" font-size=\"14.00\">value = [1, 1]</text>\n",
       "</g>\n",
       "<!-- 2&#45;&gt;4 -->\n",
       "<g id=\"edge4\" class=\"edge\">\n",
       "<title>2&#45;&gt;4</title>\n",
       "<path fill=\"none\" stroke=\"black\" d=\"M185.92,-192.88C186.64,-184.78 187.41,-175.98 188.16,-167.47\"/>\n",
       "<polygon fill=\"black\" stroke=\"black\" points=\"191.67,-167.57 189.06,-157.3 184.7,-166.95 191.67,-167.57\"/>\n",
       "</g>\n",
       "<!-- 5 -->\n",
       "<g id=\"node6\" class=\"node\">\n",
       "<title>5</title>\n",
       "<polygon fill=\"none\" stroke=\"black\" points=\"183,-53 67,-53 67,0 183,0 183,-53\"/>\n",
       "<text text-anchor=\"middle\" x=\"125\" y=\"-37.8\" font-family=\"Times,serif\" font-size=\"14.00\">entropy = 0.0</text>\n",
       "<text text-anchor=\"middle\" x=\"125\" y=\"-22.8\" font-family=\"Times,serif\" font-size=\"14.00\">samples = 1</text>\n",
       "<text text-anchor=\"middle\" x=\"125\" y=\"-7.8\" font-family=\"Times,serif\" font-size=\"14.00\">value = [1, 0]</text>\n",
       "</g>\n",
       "<!-- 4&#45;&gt;5 -->\n",
       "<g id=\"edge5\" class=\"edge\">\n",
       "<title>4&#45;&gt;5</title>\n",
       "<path fill=\"none\" stroke=\"black\" d=\"M168.57,-88.95C162.28,-80.07 155.46,-70.46 149.13,-61.54\"/>\n",
       "<polygon fill=\"black\" stroke=\"black\" points=\"151.89,-59.37 143.25,-53.24 146.18,-63.42 151.89,-59.37\"/>\n",
       "</g>\n",
       "<!-- 6 -->\n",
       "<g id=\"node7\" class=\"node\">\n",
       "<title>6</title>\n",
       "<polygon fill=\"none\" stroke=\"black\" points=\"317,-53 201,-53 201,0 317,0 317,-53\"/>\n",
       "<text text-anchor=\"middle\" x=\"259\" y=\"-37.8\" font-family=\"Times,serif\" font-size=\"14.00\">entropy = 0.0</text>\n",
       "<text text-anchor=\"middle\" x=\"259\" y=\"-22.8\" font-family=\"Times,serif\" font-size=\"14.00\">samples = 1</text>\n",
       "<text text-anchor=\"middle\" x=\"259\" y=\"-7.8\" font-family=\"Times,serif\" font-size=\"14.00\">value = [0, 1]</text>\n",
       "</g>\n",
       "<!-- 4&#45;&gt;6 -->\n",
       "<g id=\"edge6\" class=\"edge\">\n",
       "<title>4&#45;&gt;6</title>\n",
       "<path fill=\"none\" stroke=\"black\" d=\"M215.43,-88.95C221.72,-80.07 228.54,-70.46 234.87,-61.54\"/>\n",
       "<polygon fill=\"black\" stroke=\"black\" points=\"237.82,-63.42 240.75,-53.24 232.11,-59.37 237.82,-63.42\"/>\n",
       "</g>\n",
       "<!-- 8 -->\n",
       "<g id=\"node9\" class=\"node\">\n",
       "<title>8</title>\n",
       "<polygon fill=\"none\" stroke=\"black\" points=\"384,-149.5 268,-149.5 268,-96.5 384,-96.5 384,-149.5\"/>\n",
       "<text text-anchor=\"middle\" x=\"326\" y=\"-134.3\" font-family=\"Times,serif\" font-size=\"14.00\">entropy = 0.0</text>\n",
       "<text text-anchor=\"middle\" x=\"326\" y=\"-119.3\" font-family=\"Times,serif\" font-size=\"14.00\">samples = 3</text>\n",
       "<text text-anchor=\"middle\" x=\"326\" y=\"-104.3\" font-family=\"Times,serif\" font-size=\"14.00\">value = [3, 0]</text>\n",
       "</g>\n",
       "<!-- 7&#45;&gt;8 -->\n",
       "<g id=\"edge8\" class=\"edge\">\n",
       "<title>7&#45;&gt;8</title>\n",
       "<path fill=\"none\" stroke=\"black\" d=\"M332.08,-192.88C331.14,-182.22 330.09,-170.35 329.13,-159.52\"/>\n",
       "<polygon fill=\"black\" stroke=\"black\" points=\"332.62,-159.17 328.25,-149.52 325.64,-159.79 332.62,-159.17\"/>\n",
       "</g>\n",
       "<!-- 9 -->\n",
       "<g id=\"node10\" class=\"node\">\n",
       "<title>9</title>\n",
       "<polygon fill=\"none\" stroke=\"black\" points=\"518,-157 402,-157 402,-89 518,-89 518,-157\"/>\n",
       "<text text-anchor=\"middle\" x=\"460\" y=\"-141.8\" font-family=\"Times,serif\" font-size=\"14.00\">X[8] &lt;= 0.5</text>\n",
       "<text text-anchor=\"middle\" x=\"460\" y=\"-126.8\" font-family=\"Times,serif\" font-size=\"14.00\">entropy = 1.0</text>\n",
       "<text text-anchor=\"middle\" x=\"460\" y=\"-111.8\" font-family=\"Times,serif\" font-size=\"14.00\">samples = 2</text>\n",
       "<text text-anchor=\"middle\" x=\"460\" y=\"-96.8\" font-family=\"Times,serif\" font-size=\"14.00\">value = [1, 1]</text>\n",
       "</g>\n",
       "<!-- 7&#45;&gt;9 -->\n",
       "<g id=\"edge9\" class=\"edge\">\n",
       "<title>7&#45;&gt;9</title>\n",
       "<path fill=\"none\" stroke=\"black\" d=\"M375.58,-192.88C386.94,-183.62 399.39,-173.45 411.17,-163.85\"/>\n",
       "<polygon fill=\"black\" stroke=\"black\" points=\"413.66,-166.33 419.19,-157.3 409.23,-160.91 413.66,-166.33\"/>\n",
       "</g>\n",
       "<!-- 10 -->\n",
       "<g id=\"node11\" class=\"node\">\n",
       "<title>10</title>\n",
       "<polygon fill=\"none\" stroke=\"black\" points=\"484,-53 368,-53 368,0 484,0 484,-53\"/>\n",
       "<text text-anchor=\"middle\" x=\"426\" y=\"-37.8\" font-family=\"Times,serif\" font-size=\"14.00\">entropy = 0.0</text>\n",
       "<text text-anchor=\"middle\" x=\"426\" y=\"-22.8\" font-family=\"Times,serif\" font-size=\"14.00\">samples = 1</text>\n",
       "<text text-anchor=\"middle\" x=\"426\" y=\"-7.8\" font-family=\"Times,serif\" font-size=\"14.00\">value = [1, 0]</text>\n",
       "</g>\n",
       "<!-- 9&#45;&gt;10 -->\n",
       "<g id=\"edge10\" class=\"edge\">\n",
       "<title>9&#45;&gt;10</title>\n",
       "<path fill=\"none\" stroke=\"black\" d=\"M448.11,-88.95C445.05,-80.44 441.74,-71.26 438.65,-62.65\"/>\n",
       "<polygon fill=\"black\" stroke=\"black\" points=\"441.94,-61.46 435.26,-53.24 435.35,-63.83 441.94,-61.46\"/>\n",
       "</g>\n",
       "<!-- 11 -->\n",
       "<g id=\"node12\" class=\"node\">\n",
       "<title>11</title>\n",
       "<polygon fill=\"none\" stroke=\"black\" points=\"618,-53 502,-53 502,0 618,0 618,-53\"/>\n",
       "<text text-anchor=\"middle\" x=\"560\" y=\"-37.8\" font-family=\"Times,serif\" font-size=\"14.00\">entropy = 0.0</text>\n",
       "<text text-anchor=\"middle\" x=\"560\" y=\"-22.8\" font-family=\"Times,serif\" font-size=\"14.00\">samples = 1</text>\n",
       "<text text-anchor=\"middle\" x=\"560\" y=\"-7.8\" font-family=\"Times,serif\" font-size=\"14.00\">value = [0, 1]</text>\n",
       "</g>\n",
       "<!-- 9&#45;&gt;11 -->\n",
       "<g id=\"edge11\" class=\"edge\">\n",
       "<title>9&#45;&gt;11</title>\n",
       "<path fill=\"none\" stroke=\"black\" d=\"M494.98,-88.95C504.85,-79.62 515.59,-69.47 525.43,-60.16\"/>\n",
       "<polygon fill=\"black\" stroke=\"black\" points=\"527.9,-62.65 532.77,-53.24 523.09,-57.56 527.9,-62.65\"/>\n",
       "</g>\n",
       "</g>\n",
       "</svg>\n"
      ],
      "text/plain": [
       "<graphviz.files.Source at 0x7f61038fed30>"
      ]
     },
     "execution_count": 50,
     "metadata": {},
     "output_type": "execute_result"
    }
   ],
   "source": [
    "graph"
   ]
  },
  {
   "cell_type": "code",
   "execution_count": 51,
   "metadata": {},
   "outputs": [
    {
     "data": {
      "text/plain": [
       "'Td2_dum01.pdf'"
      ]
     },
     "execution_count": 51,
     "metadata": {},
     "output_type": "execute_result"
    }
   ],
   "source": [
    "graph.render(\"Td2_dum01\")"
   ]
  },
  {
   "cell_type": "code",
   "execution_count": 52,
   "metadata": {},
   "outputs": [],
   "source": [
    "dot_data = tree.export_graphviz(outputTree, out_file=None, feature_names =\n",
    "x_dum.columns)"
   ]
  },
  {
   "cell_type": "code",
   "execution_count": 53,
   "metadata": {},
   "outputs": [
    {
     "data": {
      "text/plain": [
       "'digraph Tree {\\nnode [shape=box] ;\\n0 [label=\"Perspective_Couvert <= 0.5\\\\nentropy = 0.94\\\\nsamples = 14\\\\nvalue = [5, 9]\"] ;\\n1 [label=\"Humidité_Haute <= 0.5\\\\nentropy = 1.0\\\\nsamples = 10\\\\nvalue = [5, 5]\"] ;\\n0 -> 1 [labeldistance=2.5, labelangle=45, headlabel=\"True\"] ;\\n2 [label=\"Vent_Fort <= 0.5\\\\nentropy = 0.722\\\\nsamples = 5\\\\nvalue = [1, 4]\"] ;\\n1 -> 2 ;\\n3 [label=\"entropy = 0.0\\\\nsamples = 3\\\\nvalue = [0, 3]\"] ;\\n2 -> 3 ;\\n4 [label=\"Perspective_Soleil <= 0.5\\\\nentropy = 1.0\\\\nsamples = 2\\\\nvalue = [1, 1]\"] ;\\n2 -> 4 ;\\n5 [label=\"entropy = 0.0\\\\nsamples = 1\\\\nvalue = [1, 0]\"] ;\\n4 -> 5 ;\\n6 [label=\"entropy = 0.0\\\\nsamples = 1\\\\nvalue = [0, 1]\"] ;\\n4 -> 6 ;\\n7 [label=\"Perspective_Pluie <= 0.5\\\\nentropy = 0.722\\\\nsamples = 5\\\\nvalue = [4, 1]\"] ;\\n1 -> 7 ;\\n8 [label=\"entropy = 0.0\\\\nsamples = 3\\\\nvalue = [3, 0]\"] ;\\n7 -> 8 ;\\n9 [label=\"Vent_Doux <= 0.5\\\\nentropy = 1.0\\\\nsamples = 2\\\\nvalue = [1, 1]\"] ;\\n7 -> 9 ;\\n10 [label=\"entropy = 0.0\\\\nsamples = 1\\\\nvalue = [1, 0]\"] ;\\n9 -> 10 ;\\n11 [label=\"entropy = 0.0\\\\nsamples = 1\\\\nvalue = [0, 1]\"] ;\\n9 -> 11 ;\\n12 [label=\"entropy = 0.0\\\\nsamples = 4\\\\nvalue = [0, 4]\"] ;\\n0 -> 12 [labeldistance=2.5, labelangle=-45, headlabel=\"False\"] ;\\n}'"
      ]
     },
     "execution_count": 53,
     "metadata": {},
     "output_type": "execute_result"
    }
   ],
   "source": [
    "dot_data"
   ]
  },
  {
   "cell_type": "code",
   "execution_count": 54,
   "metadata": {},
   "outputs": [],
   "source": [
    "graph = graphviz.Source(dot_data)"
   ]
  },
  {
   "cell_type": "code",
   "execution_count": 55,
   "metadata": {},
   "outputs": [
    {
     "data": {
      "image/svg+xml": [
       "<?xml version=\"1.0\" encoding=\"UTF-8\" standalone=\"no\"?>\n",
       "<!DOCTYPE svg PUBLIC \"-//W3C//DTD SVG 1.1//EN\"\n",
       " \"http://www.w3.org/Graphics/SVG/1.1/DTD/svg11.dtd\">\n",
       "<!-- Generated by graphviz version 2.43.0 (0)\n",
       " -->\n",
       "<!-- Title: Tree Pages: 1 -->\n",
       "<svg width=\"682pt\" height=\"477pt\"\n",
       " viewBox=\"0.00 0.00 682.00 477.00\" xmlns=\"http://www.w3.org/2000/svg\" xmlns:xlink=\"http://www.w3.org/1999/xlink\">\n",
       "<g id=\"graph0\" class=\"graph\" transform=\"scale(1 1) rotate(0) translate(4 473)\">\n",
       "<title>Tree</title>\n",
       "<polygon fill=\"white\" stroke=\"transparent\" points=\"-4,4 -4,-473 678,-473 678,4 -4,4\"/>\n",
       "<!-- 0 -->\n",
       "<g id=\"node1\" class=\"node\">\n",
       "<title>0</title>\n",
       "<polygon fill=\"none\" stroke=\"black\" points=\"520.5,-469 301.5,-469 301.5,-401 520.5,-401 520.5,-469\"/>\n",
       "<text text-anchor=\"middle\" x=\"411\" y=\"-453.8\" font-family=\"Times,serif\" font-size=\"14.00\">Perspective_Couvert &lt;= 0.5</text>\n",
       "<text text-anchor=\"middle\" x=\"411\" y=\"-438.8\" font-family=\"Times,serif\" font-size=\"14.00\">entropy = 0.94</text>\n",
       "<text text-anchor=\"middle\" x=\"411\" y=\"-423.8\" font-family=\"Times,serif\" font-size=\"14.00\">samples = 14</text>\n",
       "<text text-anchor=\"middle\" x=\"411\" y=\"-408.8\" font-family=\"Times,serif\" font-size=\"14.00\">value = [5, 9]</text>\n",
       "</g>\n",
       "<!-- 1 -->\n",
       "<g id=\"node2\" class=\"node\">\n",
       "<title>1</title>\n",
       "<polygon fill=\"none\" stroke=\"black\" points=\"420.5,-365 231.5,-365 231.5,-297 420.5,-297 420.5,-365\"/>\n",
       "<text text-anchor=\"middle\" x=\"326\" y=\"-349.8\" font-family=\"Times,serif\" font-size=\"14.00\">Humidité_Haute &lt;= 0.5</text>\n",
       "<text text-anchor=\"middle\" x=\"326\" y=\"-334.8\" font-family=\"Times,serif\" font-size=\"14.00\">entropy = 1.0</text>\n",
       "<text text-anchor=\"middle\" x=\"326\" y=\"-319.8\" font-family=\"Times,serif\" font-size=\"14.00\">samples = 10</text>\n",
       "<text text-anchor=\"middle\" x=\"326\" y=\"-304.8\" font-family=\"Times,serif\" font-size=\"14.00\">value = [5, 5]</text>\n",
       "</g>\n",
       "<!-- 0&#45;&gt;1 -->\n",
       "<g id=\"edge1\" class=\"edge\">\n",
       "<title>0&#45;&gt;1</title>\n",
       "<path fill=\"none\" stroke=\"black\" d=\"M383.4,-400.88C376.05,-392.07 368.03,-382.43 360.36,-373.24\"/>\n",
       "<polygon fill=\"black\" stroke=\"black\" points=\"362.84,-370.74 353.75,-365.3 357.46,-375.22 362.84,-370.74\"/>\n",
       "<text text-anchor=\"middle\" x=\"351.49\" y=\"-386.5\" font-family=\"Times,serif\" font-size=\"14.00\">True</text>\n",
       "</g>\n",
       "<!-- 12 -->\n",
       "<g id=\"node13\" class=\"node\">\n",
       "<title>12</title>\n",
       "<polygon fill=\"none\" stroke=\"black\" points=\"555,-357.5 439,-357.5 439,-304.5 555,-304.5 555,-357.5\"/>\n",
       "<text text-anchor=\"middle\" x=\"497\" y=\"-342.3\" font-family=\"Times,serif\" font-size=\"14.00\">entropy = 0.0</text>\n",
       "<text text-anchor=\"middle\" x=\"497\" y=\"-327.3\" font-family=\"Times,serif\" font-size=\"14.00\">samples = 4</text>\n",
       "<text text-anchor=\"middle\" x=\"497\" y=\"-312.3\" font-family=\"Times,serif\" font-size=\"14.00\">value = [0, 4]</text>\n",
       "</g>\n",
       "<!-- 0&#45;&gt;12 -->\n",
       "<g id=\"edge12\" class=\"edge\">\n",
       "<title>0&#45;&gt;12</title>\n",
       "<path fill=\"none\" stroke=\"black\" d=\"M438.92,-400.88C448.57,-389.45 459.37,-376.63 469.02,-365.19\"/>\n",
       "<polygon fill=\"black\" stroke=\"black\" points=\"471.71,-367.42 475.48,-357.52 466.36,-362.91 471.71,-367.42\"/>\n",
       "<text text-anchor=\"middle\" x=\"477.6\" y=\"-378.73\" font-family=\"Times,serif\" font-size=\"14.00\">False</text>\n",
       "</g>\n",
       "<!-- 2 -->\n",
       "<g id=\"node3\" class=\"node\">\n",
       "<title>2</title>\n",
       "<polygon fill=\"none\" stroke=\"black\" points=\"302.5,-261 161.5,-261 161.5,-193 302.5,-193 302.5,-261\"/>\n",
       "<text text-anchor=\"middle\" x=\"232\" y=\"-245.8\" font-family=\"Times,serif\" font-size=\"14.00\">Vent_Fort &lt;= 0.5</text>\n",
       "<text text-anchor=\"middle\" x=\"232\" y=\"-230.8\" font-family=\"Times,serif\" font-size=\"14.00\">entropy = 0.722</text>\n",
       "<text text-anchor=\"middle\" x=\"232\" y=\"-215.8\" font-family=\"Times,serif\" font-size=\"14.00\">samples = 5</text>\n",
       "<text text-anchor=\"middle\" x=\"232\" y=\"-200.8\" font-family=\"Times,serif\" font-size=\"14.00\">value = [1, 4]</text>\n",
       "</g>\n",
       "<!-- 1&#45;&gt;2 -->\n",
       "<g id=\"edge2\" class=\"edge\">\n",
       "<title>1&#45;&gt;2</title>\n",
       "<path fill=\"none\" stroke=\"black\" d=\"M295.48,-296.88C287.19,-287.89 278.12,-278.04 269.49,-268.68\"/>\n",
       "<polygon fill=\"black\" stroke=\"black\" points=\"272.04,-266.28 262.69,-261.3 266.89,-271.02 272.04,-266.28\"/>\n",
       "</g>\n",
       "<!-- 7 -->\n",
       "<g id=\"node8\" class=\"node\">\n",
       "<title>7</title>\n",
       "<polygon fill=\"none\" stroke=\"black\" points=\"519,-261 321,-261 321,-193 519,-193 519,-261\"/>\n",
       "<text text-anchor=\"middle\" x=\"420\" y=\"-245.8\" font-family=\"Times,serif\" font-size=\"14.00\">Perspective_Pluie &lt;= 0.5</text>\n",
       "<text text-anchor=\"middle\" x=\"420\" y=\"-230.8\" font-family=\"Times,serif\" font-size=\"14.00\">entropy = 0.722</text>\n",
       "<text text-anchor=\"middle\" x=\"420\" y=\"-215.8\" font-family=\"Times,serif\" font-size=\"14.00\">samples = 5</text>\n",
       "<text text-anchor=\"middle\" x=\"420\" y=\"-200.8\" font-family=\"Times,serif\" font-size=\"14.00\">value = [4, 1]</text>\n",
       "</g>\n",
       "<!-- 1&#45;&gt;7 -->\n",
       "<g id=\"edge7\" class=\"edge\">\n",
       "<title>1&#45;&gt;7</title>\n",
       "<path fill=\"none\" stroke=\"black\" d=\"M356.52,-296.88C364.81,-287.89 373.88,-278.04 382.51,-268.68\"/>\n",
       "<polygon fill=\"black\" stroke=\"black\" points=\"385.11,-271.02 389.31,-261.3 379.96,-266.28 385.11,-271.02\"/>\n",
       "</g>\n",
       "<!-- 3 -->\n",
       "<g id=\"node4\" class=\"node\">\n",
       "<title>3</title>\n",
       "<polygon fill=\"none\" stroke=\"black\" points=\"116,-149.5 0,-149.5 0,-96.5 116,-96.5 116,-149.5\"/>\n",
       "<text text-anchor=\"middle\" x=\"58\" y=\"-134.3\" font-family=\"Times,serif\" font-size=\"14.00\">entropy = 0.0</text>\n",
       "<text text-anchor=\"middle\" x=\"58\" y=\"-119.3\" font-family=\"Times,serif\" font-size=\"14.00\">samples = 3</text>\n",
       "<text text-anchor=\"middle\" x=\"58\" y=\"-104.3\" font-family=\"Times,serif\" font-size=\"14.00\">value = [0, 3]</text>\n",
       "</g>\n",
       "<!-- 2&#45;&gt;3 -->\n",
       "<g id=\"edge3\" class=\"edge\">\n",
       "<title>2&#45;&gt;3</title>\n",
       "<path fill=\"none\" stroke=\"black\" d=\"M175.51,-192.88C154.59,-180.62 130.98,-166.78 110.43,-154.74\"/>\n",
       "<polygon fill=\"black\" stroke=\"black\" points=\"111.93,-151.56 101.53,-149.52 108.39,-157.6 111.93,-151.56\"/>\n",
       "</g>\n",
       "<!-- 4 -->\n",
       "<g id=\"node5\" class=\"node\">\n",
       "<title>4</title>\n",
       "<polygon fill=\"none\" stroke=\"black\" points=\"336,-157 134,-157 134,-89 336,-89 336,-157\"/>\n",
       "<text text-anchor=\"middle\" x=\"235\" y=\"-141.8\" font-family=\"Times,serif\" font-size=\"14.00\">Perspective_Soleil &lt;= 0.5</text>\n",
       "<text text-anchor=\"middle\" x=\"235\" y=\"-126.8\" font-family=\"Times,serif\" font-size=\"14.00\">entropy = 1.0</text>\n",
       "<text text-anchor=\"middle\" x=\"235\" y=\"-111.8\" font-family=\"Times,serif\" font-size=\"14.00\">samples = 2</text>\n",
       "<text text-anchor=\"middle\" x=\"235\" y=\"-96.8\" font-family=\"Times,serif\" font-size=\"14.00\">value = [1, 1]</text>\n",
       "</g>\n",
       "<!-- 2&#45;&gt;4 -->\n",
       "<g id=\"edge4\" class=\"edge\">\n",
       "<title>2&#45;&gt;4</title>\n",
       "<path fill=\"none\" stroke=\"black\" d=\"M232.97,-192.88C233.21,-184.78 233.47,-175.98 233.72,-167.47\"/>\n",
       "<polygon fill=\"black\" stroke=\"black\" points=\"237.23,-167.4 234.02,-157.3 230.23,-167.19 237.23,-167.4\"/>\n",
       "</g>\n",
       "<!-- 5 -->\n",
       "<g id=\"node6\" class=\"node\">\n",
       "<title>5</title>\n",
       "<polygon fill=\"none\" stroke=\"black\" points=\"243,-53 127,-53 127,0 243,0 243,-53\"/>\n",
       "<text text-anchor=\"middle\" x=\"185\" y=\"-37.8\" font-family=\"Times,serif\" font-size=\"14.00\">entropy = 0.0</text>\n",
       "<text text-anchor=\"middle\" x=\"185\" y=\"-22.8\" font-family=\"Times,serif\" font-size=\"14.00\">samples = 1</text>\n",
       "<text text-anchor=\"middle\" x=\"185\" y=\"-7.8\" font-family=\"Times,serif\" font-size=\"14.00\">value = [1, 0]</text>\n",
       "</g>\n",
       "<!-- 4&#45;&gt;5 -->\n",
       "<g id=\"edge5\" class=\"edge\">\n",
       "<title>4&#45;&gt;5</title>\n",
       "<path fill=\"none\" stroke=\"black\" d=\"M217.51,-88.95C212.91,-80.26 207.94,-70.86 203.3,-62.09\"/>\n",
       "<polygon fill=\"black\" stroke=\"black\" points=\"206.39,-60.44 198.62,-53.24 200.2,-63.71 206.39,-60.44\"/>\n",
       "</g>\n",
       "<!-- 6 -->\n",
       "<g id=\"node7\" class=\"node\">\n",
       "<title>6</title>\n",
       "<polygon fill=\"none\" stroke=\"black\" points=\"377,-53 261,-53 261,0 377,0 377,-53\"/>\n",
       "<text text-anchor=\"middle\" x=\"319\" y=\"-37.8\" font-family=\"Times,serif\" font-size=\"14.00\">entropy = 0.0</text>\n",
       "<text text-anchor=\"middle\" x=\"319\" y=\"-22.8\" font-family=\"Times,serif\" font-size=\"14.00\">samples = 1</text>\n",
       "<text text-anchor=\"middle\" x=\"319\" y=\"-7.8\" font-family=\"Times,serif\" font-size=\"14.00\">value = [0, 1]</text>\n",
       "</g>\n",
       "<!-- 4&#45;&gt;6 -->\n",
       "<g id=\"edge6\" class=\"edge\">\n",
       "<title>4&#45;&gt;6</title>\n",
       "<path fill=\"none\" stroke=\"black\" d=\"M264.38,-88.95C272.51,-79.8 281.34,-69.87 289.48,-60.71\"/>\n",
       "<polygon fill=\"black\" stroke=\"black\" points=\"292.1,-63.04 296.12,-53.24 286.86,-58.39 292.1,-63.04\"/>\n",
       "</g>\n",
       "<!-- 8 -->\n",
       "<g id=\"node9\" class=\"node\">\n",
       "<title>8</title>\n",
       "<polygon fill=\"none\" stroke=\"black\" points=\"475,-149.5 359,-149.5 359,-96.5 475,-96.5 475,-149.5\"/>\n",
       "<text text-anchor=\"middle\" x=\"417\" y=\"-134.3\" font-family=\"Times,serif\" font-size=\"14.00\">entropy = 0.0</text>\n",
       "<text text-anchor=\"middle\" x=\"417\" y=\"-119.3\" font-family=\"Times,serif\" font-size=\"14.00\">samples = 3</text>\n",
       "<text text-anchor=\"middle\" x=\"417\" y=\"-104.3\" font-family=\"Times,serif\" font-size=\"14.00\">value = [3, 0]</text>\n",
       "</g>\n",
       "<!-- 7&#45;&gt;8 -->\n",
       "<g id=\"edge8\" class=\"edge\">\n",
       "<title>7&#45;&gt;8</title>\n",
       "<path fill=\"none\" stroke=\"black\" d=\"M419.03,-192.88C418.71,-182.22 418.36,-170.35 418.04,-159.52\"/>\n",
       "<polygon fill=\"black\" stroke=\"black\" points=\"421.54,-159.41 417.75,-149.52 414.55,-159.62 421.54,-159.41\"/>\n",
       "</g>\n",
       "<!-- 9 -->\n",
       "<g id=\"node10\" class=\"node\">\n",
       "<title>9</title>\n",
       "<polygon fill=\"none\" stroke=\"black\" points=\"641,-157 493,-157 493,-89 641,-89 641,-157\"/>\n",
       "<text text-anchor=\"middle\" x=\"567\" y=\"-141.8\" font-family=\"Times,serif\" font-size=\"14.00\">Vent_Doux &lt;= 0.5</text>\n",
       "<text text-anchor=\"middle\" x=\"567\" y=\"-126.8\" font-family=\"Times,serif\" font-size=\"14.00\">entropy = 1.0</text>\n",
       "<text text-anchor=\"middle\" x=\"567\" y=\"-111.8\" font-family=\"Times,serif\" font-size=\"14.00\">samples = 2</text>\n",
       "<text text-anchor=\"middle\" x=\"567\" y=\"-96.8\" font-family=\"Times,serif\" font-size=\"14.00\">value = [1, 1]</text>\n",
       "</g>\n",
       "<!-- 7&#45;&gt;9 -->\n",
       "<g id=\"edge9\" class=\"edge\">\n",
       "<title>7&#45;&gt;9</title>\n",
       "<path fill=\"none\" stroke=\"black\" d=\"M467.73,-192.88C481.53,-183.3 496.73,-172.76 510.99,-162.86\"/>\n",
       "<polygon fill=\"black\" stroke=\"black\" points=\"513.04,-165.7 519.26,-157.12 509.05,-159.95 513.04,-165.7\"/>\n",
       "</g>\n",
       "<!-- 10 -->\n",
       "<g id=\"node11\" class=\"node\">\n",
       "<title>10</title>\n",
       "<polygon fill=\"none\" stroke=\"black\" points=\"540,-53 424,-53 424,0 540,0 540,-53\"/>\n",
       "<text text-anchor=\"middle\" x=\"482\" y=\"-37.8\" font-family=\"Times,serif\" font-size=\"14.00\">entropy = 0.0</text>\n",
       "<text text-anchor=\"middle\" x=\"482\" y=\"-22.8\" font-family=\"Times,serif\" font-size=\"14.00\">samples = 1</text>\n",
       "<text text-anchor=\"middle\" x=\"482\" y=\"-7.8\" font-family=\"Times,serif\" font-size=\"14.00\">value = [1, 0]</text>\n",
       "</g>\n",
       "<!-- 9&#45;&gt;10 -->\n",
       "<g id=\"edge10\" class=\"edge\">\n",
       "<title>9&#45;&gt;10</title>\n",
       "<path fill=\"none\" stroke=\"black\" d=\"M537.27,-88.95C529.04,-79.8 520.11,-69.87 511.87,-60.71\"/>\n",
       "<polygon fill=\"black\" stroke=\"black\" points=\"514.44,-58.33 505.15,-53.24 509.23,-63.01 514.44,-58.33\"/>\n",
       "</g>\n",
       "<!-- 11 -->\n",
       "<g id=\"node12\" class=\"node\">\n",
       "<title>11</title>\n",
       "<polygon fill=\"none\" stroke=\"black\" points=\"674,-53 558,-53 558,0 674,0 674,-53\"/>\n",
       "<text text-anchor=\"middle\" x=\"616\" y=\"-37.8\" font-family=\"Times,serif\" font-size=\"14.00\">entropy = 0.0</text>\n",
       "<text text-anchor=\"middle\" x=\"616\" y=\"-22.8\" font-family=\"Times,serif\" font-size=\"14.00\">samples = 1</text>\n",
       "<text text-anchor=\"middle\" x=\"616\" y=\"-7.8\" font-family=\"Times,serif\" font-size=\"14.00\">value = [0, 1]</text>\n",
       "</g>\n",
       "<!-- 9&#45;&gt;11 -->\n",
       "<g id=\"edge11\" class=\"edge\">\n",
       "<title>9&#45;&gt;11</title>\n",
       "<path fill=\"none\" stroke=\"black\" d=\"M584.14,-88.95C588.6,-80.35 593.41,-71.06 597.92,-62.37\"/>\n",
       "<polygon fill=\"black\" stroke=\"black\" points=\"601.16,-63.73 602.66,-53.24 594.94,-60.5 601.16,-63.73\"/>\n",
       "</g>\n",
       "</g>\n",
       "</svg>\n"
      ],
      "text/plain": [
       "<graphviz.files.Source at 0x7f6104a9b310>"
      ]
     },
     "execution_count": 55,
     "metadata": {},
     "output_type": "execute_result"
    }
   ],
   "source": [
    "graph"
   ]
  },
  {
   "cell_type": "code",
   "execution_count": 56,
   "metadata": {},
   "outputs": [
    {
     "data": {
      "text/plain": [
       "'Td2_dum01Name.pdf'"
      ]
     },
     "execution_count": 56,
     "metadata": {},
     "output_type": "execute_result"
    }
   ],
   "source": [
    "graph.render(\"Td2_dum01Name\")"
   ]
  },
  {
   "cell_type": "markdown",
   "metadata": {},
   "source": [
    "# Exemple 3 "
   ]
  },
  {
   "cell_type": "code",
   "execution_count": 58,
   "metadata": {},
   "outputs": [],
   "source": [
    "balance_data = pd.read_csv('balance-scale.data', sep= ',', header= None)"
   ]
  },
  {
   "cell_type": "code",
   "execution_count": 59,
   "metadata": {},
   "outputs": [
    {
     "data": {
      "text/html": [
       "<div>\n",
       "<style scoped>\n",
       "    .dataframe tbody tr th:only-of-type {\n",
       "        vertical-align: middle;\n",
       "    }\n",
       "\n",
       "    .dataframe tbody tr th {\n",
       "        vertical-align: top;\n",
       "    }\n",
       "\n",
       "    .dataframe thead th {\n",
       "        text-align: right;\n",
       "    }\n",
       "</style>\n",
       "<table border=\"1\" class=\"dataframe\">\n",
       "  <thead>\n",
       "    <tr style=\"text-align: right;\">\n",
       "      <th></th>\n",
       "      <th>0</th>\n",
       "      <th>1</th>\n",
       "      <th>2</th>\n",
       "      <th>3</th>\n",
       "      <th>4</th>\n",
       "    </tr>\n",
       "  </thead>\n",
       "  <tbody>\n",
       "    <tr>\n",
       "      <th>0</th>\n",
       "      <td>B</td>\n",
       "      <td>1</td>\n",
       "      <td>1</td>\n",
       "      <td>1</td>\n",
       "      <td>1</td>\n",
       "    </tr>\n",
       "    <tr>\n",
       "      <th>1</th>\n",
       "      <td>R</td>\n",
       "      <td>1</td>\n",
       "      <td>1</td>\n",
       "      <td>1</td>\n",
       "      <td>2</td>\n",
       "    </tr>\n",
       "    <tr>\n",
       "      <th>2</th>\n",
       "      <td>R</td>\n",
       "      <td>1</td>\n",
       "      <td>1</td>\n",
       "      <td>1</td>\n",
       "      <td>3</td>\n",
       "    </tr>\n",
       "    <tr>\n",
       "      <th>3</th>\n",
       "      <td>R</td>\n",
       "      <td>1</td>\n",
       "      <td>1</td>\n",
       "      <td>1</td>\n",
       "      <td>4</td>\n",
       "    </tr>\n",
       "    <tr>\n",
       "      <th>4</th>\n",
       "      <td>R</td>\n",
       "      <td>1</td>\n",
       "      <td>1</td>\n",
       "      <td>1</td>\n",
       "      <td>5</td>\n",
       "    </tr>\n",
       "    <tr>\n",
       "      <th>...</th>\n",
       "      <td>...</td>\n",
       "      <td>...</td>\n",
       "      <td>...</td>\n",
       "      <td>...</td>\n",
       "      <td>...</td>\n",
       "    </tr>\n",
       "    <tr>\n",
       "      <th>620</th>\n",
       "      <td>L</td>\n",
       "      <td>5</td>\n",
       "      <td>5</td>\n",
       "      <td>5</td>\n",
       "      <td>1</td>\n",
       "    </tr>\n",
       "    <tr>\n",
       "      <th>621</th>\n",
       "      <td>L</td>\n",
       "      <td>5</td>\n",
       "      <td>5</td>\n",
       "      <td>5</td>\n",
       "      <td>2</td>\n",
       "    </tr>\n",
       "    <tr>\n",
       "      <th>622</th>\n",
       "      <td>L</td>\n",
       "      <td>5</td>\n",
       "      <td>5</td>\n",
       "      <td>5</td>\n",
       "      <td>3</td>\n",
       "    </tr>\n",
       "    <tr>\n",
       "      <th>623</th>\n",
       "      <td>L</td>\n",
       "      <td>5</td>\n",
       "      <td>5</td>\n",
       "      <td>5</td>\n",
       "      <td>4</td>\n",
       "    </tr>\n",
       "    <tr>\n",
       "      <th>624</th>\n",
       "      <td>B</td>\n",
       "      <td>5</td>\n",
       "      <td>5</td>\n",
       "      <td>5</td>\n",
       "      <td>5</td>\n",
       "    </tr>\n",
       "  </tbody>\n",
       "</table>\n",
       "<p>625 rows × 5 columns</p>\n",
       "</div>"
      ],
      "text/plain": [
       "     0  1  2  3  4\n",
       "0    B  1  1  1  1\n",
       "1    R  1  1  1  2\n",
       "2    R  1  1  1  3\n",
       "3    R  1  1  1  4\n",
       "4    R  1  1  1  5\n",
       "..  .. .. .. .. ..\n",
       "620  L  5  5  5  1\n",
       "621  L  5  5  5  2\n",
       "622  L  5  5  5  3\n",
       "623  L  5  5  5  4\n",
       "624  B  5  5  5  5\n",
       "\n",
       "[625 rows x 5 columns]"
      ]
     },
     "execution_count": 59,
     "metadata": {},
     "output_type": "execute_result"
    }
   ],
   "source": [
    "balance_data"
   ]
  },
  {
   "cell_type": "code",
   "execution_count": 60,
   "metadata": {},
   "outputs": [],
   "source": [
    "X = balance_data.values[:, 1:5]\n",
    "Y = balance_data.values[:,0]"
   ]
  },
  {
   "cell_type": "code",
   "execution_count": 64,
   "metadata": {},
   "outputs": [],
   "source": [
    "# Provides train/test indices to split data in train/test sets.\n",
    "# Split dataset into 10 consecutive folds\n",
    "kfold = KFold(10, True, 10)"
   ]
  },
  {
   "cell_type": "code",
   "execution_count": 62,
   "metadata": {},
   "outputs": [],
   "source": [
    "# Init ac and accuracy score at 0\n",
    "ac=0.0\n",
    "ac_score=0.0"
   ]
  },
  {
   "cell_type": "code",
   "execution_count": 66,
   "metadata": {},
   "outputs": [
    {
     "name": "stdout",
     "output_type": "stream",
     "text": [
      "Accuracy is  76.19047619047619\n",
      "Accuracy is  73.01587301587301\n",
      "Accuracy is  80.95238095238095\n",
      "Accuracy is  85.71428571428571\n",
      "Accuracy is  77.77777777777779\n",
      "Accuracy is  75.80645161290323\n",
      "Accuracy is  83.87096774193549\n",
      "Accuracy is  79.03225806451613\n",
      "Accuracy is  74.19354838709677\n",
      "Accuracy is  74.19354838709677\n"
     ]
    }
   ],
   "source": [
    "# Calculates the sum of accuracy \n",
    "for train, test in kfold.split(X):\n",
    "    X_train, X_test, y_train, y_test = X[train], X[test], Y[train], Y[test]\n",
    "    clf_entropy.fit(X_train, y_train)\n",
    "    y_pred_en = clf_entropy.predict(X_test)\n",
    "    ac_score=accuracy_score(y_test,y_pred_en)*100\n",
    "    ac=ac+ac_score\n",
    "    print (\"Accuracy is \", ac_score)"
   ]
  },
  {
   "cell_type": "code",
   "execution_count": 67,
   "metadata": {},
   "outputs": [
    {
     "name": "stdout",
     "output_type": "stream",
     "text": [
      "Average Accuracy is  78.0747567844342\n"
     ]
    }
   ],
   "source": [
    "# The average accuracy is sum of accuracy / k (k = 10)\n",
    "ac_avg=ac/10\n",
    "print (\"Average Accuracy is \", ac_avg)"
   ]
  },
  {
   "cell_type": "markdown",
   "metadata": {},
   "source": [
    "# Part 2 "
   ]
  },
  {
   "cell_type": "code",
   "execution_count": null,
   "metadata": {},
   "outputs": [],
   "source": [
    "import numpy as np\n",
    "import pandas as pd\n",
    "from sklearn.model_selection import train_test_split\n",
    "from sklearn.tree import DecisionTreeClassifier\n",
    "from sklearn.metrics import accuracy_score\n",
    "from sklearn import tree\n",
    "balance_data = pd.read_csv('zoo.data', sep= ',', header= None)\n",
    "balance_data.shape\n",
    "X = balance_data.values[:, 1:5]\n",
    "Y = balance_data.values[:,0]\n",
    "X_train, X_test, y_train, y_test = train_test_split( X, Y, test_size = 0.3)\n",
    "clf_entropy = DecisionTreeClassifier(criterion = \"entropy\", max_depth=3,\n",
    "min_samples_leaf=5)\n",
    "clf_entropy.fit(X_train, y_train)\n",
    "y_pred_en = clf_entropy.predict(X_test)\n",
    "print (\"Accuracy is \", accuracy_score(y_test,y_pred_en)*100)\n",
    "\n",
    "Accuracy is  0.0\n",
    "\n",
    "\n",
    "\n",
    "\n",
    "\n",
    "\n",
    "import numpy as np\n",
    "from sklearn import preprocessing\n",
    "import pandas as pd\n",
    " \n",
    "...\n",
    "from sklearn.model_selection import KFold\n",
    "le = preprocessing.LabelEncoder()\n",
    "balance_data = pd.read_csv('zoo.data', sep= ',', header= None)\n",
    "data = balance_data.apply(le.fit_transform)\n",
    "X = data.values[:, 1:5]\n",
    "Y = data.values[:,0]\n",
    "kfold = KFold(10, True, 10)\n",
    "ac=0.0\n",
    "ac_score=0.0\n",
    "for train, test in kfold.split(X):\n",
    " X_train, X_test, y_train, y_test = X[train], X[test], Y[train], Y[test]\n",
    " clf_entropy.fit(X_train, y_train)\n",
    "y_pred_en = clf_entropy.predict(X_test)\n",
    "ac_score=accuracy_score(y_test,y_pred_en)*100\n",
    "ac=ac+ac_score\n",
    "print (\"Accuracy is \", ac_score)\n",
    "ac_avg=ac/10\n",
    "print (\"Average Accuracy is \", ac_avg)\n",
    "\n",
    "\n",
    "\n",
    "import numpy as np\n",
    "from sklearn import preprocessing\n",
    "import pandas as pd\n",
    " \n",
    "...\n",
    "from sklearn.model_selection import KFold\n",
    "le = preprocessing.LabelEncoder()\n",
    "balance_data = pd.read_csv('tic-tac-toe.data', sep= ',', header= None)\n",
    "data = balance_data.apply(le.fit_transform)\n",
    "X = data.values[:, 1:5]\n",
    "Y = data.values[:,0]\n",
    "kfold = KFold(10, True, 10)\n",
    "ac=0.0\n",
    "ac_score=0.0\n",
    "for train, test in kfold.split(X):\n",
    " X_train, X_test, y_train, y_test = X[train], X[test], Y[train], Y[test]\n",
    " clf_entropy.fit(X_train, y_train)\n",
    "y_pred_en = clf_entropy.predict(X_test)\n",
    "ac_score=accuracy_score(y_test,y_pred_en)*100\n",
    "ac=ac+ac_score\n",
    "print (\"Accuracy is \", ac_score)\n",
    "ac_avg=ac/10\n",
    "print (\"Average Accuracy is \", ac_avg)\n",
    "\n",
    "\n",
    "\n",
    "\n",
    "\n",
    "import numpy as np\n",
    "import pandas as pd\n",
    "from sklearn.model_selection import train_test_split\n",
    "from sklearn.tree import DecisionTreeClassifier\n",
    "from sklearn.metrics import accuracy_score\n",
    "from sklearn import tree\n",
    "balance_data = pd.read_csv('zoo.data', sep= ',', header= None)\n",
    "balance_data.shape\n",
    "X = balance_data.values[:, 1:5]\n",
    "print (x)\n",
    "Y = balance_data.values[:,0]\n",
    "print (y)\n",
    " \n",
    "X_train, X_test, y_train, y_test = train_test_split( X, Y, test_size = 0.3)\n",
    "clf_entropy = DecisionTreeClassifier(criterion = \"entropy\", max_depth=3,\n",
    "min_samples_leaf=5)\n",
    "clf_entropy.fit(X_train, y_train)\n",
    "y_pred_en = clf_entropy.predict(X_test)\n",
    "print (\"Accuracy is \", accuracy_score(y_test,y_pred_en)*100)\n",
    "\n",
    "\n",
    "\n",
    "\n",
    "import numpy as np\n",
    "import pandas as pd\n",
    "from sklearn.model_selection import train_test_split\n",
    "from sklearn.tree import DecisionTreeClassifier\n",
    "from sklearn.metrics import accuracy_score\n",
    "from sklearn import tree\n",
    "balance_data = pd.read_csv('tic-tac-toe.data', sep= ',', header= None)\n",
    "balance_data.shape\n",
    "X = balance_data.values[:, 1:5]\n",
    "print (x)\n",
    "Y = balance_data.values[:,0]\n",
    "print (y)\n",
    " \n",
    "X_train, X_test, y_train, y_test = train_test_split( X, Y, test_size = 0.3)\n",
    "clf_entropy = DecisionTreeClassifier(criterion = \"entropy\", max_depth=3,\n",
    "min_samples_leaf=5)\n",
    "clf_entropy.fit(X_train, y_train)\n",
    "y_pred_en = clf_entropy.predict(X_test)\n",
    "print (\"Accuracy is \", accuracy_score(y_test,y_pred_en)*100)\n",
    "\n",
    "\n",
    "import numpy as np\n",
    "...\n",
    "import graphviz\n",
    "Jogging_data=pd.read_csv('car.data', sep=',')\n",
    "y=Jogging_data['Jogging']\n",
    "x=Jogging_data.drop(['Jogging'], axis=1)\n",
    "x_dum=pd.get_dummies(x)\n",
    "x_dum\n",
    "# partiel dummies : sub_dum=pd.get_dummies(x, columns=['Temps', 'Vent'])\n",
    "clf_entropy = DecisionTreeClassifier(criterion = \"entropy\")\n",
    "outputTree=clf_entropy.fit(x_dum, y)\n",
    "dot_data = tree.export_graphviz(outputTree, out_file=None)\n",
    "graph = graphviz.Source(dot_data)\n",
    "graph.render(\"Td2_dum01\")\n",
    "dot_data = tree.export_graphviz(outputTree, out_file=None, feature_names =\n",
    "x_dum.columns)\n",
    "graph = graphviz.Source(dot_data)\n",
    "graph.render(\"Td2_dum01Name\")"
   ]
  }
 ],
 "metadata": {
  "kernelspec": {
   "display_name": "Python 3",
   "language": "python",
   "name": "python3"
  },
  "language_info": {
   "codemirror_mode": {
    "name": "ipython",
    "version": 3
   },
   "file_extension": ".py",
   "mimetype": "text/x-python",
   "name": "python",
   "nbconvert_exporter": "python",
   "pygments_lexer": "ipython3",
   "version": "3.8.5"
  }
 },
 "nbformat": 4,
 "nbformat_minor": 4
}
